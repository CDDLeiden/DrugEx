{
 "cells": [
  {
   "cell_type": "markdown",
   "id": "36debc9f-70a2-4d6b-a314-c59c3599a937",
   "metadata": {},
   "source": [
    "# Finetuning a Pretrained Model\n",
    "\n",
    "The pretrained model usually captures general chemistry rules and as such is best trained on a diverse set of molecules (see [pretraining](./pretraining.ipynb)). However, in drug discovery we usually want to bias such a model to a more focused area of chemical space, which is what happens during finetuning. In this tutorial, we will use the finetuning data sets created [previously](./datasets.ipynb) to bias an already existing model. The pretrained models we will use are already placed in the `jupyter/models/pretrained` folder.\n",
    "\n",
    "## Finetuning a Graph-Based Model\n",
    "\n",
    "The particular model for this tutorial is pretrained on the ChEMBL database (version 27) with its states saved at `jupyter/models/pretrained/graph/chembl27/chembl27_graph.pkg`. However, before we can load its states the model needs to be initialized so we will need the vocabulary of the model first, which is saved alongside it:"
   ]
  },
  {
   "cell_type": "code",
   "execution_count": 15,
   "id": "50811c78-7a6f-4a3d-8325-4c0b8c520e4a",
   "metadata": {},
   "outputs": [],
   "source": [
    "GPUS = [0]\n",
    "EPOCHS = 3"
   ]
  },
  {
   "cell_type": "code",
   "execution_count": 16,
   "id": "674d7d72-51be-4b0d-8bfc-67143541487e",
   "metadata": {},
   "outputs": [
    {
     "data": {
      "text/plain": [
       "<drugex.data.corpus.vocabulary.VocGraph at 0x7fdd98d1d5b0>"
      ]
     },
     "execution_count": 16,
     "metadata": {},
     "output_type": "execute_result"
    }
   ],
   "source": [
    "from drugex.data.corpus.vocabulary import VocGraph\n",
    "\n",
    "vocabulary = VocGraph.fromFile('jupyter/models/pretrained/graph/chembl27/chembl27_graph_voc.txt')\n",
    "vocabulary"
   ]
  },
  {
   "cell_type": "markdown",
   "id": "9849f960-784d-4eef-8f83-5362bc03f2c0",
   "metadata": {},
   "source": [
    "Now we can initialize the model and load the saved states:"
   ]
  },
  {
   "cell_type": "code",
   "execution_count": 17,
   "id": "ab325824-8ea5-448c-a857-84ac12246c16",
   "metadata": {},
   "outputs": [],
   "source": [
    "from drugex.training.models.transform import GraphModel\n",
    "\n",
    "pretrained = GraphModel(voc_trg=vocabulary, use_gpus=GPUS) # attach this model to only the first GPU, but more can be specified\n",
    "pretrained.loadStatesFromFile('jupyter/models/pretrained/graph/chembl27/chembl27_graph.pkg')"
   ]
  },
  {
   "cell_type": "markdown",
   "id": "3c11cba8-1767-4cb5-a433-2f1a7005c864",
   "metadata": {},
   "source": [
    "Next, we need to load our finetuning data we created in the [previous tutorial](datasets.ipynb):"
   ]
  },
  {
   "cell_type": "code",
   "execution_count": 18,
   "id": "6b84a7a9-83b2-4c50-8d87-72823c8f74cb",
   "metadata": {},
   "outputs": [],
   "source": [
    "from drugex.data.datasets import GraphFragDataSet\n",
    "\n",
    "finetuning_data_train = GraphFragDataSet(\"jupyter/data/sets/graph/ligand_train.tsv\")\n",
    "finetuning_data_test = GraphFragDataSet(\"jupyter/data/sets/graph/ligand_test.tsv\")"
   ]
  },
  {
   "cell_type": "markdown",
   "id": "dcca7049-1236-4552-b61b-fc82e976fbe5",
   "metadata": {},
   "source": [
    "We can verify the data has been loaded by converting it to pandas `DataFrame`:"
   ]
  },
  {
   "cell_type": "code",
   "execution_count": 19,
   "id": "716c5539-f31e-416f-b5b1-f03f0c17d12d",
   "metadata": {},
   "outputs": [
    {
     "data": {
      "text/plain": [
       "array([[1, 0, 0, ..., 0, 0, 0],\n",
       "       [1, 0, 0, ..., 0, 0, 0],\n",
       "       [1, 0, 0, ..., 0, 0, 0],\n",
       "       ...,\n",
       "       [1, 0, 0, ..., 0, 0, 0],\n",
       "       [1, 0, 0, ..., 0, 0, 0],\n",
       "       [1, 0, 0, ..., 0, 0, 0]])"
      ]
     },
     "execution_count": 19,
     "metadata": {},
     "output_type": "execute_result"
    }
   ],
   "source": [
    "finetuning_data_train.getData()"
   ]
  },
  {
   "cell_type": "code",
   "execution_count": 20,
   "id": "ab187c01-886e-481f-b5db-1b7f0338bad1",
   "metadata": {},
   "outputs": [
    {
     "data": {
      "text/plain": [
       "array([[1, 0, 0, ..., 0, 0, 0],\n",
       "       [1, 0, 0, ..., 0, 0, 0],\n",
       "       [1, 0, 0, ..., 0, 0, 0],\n",
       "       ...,\n",
       "       [1, 0, 0, ..., 0, 0, 0],\n",
       "       [1, 0, 0, ..., 0, 0, 0],\n",
       "       [1, 0, 0, ..., 0, 0, 0]])"
      ]
     },
     "execution_count": 20,
     "metadata": {},
     "output_type": "execute_result"
    }
   ],
   "source": [
    "finetuning_data_test.getData()"
   ]
  },
  {
   "cell_type": "markdown",
   "id": "5f1db42d-85df-430f-b437-2fe09a606bf1",
   "metadata": {},
   "source": [
    "Finally, we can proceed to finetuning the model (note that we need to transform the `DataSet` to `DataLoader` and specify the batch size):"
   ]
  },
  {
   "cell_type": "code",
   "execution_count": 25,
   "id": "33534989-134d-4dfb-a645-619b87255d1c",
   "metadata": {},
   "outputs": [
    {
     "name": "stderr",
     "output_type": "stream",
     "text": [
      "Fitting model: 100%|██████████| 3/3 [00:41<00:00, 13.88s/it]"
     ]
    },
    {
     "name": "stdout",
     "output_type": "stream",
     "text": [
      "Finetuning done.\n"
     ]
    },
    {
     "name": "stderr",
     "output_type": "stream",
     "text": [
      "\n"
     ]
    }
   ],
   "source": [
    "from drugex.training.monitors import FileMonitor\n",
    "import pandas as pd\n",
    "import numpy as np\n",
    "\n",
    "monitor = FileMonitor('jupyter/models/finetuned/graph/chembl_ligand', verbose=True)\n",
    "pretrained.fit(\n",
    "    finetuning_data_train.asDataLoader(128), # create the data loader and specify the batch size\n",
    "    finetuning_data_test.asDataLoader(128), \n",
    "    epochs=3, # only 3 epochs to make things faster\n",
    "    monitor=monitor\n",
    ")\n",
    "\n",
    "print(\"Finetuning done.\")"
   ]
  },
  {
   "cell_type": "markdown",
   "id": "de1f8caa-4ad0-4b62-8387-5075184bfb21",
   "metadata": {},
   "source": [
    "If you want to follow the training progress, you can periodically check the `data/models/finetuned/chembl_ligand_fit.log` file that is created by the `FileMonitor` along with other files and also the states of the best performing model. The `FileMonitor` is useful when you want to analyze the data generating during training later. You can load these files easily as pandas data frames:"
   ]
  },
  {
   "cell_type": "code",
   "execution_count": 26,
   "id": "2d05e800-fdd1-4e65-8fd7-0cb2fc1c6777",
   "metadata": {},
   "outputs": [
    {
     "data": {
      "text/html": [
       "<div>\n",
       "<style scoped>\n",
       "    .dataframe tbody tr th:only-of-type {\n",
       "        vertical-align: middle;\n",
       "    }\n",
       "\n",
       "    .dataframe tbody tr th {\n",
       "        vertical-align: top;\n",
       "    }\n",
       "\n",
       "    .dataframe thead th {\n",
       "        text-align: right;\n",
       "    }\n",
       "</style>\n",
       "<table border=\"1\" class=\"dataframe\">\n",
       "  <thead>\n",
       "    <tr style=\"text-align: right;\">\n",
       "      <th></th>\n",
       "      <th>epoch</th>\n",
       "      <th>loss_train</th>\n",
       "      <th>loss_valid</th>\n",
       "      <th>valid_ratio</th>\n",
       "      <th>unique_ratio</th>\n",
       "      <th>desire_ratio</th>\n",
       "      <th>mean_train_loss</th>\n",
       "    </tr>\n",
       "  </thead>\n",
       "  <tbody>\n",
       "    <tr>\n",
       "      <th>0</th>\n",
       "      <td>1</td>\n",
       "      <td>NaN</td>\n",
       "      <td>2.702629</td>\n",
       "      <td>1.0</td>\n",
       "      <td>NaN</td>\n",
       "      <td>0.990431</td>\n",
       "      <td>1.426907</td>\n",
       "    </tr>\n",
       "    <tr>\n",
       "      <th>1</th>\n",
       "      <td>2</td>\n",
       "      <td>NaN</td>\n",
       "      <td>2.415267</td>\n",
       "      <td>1.0</td>\n",
       "      <td>NaN</td>\n",
       "      <td>0.995215</td>\n",
       "      <td>1.258194</td>\n",
       "    </tr>\n",
       "    <tr>\n",
       "      <th>2</th>\n",
       "      <td>3</td>\n",
       "      <td>NaN</td>\n",
       "      <td>2.170367</td>\n",
       "      <td>1.0</td>\n",
       "      <td>NaN</td>\n",
       "      <td>1.000000</td>\n",
       "      <td>1.124571</td>\n",
       "    </tr>\n",
       "  </tbody>\n",
       "</table>\n",
       "</div>"
      ],
      "text/plain": [
       "   epoch  loss_train  loss_valid  valid_ratio  unique_ratio  desire_ratio  \\\n",
       "0      1         NaN    2.702629          1.0           NaN      0.990431   \n",
       "1      2         NaN    2.415267          1.0           NaN      0.995215   \n",
       "2      3         NaN    2.170367          1.0           NaN      1.000000   \n",
       "\n",
       "   mean_train_loss  \n",
       "0         1.426907  \n",
       "1         1.258194  \n",
       "2         1.124571  "
      ]
     },
     "execution_count": 26,
     "metadata": {},
     "output_type": "execute_result"
    }
   ],
   "source": [
    "# training summary with mean training loss and validation loss\n",
    "df_info = pd.read_csv('jupyter/models/finetuned/graph/chembl_ligand_fit.tsv', sep='\\t')\n",
    "df_info"
   ]
  },
  {
   "cell_type": "code",
   "execution_count": 24,
   "id": "ef7a67ad-5e37-4b63-be0b-fd0174048b0b",
   "metadata": {},
   "outputs": [
    {
     "data": {
      "text/html": [
       "<div>\n",
       "<style scoped>\n",
       "    .dataframe tbody tr th:only-of-type {\n",
       "        vertical-align: middle;\n",
       "    }\n",
       "\n",
       "    .dataframe tbody tr th {\n",
       "        vertical-align: top;\n",
       "    }\n",
       "\n",
       "    .dataframe thead th {\n",
       "        text-align: right;\n",
       "    }\n",
       "</style>\n",
       "<table border=\"1\" class=\"dataframe\">\n",
       "  <thead>\n",
       "    <tr style=\"text-align: right;\">\n",
       "      <th></th>\n",
       "      <th>SMILES</th>\n",
       "      <th>Valid</th>\n",
       "      <th>Desire</th>\n",
       "      <th>Frags</th>\n",
       "      <th>Epoch</th>\n",
       "    </tr>\n",
       "  </thead>\n",
       "  <tbody>\n",
       "    <tr>\n",
       "      <th>0</th>\n",
       "      <td>Nc1nc(-c2cc(NC(=O)Cc3ccc(F)cc3)c(F)cc2F)nc2nc(...</td>\n",
       "      <td>1.0</td>\n",
       "      <td>1.0</td>\n",
       "      <td>C1CCNC1.Fc1cccc(F)c1.Nc1ncnc2ncnn12</td>\n",
       "      <td>1</td>\n",
       "    </tr>\n",
       "    <tr>\n",
       "      <th>1</th>\n",
       "      <td>C#CCNC(=O)C(CCC(=O)O)NC(=O)Cc1cnc(-c2cccc(Cl)c...</td>\n",
       "      <td>1.0</td>\n",
       "      <td>1.0</td>\n",
       "      <td>Clc1ccccc1</td>\n",
       "      <td>1</td>\n",
       "    </tr>\n",
       "    <tr>\n",
       "      <th>2</th>\n",
       "      <td>NCCC1CCCSC1=O</td>\n",
       "      <td>1.0</td>\n",
       "      <td>1.0</td>\n",
       "      <td>O=CS</td>\n",
       "      <td>1</td>\n",
       "    </tr>\n",
       "    <tr>\n",
       "      <th>3</th>\n",
       "      <td>O=c1c2cc(I)cc(CO)c2c(=O)n2c3ccc(-c4ccc(-c5cccc...</td>\n",
       "      <td>1.0</td>\n",
       "      <td>1.0</td>\n",
       "      <td>c1ccnnc1</td>\n",
       "      <td>1</td>\n",
       "    </tr>\n",
       "    <tr>\n",
       "      <th>4</th>\n",
       "      <td>CC(C)(C)C(Cc1ccc(Cl)cc1)N1CCN(c2ccccc2C#N)CC1</td>\n",
       "      <td>1.0</td>\n",
       "      <td>1.0</td>\n",
       "      <td>C1CNCCN1.CCC.Clc1ccccc1</td>\n",
       "      <td>1</td>\n",
       "    </tr>\n",
       "  </tbody>\n",
       "</table>\n",
       "</div>"
      ],
      "text/plain": [
       "                                              SMILES  Valid  Desire  \\\n",
       "0  Nc1nc(-c2cc(NC(=O)Cc3ccc(F)cc3)c(F)cc2F)nc2nc(...    1.0     1.0   \n",
       "1  C#CCNC(=O)C(CCC(=O)O)NC(=O)Cc1cnc(-c2cccc(Cl)c...    1.0     1.0   \n",
       "2                                      NCCC1CCCSC1=O    1.0     1.0   \n",
       "3  O=c1c2cc(I)cc(CO)c2c(=O)n2c3ccc(-c4ccc(-c5cccc...    1.0     1.0   \n",
       "4      CC(C)(C)C(Cc1ccc(Cl)cc1)N1CCN(c2ccccc2C#N)CC1    1.0     1.0   \n",
       "\n",
       "                                 Frags  Epoch  \n",
       "0  C1CCNC1.Fc1cccc(F)c1.Nc1ncnc2ncnn12      1  \n",
       "1                           Clc1ccccc1      1  \n",
       "2                                 O=CS      1  \n",
       "3                             c1ccnnc1      1  \n",
       "4              C1CNCCN1.CCC.Clc1ccccc1      1  "
      ]
     },
     "execution_count": 24,
     "metadata": {},
     "output_type": "execute_result"
    }
   ],
   "source": [
    "# smiles generated at each epoch from the validation set and the input fragment(s) used to generate each\n",
    "df_smiles = pd.read_csv('jupyter/models/finetuned/graph/chembl_ligand_smiles.tsv', sep='\\t')\n",
    "df_smiles.head()"
   ]
  },
  {
   "cell_type": "markdown",
   "id": "7252b0f0-9a32-460d-8ac2-4e164839e82b",
   "metadata": {},
   "source": [
    "With these data, we can easily generate a model performance plot for each epoch:"
   ]
  },
  {
   "cell_type": "code",
   "execution_count": 10,
   "id": "190a5576-97c5-4dff-8d7e-f73a130707bd",
   "metadata": {},
   "outputs": [
    {
     "data": {
      "text/plain": [
       "<AxesSubplot:>"
      ]
     },
     "execution_count": 10,
     "metadata": {},
     "output_type": "execute_result"
    },
    {
     "data": {
      "image/png": "[encoded data removed]",
      "text/plain": [
       "<Figure size 432x288 with 1 Axes>"
      ]
     },
     "metadata": {
      "needs_background": "light"
     },
     "output_type": "display_data"
    }
   ],
   "source": [
    "df_info[['mean_train_loss', 'loss_valid']].plot.line()"
   ]
  },
  {
   "cell_type": "markdown",
   "id": "24ab89fd-13d8-4a08-92f5-f051cf73ce38",
   "metadata": {},
   "source": [
    "The monitor also enables us to get the best model's states for initialization of a new instance for generation or another round of finetuning:"
   ]
  },
  {
   "cell_type": "code",
   "execution_count": 11,
   "id": "aa72cf96-cb73-4249-8b89-ba28825f0d44",
   "metadata": {},
   "outputs": [
    {
     "data": {
      "text/plain": [
       "tensor([[-0.0205, -0.0666, -0.0142,  ...,  0.0925,  0.0784,  0.0773],\n",
       "        [ 0.0902,  0.0458, -0.0819,  ..., -0.0799,  0.0197,  0.0698],\n",
       "        [ 0.0079, -0.0163,  0.0373,  ..., -0.0541,  0.0064, -0.0043],\n",
       "        ...,\n",
       "        [ 0.0149, -0.0912,  0.1480,  ...,  0.0100,  0.0516, -0.0902],\n",
       "        [ 0.1013,  0.1127, -0.1173,  ...,  0.2811, -0.1796, -0.0870],\n",
       "        [ 0.1036, -0.0346,  0.0283,  ..., -0.0144, -0.0385, -0.1008]],\n",
       "       device='cuda:0')"
      ]
     },
     "execution_count": 11,
     "metadata": {},
     "output_type": "execute_result"
    }
   ],
   "source": [
    "ft_model = monitor.getModel()\n",
    "ft_model['emb_word.weight']"
   ]
  },
  {
   "cell_type": "code",
   "execution_count": 12,
   "id": "b82d6630-b4e6-4651-9c55-c7fa6f903c8c",
   "metadata": {},
   "outputs": [
    {
     "data": {
      "text/plain": [
       "<All keys matched successfully>"
      ]
     },
     "execution_count": 12,
     "metadata": {},
     "output_type": "execute_result"
    }
   ],
   "source": [
    "other_model = GraphModel(voc_trg=vocabulary)\n",
    "other_model.load_state_dict(ft_model)"
   ]
  },
  {
   "cell_type": "markdown",
   "id": "dffba80c-e36e-4e43-90f6-8575137517f0",
   "metadata": {},
   "source": [
    "For consistency, we will also save the used vocabulary with the model so that we can always initialize it exactly the way we did during finetuning:"
   ]
  },
  {
   "cell_type": "code",
   "execution_count": 27,
   "id": "ff94625f-c596-4e9e-935c-e934971e2713",
   "metadata": {},
   "outputs": [],
   "source": [
    "vocabulary.toFile('jupyter/models/finetuned/graph/ligand_finetuned.vocab')"
   ]
  }
 ],
 "metadata": {
  "kernelspec": {
   "display_name": "Python 3.9.10 ('drugex')",
   "language": "python",
   "name": "python3"
  },
  "language_info": {
   "codemirror_mode": {
    "name": "ipython",
    "version": 3
   },
   "file_extension": ".py",
   "mimetype": "text/x-python",
   "name": "python",
   "nbconvert_exporter": "python",
   "pygments_lexer": "ipython3",
   "version": "3.9.0"
  },
  "vscode": {
   "interpreter": {
    "hash": "ef81fe45658a01b36c04e8781b27ee7fe5dfd900e647858145273f3ccfb8752d"
   }
  }
 },
 "nbformat": 4,
 "nbformat_minor": 5
}
