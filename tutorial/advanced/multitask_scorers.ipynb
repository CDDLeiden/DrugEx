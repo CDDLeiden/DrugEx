{
 "cells": [
  {
   "cell_type": "markdown",
   "metadata": {},
   "source": [
    "# Multi-task scorers\n",
    "The scorers in the reinforcement learning framework described in the previous notebook are designed to work with a single task.\n",
    "Multiple scorers can be added to the environment to handle multiple tasks.\n",
    "However, we can also design a single scorer that can handle multiple tasks, which can, for example, be useful when the\n",
    "task share preprocessing steps or when we have a trained multi-task model that takes a molecule as input and returns multiple outputs.\n",
    "In this notebook, we will show how you can implement such a multi-task scorer. Moreover, we will show how you can use the QSPRpredScorer with multi-task models and attached applicability domain predictions."
   ]
  },
  {
   "cell_type": "markdown",
   "metadata": {},
   "source": [
    "## Implementing a multi-task scorer"
   ]
  },
  {
   "cell_type": "markdown",
   "metadata": {},
   "source": [
    "### recap: Implementing a scorer\n",
    "First, let's briefly recap how to implement your own scorer as described in the [sequence RNN tutorial](../Sequence-RNN.ipynb).\n",
    "The scorer should be a class that inherits from `Scorer` and implements the `getScores` and `getKey` methods shown below."
   ]
  },
  {
   "cell_type": "code",
   "execution_count": 6,
   "metadata": {},
   "outputs": [
    {
     "name": "stdout",
     "output_type": "stream",
     "text": [
      "[0, 0]\n",
      "DummyName\n"
     ]
    }
   ],
   "source": [
    "from drugex.training.scorers.interfaces import Scorer\n",
    "\n",
    "class ModelScorer(Scorer):\n",
    "    \n",
    "    def __init__(self, *args, **kwargs):\n",
    "        super().__init__()\n",
    "        pass\n",
    "    \n",
    "    def getScores(self, mols, frags=None):\n",
    "        \"\"\"\n",
    "        Processes molecules and returns a score for each (i.e. a QSAR model prediction).\n",
    "        \"\"\"\n",
    "        \n",
    "        return [0] * len(mols) # just return zero for all molecules for the sake of example\n",
    "    \n",
    "    def getKey(self):\n",
    "        \"\"\"\n",
    "        Unique Identifier among all the scoring functions used in a single environment.\n",
    "        \"\"\"\n",
    "        \n",
    "        return \"DummyName\"\n",
    "    \n",
    "dummy_scorer = ModelScorer()\n",
    "print(dummy_scorer.getScores([\"CCO\", \"CCN\"])) # [0, 0]\n",
    "print(dummy_scorer.getKey()) # ScorerName"
   ]
  },
  {
   "cell_type": "markdown",
   "metadata": {},
   "source": [
    "One or more Scorer instances can then be used in a DrugEx reinforcement learning environment to evaluate the performance of a model:"
   ]
  },
  {
   "cell_type": "code",
   "execution_count": 7,
   "metadata": {},
   "outputs": [
    {
     "data": {
      "text/html": [
       "<div>\n",
       "<style scoped>\n",
       "    .dataframe tbody tr th:only-of-type {\n",
       "        vertical-align: middle;\n",
       "    }\n",
       "\n",
       "    .dataframe tbody tr th {\n",
       "        vertical-align: top;\n",
       "    }\n",
       "\n",
       "    .dataframe thead th {\n",
       "        text-align: right;\n",
       "    }\n",
       "</style>\n",
       "<table border=\"1\" class=\"dataframe\">\n",
       "  <thead>\n",
       "    <tr style=\"text-align: right;\">\n",
       "      <th></th>\n",
       "      <th>Valid</th>\n",
       "      <th>DummyName</th>\n",
       "      <th>Desired</th>\n",
       "    </tr>\n",
       "  </thead>\n",
       "  <tbody>\n",
       "    <tr>\n",
       "      <th>0</th>\n",
       "      <td>1.0</td>\n",
       "      <td>0</td>\n",
       "      <td>0</td>\n",
       "    </tr>\n",
       "    <tr>\n",
       "      <th>1</th>\n",
       "      <td>1.0</td>\n",
       "      <td>0</td>\n",
       "      <td>0</td>\n",
       "    </tr>\n",
       "  </tbody>\n",
       "</table>\n",
       "</div>"
      ],
      "text/plain": [
       "   Valid  DummyName  Desired\n",
       "0    1.0          0        0\n",
       "1    1.0          0        0"
      ]
     },
     "execution_count": 7,
     "metadata": {},
     "output_type": "execute_result"
    }
   ],
   "source": [
    "from drugex.training.environment import DrugExEnvironment\n",
    "from drugex.training.rewards import ParetoCrowdingDistance\n",
    "\n",
    "scorers = [\n",
    "    dummy_scorer\n",
    "]\n",
    "thresholds = [\n",
    "    0.5,\n",
    "]\n",
    "\n",
    "environment = DrugExEnvironment(scorers, thresholds, reward_scheme=ParetoCrowdingDistance())\n",
    "\n",
    "environment.getScores([\"CCO\", \"CCN\"])"
   ]
  },
  {
   "cell_type": "markdown",
   "metadata": {},
   "source": [
    "### Implementing a multi-task scorer\n",
    "To implement a multi-task scorer, we can simply implement a scorer that returns multiple scores.\n",
    "This scorer should also inherit from `Scorer` and implement the `getScores` and `getKey` methods.\n",
    "The `getScores` method should return a numpy array with the scores for each task. The `getKey` method should return a list of keys that correspond to the tasks."
   ]
  },
  {
   "cell_type": "code",
   "execution_count": 13,
   "metadata": {},
   "outputs": [
    {
     "name": "stdout",
     "output_type": "stream",
     "text": [
      "[[0 1]\n",
      " [0 1]]\n",
      "['DummyName1', 'DummyName2']\n"
     ]
    }
   ],
   "source": [
    "import numpy as np\n",
    "\n",
    "class MultitaskScorer(Scorer):\n",
    "    \n",
    "    def __init__(self, *args, **kwargs):\n",
    "        super().__init__()\n",
    "        pass\n",
    "    \n",
    "    def getScores(self, mols, frags=None):\n",
    "        \"\"\"\n",
    "        Processes molecules and returns a score for each (i.e. a QSAR model prediction).\n",
    "        \"\"\"\n",
    "        \n",
    "        return np.array([[0, 1]] * len(mols)) # return a 2D array with two scores (0 and 1) for each molecule\n",
    "    \n",
    "    def getKey(self):\n",
    "        \"\"\"\n",
    "        Unique Identifier among all the scoring functions used in a single environment.\n",
    "        \"\"\"\n",
    "        \n",
    "        return [\"DummyName1\", \"DummyName2\"]\n",
    "    \n",
    "dummy_multitask_scorer = MultitaskScorer()\n",
    "print(dummy_multitask_scorer.getScores([\"CCO\", \"CCN\"])) # [0, 0]\n",
    "print(dummy_multitask_scorer.getKey()) # ScorerName"
   ]
  },
  {
   "cell_type": "markdown",
   "metadata": {},
   "source": [
    "Modifiers can also be added in the same way as for single-task scorers, but the `setModifier` method should be passed a list of modifiers, one for each task."
   ]
  },
  {
   "cell_type": "code",
   "execution_count": 14,
   "metadata": {},
   "outputs": [],
   "source": [
    "from drugex.training.scorers.modifiers import ClippedScore\n",
    "\n",
    "dummy_multitask_scorer.setModifier([ClippedScore(lower_x=0.2, upper_x=0.8), ClippedScore(lower_x=0.2, upper_x=0.8)])"
   ]
  },
  {
   "cell_type": "markdown",
   "metadata": {},
   "source": [
    "Finally, creating the environment with the multi-task scorer is the same as for single-task scorers.\n",
    "Make sure to add a threshold for each task."
   ]
  },
  {
   "cell_type": "code",
   "execution_count": 15,
   "metadata": {},
   "outputs": [
    {
     "data": {
      "text/html": [
       "<div>\n",
       "<style scoped>\n",
       "    .dataframe tbody tr th:only-of-type {\n",
       "        vertical-align: middle;\n",
       "    }\n",
       "\n",
       "    .dataframe tbody tr th {\n",
       "        vertical-align: top;\n",
       "    }\n",
       "\n",
       "    .dataframe thead th {\n",
       "        text-align: right;\n",
       "    }\n",
       "</style>\n",
       "<table border=\"1\" class=\"dataframe\">\n",
       "  <thead>\n",
       "    <tr style=\"text-align: right;\">\n",
       "      <th></th>\n",
       "      <th>Valid</th>\n",
       "      <th>DummyName</th>\n",
       "      <th>DummyName1</th>\n",
       "      <th>DummyName2</th>\n",
       "      <th>Desired</th>\n",
       "    </tr>\n",
       "  </thead>\n",
       "  <tbody>\n",
       "    <tr>\n",
       "      <th>0</th>\n",
       "      <td>1.0</td>\n",
       "      <td>0</td>\n",
       "      <td>0</td>\n",
       "      <td>1</td>\n",
       "      <td>0</td>\n",
       "    </tr>\n",
       "    <tr>\n",
       "      <th>1</th>\n",
       "      <td>1.0</td>\n",
       "      <td>0</td>\n",
       "      <td>0</td>\n",
       "      <td>1</td>\n",
       "      <td>0</td>\n",
       "    </tr>\n",
       "  </tbody>\n",
       "</table>\n",
       "</div>"
      ],
      "text/plain": [
       "   Valid  DummyName  DummyName1  DummyName2  Desired\n",
       "0    1.0          0           0           1        0\n",
       "1    1.0          0           0           1        0"
      ]
     },
     "execution_count": 15,
     "metadata": {},
     "output_type": "execute_result"
    }
   ],
   "source": [
    "from drugex.training.environment import DrugExEnvironment\n",
    "from drugex.training.rewards import ParetoCrowdingDistance\n",
    "\n",
    "scorers = [\n",
    "    dummy_scorer,\n",
    "    dummy_multitask_scorer\n",
    "]\n",
    "thresholds = [\n",
    "    0.5,\n",
    "    0.3,\n",
    "    0.4\n",
    "]\n",
    "\n",
    "environment = DrugExEnvironment(scorers, thresholds, reward_scheme=ParetoCrowdingDistance())\n",
    "\n",
    "environment.getScores([\"CCO\", \"CCN\"])"
   ]
  },
  {
   "cell_type": "markdown",
   "metadata": {},
   "source": [
    "## Special case: QSPRpredScorer with multi-task/multi-class models and applicability domain predictions"
   ]
  },
  {
   "cell_type": "markdown",
   "metadata": {},
   "source": [
    "### Multi-task modelling\n",
    "We can also use a multi-task QSPRpredScorer within DrugEx.\n",
    "Here we first load a multi-task model that predicts pChemBl values for the A1, A2A, A2B, and A3 adenosine receptor subtypes."
   ]
  },
  {
   "cell_type": "code",
   "execution_count": 7,
   "metadata": {},
   "outputs": [
    {
     "data": {
      "text/plain": [
       "array([[6.94141125, 6.81195176, 7.010821  , 6.57044983],\n",
       "       [6.93735704, 6.81614159, 7.01081618, 6.57156469]])"
      ]
     },
     "execution_count": 7,
     "metadata": {},
     "output_type": "execute_result"
    }
   ],
   "source": [
    "from qsprpred.models.scikit_learn import SklearnModel\n",
    "\n",
    "predictor = SklearnModel(\n",
    "    name='AR_RandomForestMultiTaskRegressor',\n",
    "    base_dir='../data/models/qsar'\n",
    ")\n",
    "\n",
    "predictor.predictMols([\"CCO\", \"CCN\"])"
   ]
  },
  {
   "cell_type": "markdown",
   "metadata": {},
   "source": [
    "The QSPRpredScorer with the multi-task model can be intialized the same as a single-task model."
   ]
  },
  {
   "cell_type": "code",
   "execution_count": 9,
   "metadata": {},
   "outputs": [
    {
     "name": "stdout",
     "output_type": "stream",
     "text": [
      "[[6.94141125 6.81195176 7.010821   6.57044983]\n",
      " [6.93735704 6.81614159 7.01081618 6.57156469]]\n",
      "['QSPRpred_AR_RF_reg_P0DMS8', 'QSPRpred_AR_RF_reg_P29274', 'QSPRpred_AR_RF_reg_P29275', 'QSPRpred_AR_RF_reg_P30542']\n"
     ]
    }
   ],
   "source": [
    "from drugex.training.scorers.qsprpred import QSPRPredScorer\n",
    "\n",
    "qsprpred_scorer = QSPRPredScorer(predictor)\n",
    "\n",
    "print(qsprpred_scorer.getScores([\"CCO\", \"CCN\"]))\n",
    "print(qsprpred_scorer.getKey())"
   ]
  },
  {
   "cell_type": "markdown",
   "metadata": {},
   "source": [
    "Alternatively, we can select any number of tasks from the multi-task model that we want to use for scoring."
   ]
  },
  {
   "cell_type": "code",
   "execution_count": 11,
   "metadata": {},
   "outputs": [
    {
     "name": "stdout",
     "output_type": "stream",
     "text": [
      "[[6.81195176 7.010821  ]\n",
      " [6.81614159 7.01081618]]\n",
      "['QSPRpred_AR_RF_reg_P29274', 'QSPRpred_AR_RF_reg_P29275']\n"
     ]
    }
   ],
   "source": [
    "from drugex.training.scorers.qsprpred import QSPRPredScorer\n",
    "\n",
    "qsprpred_scorer = QSPRPredScorer(predictor, multi_task=[\"P29274\", \"P29275\"])\n",
    "\n",
    "print(qsprpred_scorer.getScores([\"CCO\", \"CCN\"]))\n",
    "print(qsprpred_scorer.getKey())"
   ]
  },
  {
   "cell_type": "markdown",
   "metadata": {},
   "source": [
    "By default a score of 0 is returned for invalid molecules, but we can also set the `invalids_score` parameter to a different value per task.\n"
   ]
  },
  {
   "cell_type": "code",
   "execution_count": 12,
   "metadata": {},
   "outputs": [
    {
     "name": "stdout",
     "output_type": "stream",
     "text": [
      "[[6.94141125 6.81195176 7.010821   6.57044983]\n",
      " [6.93735704 6.81614159 7.01081618 6.57156469]\n",
      " [0.         3.5        6.7        0.        ]]\n"
     ]
    }
   ],
   "source": [
    "from drugex.training.scorers.qsprpred import QSPRPredScorer\n",
    "\n",
    "qsprpred_scorer = QSPRPredScorer(predictor, invalids_score=[0.0, 3.5, 6.7, 0.0])\n",
    "\n",
    "print(qsprpred_scorer.getScores([\"CCO\", \"CCN\", \"XXX\"]))"
   ]
  },
  {
   "cell_type": "markdown",
   "metadata": {},
   "source": [
    "### Multi-class modelling\n",
    "In addition to multi-task regression tasks, we can also return multiple classes as separate tasks. "
   ]
  },
  {
   "cell_type": "code",
   "execution_count": 1,
   "metadata": {},
   "outputs": [
    {
     "name": "stdout",
     "output_type": "stream",
     "text": [
      "[[1]\n",
      " [1]]\n",
      "[array([[0.15852085, 0.49896536, 0.34251379],\n",
      "       [0.13512813, 0.47490139, 0.38997048]])]\n"
     ]
    }
   ],
   "source": [
    "from qsprpred.models.scikit_learn import SklearnModel\n",
    "\n",
    "predictor = SklearnModel(\n",
    "    name='A2AR_RandomForestMultiClassClassifier',\n",
    "    base_dir='../data/models/qsar'\n",
    ")\n",
    "\n",
    "print(predictor.predictMols([\"CCO\", \"CCN\"]))\n",
    "print(predictor.predictMols([\"CCO\", \"CCN\"], use_probas=True))"
   ]
  },
  {
   "cell_type": "markdown",
   "metadata": {},
   "source": [
    "By default the QSPRpredScorer will return the class probabilities for each class as a score, except in the single-class case where only the probability of the positive class is returned."
   ]
  },
  {
   "cell_type": "code",
   "execution_count": 17,
   "metadata": {},
   "outputs": [
    {
     "name": "stdout",
     "output_type": "stream",
     "text": [
      "[[0.15852085 0.49896536 0.34251379]\n",
      " [0.13512813 0.47490139 0.38997048]]\n",
      "['QSPRpred_A2AR_RF_multicls_0', 'QSPRpred_A2AR_RF_multicls_1', 'QSPRpred_A2AR_RF_multicls_2']\n"
     ]
    }
   ],
   "source": [
    "from drugex.training.scorers.qsprpred import QSPRPredScorer\n",
    "\n",
    "qsprpred_scorer = QSPRPredScorer(predictor)\n",
    "\n",
    "print(qsprpred_scorer.getScores([\"CCO\", \"CCN\"]))\n",
    "print(qsprpred_scorer.getKey())"
   ]
  },
  {
   "cell_type": "markdown",
   "metadata": {},
   "source": [
    "It is also possible to return the class predictions by setting the use_probas parameter to False."
   ]
  },
  {
   "cell_type": "code",
   "execution_count": 18,
   "metadata": {},
   "outputs": [
    {
     "name": "stdout",
     "output_type": "stream",
     "text": [
      "[1. 1.]\n",
      "QSPRpred_A2AR_RF_multicls\n"
     ]
    }
   ],
   "source": [
    "from drugex.training.scorers.qsprpred import QSPRPredScorer\n",
    "\n",
    "qsprpred_scorer = QSPRPredScorer(predictor, use_probas=False)\n",
    "\n",
    "print(qsprpred_scorer.getScores([\"CCO\", \"CCN\"]))\n",
    "print(qsprpred_scorer.getKey())"
   ]
  },
  {
   "cell_type": "markdown",
   "metadata": {},
   "source": [
    "Finally as with the multi-task regression case, we can select any number of classes from the multi-class model that we want to use for scoring."
   ]
  },
  {
   "cell_type": "code",
   "execution_count": 19,
   "metadata": {},
   "outputs": [
    {
     "name": "stdout",
     "output_type": "stream",
     "text": [
      "[[0.49896536 0.34251379]\n",
      " [0.47490139 0.38997048]]\n",
      "['QSPRpred_A2AR_RF_multicls_1', 'QSPRpred_A2AR_RF_multicls_2']\n"
     ]
    }
   ],
   "source": [
    "from drugex.training.scorers.qsprpred import QSPRPredScorer\n",
    "\n",
    "qsprpred_scorer = QSPRPredScorer(predictor, multi_class=[1,2])\n",
    "\n",
    "print(qsprpred_scorer.getScores([\"CCO\", \"CCN\"]))\n",
    "print(qsprpred_scorer.getKey())"
   ]
  },
  {
   "cell_type": "markdown",
   "metadata": {},
   "source": [
    "### Applicability domain predictions\n",
    "\n",
    "If the QSPRpred model has an applicability domain attached, the applicability domain predictions can also be used within DrugEx.\n",
    "\n",
    "Our example predictor does not have an attached applicability domain, so we will quickly add a dummy applicability domain to demonstrate how this can be used."
   ]
  },
  {
   "cell_type": "code",
   "execution_count": 3,
   "metadata": {},
   "outputs": [
    {
     "data": {
      "text/plain": [
       "(array([[1],\n",
       "        [1]]),\n",
       " array([[ True],\n",
       "        [False]]))"
      ]
     },
     "execution_count": 3,
     "metadata": {},
     "output_type": "execute_result"
    }
   ],
   "source": [
    "import pandas as pd\n",
    "import numpy as np\n",
    "\n",
    "class dummyAD():            \n",
    "    # returns half of the molecules as outliers\n",
    "    def contains(self, mols):\n",
    "        return pd.DataFrame(np.array([True if i % 2 == 0 else False for i in range(len(mols))]).reshape(-1, 1))\n",
    "\n",
    "dummy_ad = dummyAD()\n",
    "\n",
    "predictor.applicabilityDomain = dummy_ad\n",
    "\n",
    "predictor.predictMols([\"CCO\", \"CCN\"], use_applicability_domain=True)"
   ]
  },
  {
   "cell_type": "markdown",
   "metadata": {},
   "source": [
    "We can then set the `app_domain` parameter to `True`, to return the applicability domain predictions as a seperate task."
   ]
  },
  {
   "cell_type": "code",
   "execution_count": 4,
   "metadata": {},
   "outputs": [
    {
     "name": "stdout",
     "output_type": "stream",
     "text": [
      "[[0.15852085 0.49896536 0.34251379 1.        ]\n",
      " [0.13512813 0.47490139 0.38997048 0.        ]]\n",
      "['QSPRpred_A2AR_RF_multicls_0', 'QSPRpred_A2AR_RF_multicls_1', 'QSPRpred_A2AR_RF_multicls_2', 'QSPRpred_A2AR_RF_multicls_app_domain']\n"
     ]
    }
   ],
   "source": [
    "from drugex.training.scorers.qsprpred import QSPRPredScorer\n",
    "\n",
    "qsprpred_scorer = QSPRPredScorer(predictor, app_domain=True)\n",
    "\n",
    "print(qsprpred_scorer.getScores([\"CCO\", \"CCN\"]))\n",
    "print(qsprpred_scorer.getKey())"
   ]
  },
  {
   "cell_type": "markdown",
   "metadata": {},
   "source": [
    "Alternatively, we can set the `app_domain` parameter to `invalid` to assign molecules that are outside the applicability domain the specified `invalids_score`."
   ]
  },
  {
   "cell_type": "code",
   "execution_count": 5,
   "metadata": {},
   "outputs": [
    {
     "name": "stdout",
     "output_type": "stream",
     "text": [
      "[[0.15852085 0.49896536 0.34251379]\n",
      " [0.         0.         0.        ]]\n",
      "['QSPRpred_A2AR_RF_multicls_0', 'QSPRpred_A2AR_RF_multicls_1', 'QSPRpred_A2AR_RF_multicls_2']\n"
     ]
    }
   ],
   "source": [
    "from drugex.training.scorers.qsprpred import QSPRPredScorer\n",
    "\n",
    "qsprpred_scorer = QSPRPredScorer(predictor, app_domain='invalid')\n",
    "\n",
    "print(qsprpred_scorer.getScores([\"CCO\", \"CCN\"]))\n",
    "print(qsprpred_scorer.getKey())"
   ]
  }
 ],
 "metadata": {
  "kernelspec": {
   "display_name": "drugex",
   "language": "python",
   "name": "python3"
  },
  "language_info": {
   "codemirror_mode": {
    "name": "ipython",
    "version": 3
   },
   "file_extension": ".py",
   "mimetype": "text/x-python",
   "name": "python",
   "nbconvert_exporter": "python",
   "pygments_lexer": "ipython3",
   "version": "3.10.14"
  }
 },
 "nbformat": 4,
 "nbformat_minor": 2
}
