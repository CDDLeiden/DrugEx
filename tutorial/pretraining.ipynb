{
 "cells": [
  {
   "cell_type": "markdown",
   "id": "8f89a9dd-cb8b-487d-a13a-5b3d963de356",
   "metadata": {},
   "source": [
    "# Pretraining Models\n",
    "\n",
    "TODO"
   ]
  },
  {
   "cell_type": "markdown",
   "id": "f9b18e2f-490f-459f-a20f-f37041984c41",
   "metadata": {},
   "source": [
    "## Pretraining the Graph-Based Transformer\n",
    "\n",
    "TODO"
   ]
  },
  {
   "cell_type": "code",
   "execution_count": 1,
   "id": "dce82c6d-d43d-40ea-8b99-b396a9e3df99",
   "metadata": {},
   "outputs": [],
   "source": [
    "import pandas as pd\n",
    "\n",
    "N_PROC = 12\n",
    "MAX_MOLS = int(1e6)"
   ]
  },
  {
   "cell_type": "code",
   "execution_count": 2,
   "id": "6aec3de7-d771-4bb1-97fc-4e04a76be9c0",
   "metadata": {},
   "outputs": [
    {
     "data": {
      "text/plain": [
       "(1000000,)"
      ]
     },
     "execution_count": 2,
     "metadata": {},
     "output_type": "execute_result"
    }
   ],
   "source": [
    "smiles = pd.read_table('jupyter/data/chembl_30_ALL.smi', sep='\\t', header=0, usecols=('Smiles',)).squeeze('columns').sample(MAX_MOLS)\n",
    "smiles.shape"
   ]
  },
  {
   "cell_type": "code",
   "execution_count": 3,
   "id": "4ac56d0c-d172-457c-a9c1-20bb9d00ae8d",
   "metadata": {},
   "outputs": [
    {
     "name": "stderr",
     "output_type": "stream",
     "text": [
      "/home/martin/miniconda3/envs/drugex/lib/python3.9/site-packages/tqdm/auto.py:22: TqdmWarning: IProgress not found. Please update jupyter and ipywidgets. See https://ipywidgets.readthedocs.io/en/stable/user_install.html\n",
      "  from .autonotebook import tqdm as notebook_tqdm\n"
     ]
    }
   ],
   "source": [
    "from utils import initLogger\n",
    "\n",
    "initLogger('pretraining_graph.log')"
   ]
  },
  {
   "cell_type": "code",
   "execution_count": 4,
   "id": "a8bba710-ca8c-4297-b604-694f8d2191d5",
   "metadata": {},
   "outputs": [
    {
     "name": "stderr",
     "output_type": "stream",
     "text": [
      "Standardizing molecules (batch processing): 100%|██████████| 21/21 [03:28<00:00,  9.93s/it]\n"
     ]
    },
    {
     "data": {
      "text/plain": [
       "1000000"
      ]
     },
     "execution_count": 4,
     "metadata": {},
     "output_type": "execute_result"
    }
   ],
   "source": [
    "from drugex.data.processing import Standardization\n",
    "\n",
    "standardizer = Standardization(n_proc=N_PROC)\n",
    "smiles = standardizer.apply(smiles)\n",
    "len(smiles)"
   ]
  },
  {
   "cell_type": "code",
   "execution_count": 1,
   "id": "0f882d80-dbbf-423b-aec9-18483d94d27c",
   "metadata": {},
   "outputs": [
    {
     "name": "stderr",
     "output_type": "stream",
     "text": [
      "/home/martin/miniconda3/envs/drugex/lib/python3.9/site-packages/tqdm/auto.py:22: TqdmWarning: IProgress not found. Please update jupyter and ipywidgets. See https://ipywidgets.readthedocs.io/en/stable/user_install.html\n",
      "  from .autonotebook import tqdm as notebook_tqdm\n"
     ]
    }
   ],
   "source": [
    "from drugex.data.datasets import GraphFragDataSet\n",
    "import os\n",
    "\n",
    "graph_input_folder = \"data/sets/graph/pretraining\"\n",
    "if not os.path.exists(graph_input_folder):\n",
    "    os.makedirs(graph_input_folder)\n",
    "\n",
    "train = GraphFragDataSet(f\"{graph_input_folder}/chembl30_train.tsv\", rewrite=False)\n",
    "test = GraphFragDataSet(f\"{graph_input_folder}/chembl30_test.tsv\", rewrite=False)"
   ]
  },
  {
   "cell_type": "code",
   "execution_count": 8,
   "id": "4e1575aa-ed66-4273-b7ea-e499cdc21bd4",
   "metadata": {},
   "outputs": [
    {
     "name": "stderr",
     "output_type": "stream",
     "text": [
      "Creating fragment-molecule pairs (batch processing): 100%|██████████| 42/42 [22:48<00:00, 32.59s/it]\n",
      "Encoding fragment-molecule pairs. (batch processing): 100%|██████████| 1/1 [00:02<00:00,  2.21s/it]\n",
      "Encoding fragment-molecule pairs. (batch processing): 100%|██████████| 277/277 [33:17<00:00,  7.21s/it]\n"
     ]
    }
   ],
   "source": [
    "from drugex.data.fragments import FragmentCorpusEncoder\n",
    "from drugex.data.fragments import GraphFragmentEncoder, FragmentPairsSplitter\n",
    "from drugex.molecules.converters.fragmenters import Fragmenter\n",
    "from drugex.data.corpus.vocabulary import VocGraph\n",
    "\n",
    "vocabulary = VocGraph(n_frags=4)\n",
    "encoder = FragmentCorpusEncoder(\n",
    "    fragmenter=Fragmenter(4, 4, 'brics'),\n",
    "    encoder=GraphFragmentEncoder(\n",
    "        vocabulary\n",
    "    ),\n",
    "    pairs_splitter=FragmentPairsSplitter(0.1, 1000, make_unique=False),\n",
    "    n_proc=N_PROC,\n",
    "    chunk_size=500\n",
    ")\n",
    "\n",
    "encoder.apply(smiles, encodingCollectors=[test, train])"
   ]
  },
  {
   "cell_type": "code",
   "execution_count": null,
   "id": "896a3272-1682-4bf2-b5b6-eb46a84ebaa4",
   "metadata": {},
   "outputs": [
    {
     "name": "stdout",
     "output_type": "stream",
     "text": [
      "(3, 4, 5)\n"
     ]
    },
    {
     "name": "stderr",
     "output_type": "stream",
     "text": [
      "  2%|▏         | 2/100 [5:03:20<247:40:07, 9098.04s/it]"
     ]
    }
   ],
   "source": [
    "from drugex.training.models.transform.gpt2graph import GraphModel\n",
    "from drugex.data.corpus.vocabulary import VocGraph\n",
    "from utils import SimpleMonitor\n",
    "\n",
    "vocabulary = VocGraph(n_frags=4)\n",
    "model = GraphModel(voc_trg=vocabulary, use_gpus=(3,4,5))\n",
    "print(model.gpus)\n",
    "monitor = SimpleMonitor('data/models/pretrained/graph/chembl_pretrained')\n",
    "model.fit(test.asDataLoader(512), train.asDataLoader(512), monitor=monitor)"
   ]
  },
  {
   "cell_type": "code",
   "execution_count": null,
   "id": "5fa805cf-dcdc-43ca-8d04-a99424651372",
   "metadata": {},
   "outputs": [],
   "source": []
  }
 ],
 "metadata": {
  "kernelspec": {
   "display_name": "Python 3.9.7 64-bit",
   "language": "python",
   "name": "python3"
  },
  "language_info": {
   "codemirror_mode": {
    "name": "ipython",
    "version": 3
   },
   "file_extension": ".py",
   "mimetype": "text/x-python",
   "name": "python",
   "nbconvert_exporter": "python",
   "pygments_lexer": "ipython3",
   "version": "3.9.7"
  },
  "vscode": {
   "interpreter": {
    "hash": "f9f85f796d01129d0dd105a088854619f454435301f6ffec2fea96ecbd9be4ac"
   }
  }
 },
 "nbformat": 4,
 "nbformat_minor": 5
}
