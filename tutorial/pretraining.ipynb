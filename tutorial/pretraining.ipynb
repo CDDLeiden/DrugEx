{
 "cells": [
  {
   "cell_type": "markdown",
   "id": "8f89a9dd-cb8b-487d-a13a-5b3d963de356",
   "metadata": {},
   "source": [
    "# Pretraining Models\n",
    "\n",
    "TODO"
   ]
  },
  {
   "cell_type": "markdown",
   "id": "f9b18e2f-490f-459f-a20f-f37041984c41",
   "metadata": {},
   "source": [
    "## Pretraining the Graph-Based Transformer\n",
    "\n",
    "TODO"
   ]
  },
  {
   "cell_type": "code",
   "execution_count": 1,
   "id": "dce82c6d-d43d-40ea-8b99-b396a9e3df99",
   "metadata": {},
   "outputs": [],
   "source": [
    "import pandas as pd\n",
    "\n",
    "N_PROC = 12\n",
    "MAX_MOLS = 10000\n",
    "USE_GPUS = (2,3,4)\n",
    "N_EPOCHS = 20"
   ]
  },
  {
   "cell_type": "code",
   "execution_count": 2,
   "id": "6aec3de7-d771-4bb1-97fc-4e04a76be9c0",
   "metadata": {},
   "outputs": [
    {
     "data": {
      "text/plain": [
       "(10000,)"
      ]
     },
     "execution_count": 2,
     "metadata": {},
     "output_type": "execute_result"
    }
   ],
   "source": [
    "smiles = pd.read_table('jupyter/data/chembl_30_ALL.smi', sep='\\t', header=0, usecols=('Smiles',)).squeeze('columns').sample(MAX_MOLS)\n",
    "smiles.shape"
   ]
  },
  {
   "cell_type": "code",
   "execution_count": 3,
   "id": "4ac56d0c-d172-457c-a9c1-20bb9d00ae8d",
   "metadata": {},
   "outputs": [
    {
     "name": "stderr",
     "output_type": "stream",
     "text": [
      "/home/martin/miniconda3/envs/drugex/lib/python3.9/site-packages/tqdm/auto.py:22: TqdmWarning: IProgress not found. Please update jupyter and ipywidgets. See https://ipywidgets.readthedocs.io/en/stable/user_install.html\n",
      "  from .autonotebook import tqdm as notebook_tqdm\n"
     ]
    }
   ],
   "source": [
    "from utils import initLogger\n",
    "\n",
    "initLogger('pretraining_graph.log')"
   ]
  },
  {
   "cell_type": "code",
   "execution_count": 4,
   "id": "a8bba710-ca8c-4297-b604-694f8d2191d5",
   "metadata": {},
   "outputs": [
    {
     "name": "stderr",
     "output_type": "stream",
     "text": [
      "Standardizing molecules (batch processing): 100%|██████████| 1/1 [00:02<00:00,  2.62s/it]\n"
     ]
    },
    {
     "data": {
      "text/plain": [
       "10000"
      ]
     },
     "execution_count": 4,
     "metadata": {},
     "output_type": "execute_result"
    }
   ],
   "source": [
    "from drugex.data.processing import Standardization\n",
    "\n",
    "standardizer = Standardization(n_proc=N_PROC)\n",
    "smiles = standardizer.apply(smiles)\n",
    "len(smiles)"
   ]
  },
  {
   "cell_type": "code",
   "execution_count": 5,
   "id": "0f882d80-dbbf-423b-aec9-18483d94d27c",
   "metadata": {},
   "outputs": [],
   "source": [
    "from drugex.data.datasets import GraphFragDataSet\n",
    "import os\n",
    "\n",
    "graph_input_folder = \"data/sets/graph/pretraining\"\n",
    "if not os.path.exists(graph_input_folder):\n",
    "    os.makedirs(graph_input_folder)\n",
    "\n",
    "train = GraphFragDataSet(f\"{graph_input_folder}/chembl30_train.tsv\", rewrite=True)\n",
    "test = GraphFragDataSet(f\"{graph_input_folder}/chembl30_test.tsv\", rewrite=True)"
   ]
  },
  {
   "cell_type": "code",
   "execution_count": 6,
   "id": "4e1575aa-ed66-4273-b7ea-e499cdc21bd4",
   "metadata": {},
   "outputs": [
    {
     "name": "stderr",
     "output_type": "stream",
     "text": [
      "Creating fragment-molecule pairs (batch processing): 100%|██████████| 1/1 [00:12<00:00, 12.35s/it]\n",
      "Encoding fragment-molecule pairs. (batch processing): 100%|██████████| 1/1 [00:01<00:00,  1.82s/it]\n",
      "Encoding fragment-molecule pairs. (batch processing): 100%|██████████| 3/3 [00:17<00:00,  5.82s/it]\n"
     ]
    }
   ],
   "source": [
    "from drugex.data.fragments import FragmentCorpusEncoder\n",
    "from drugex.data.fragments import GraphFragmentEncoder, FragmentPairsSplitter\n",
    "from drugex.molecules.converters.fragmenters import Fragmenter\n",
    "from drugex.data.corpus.vocabulary import VocGraph\n",
    "\n",
    "vocabulary = VocGraph(n_frags=4)\n",
    "encoder = FragmentCorpusEncoder(\n",
    "    fragmenter=Fragmenter(4, 4, 'brics'),\n",
    "    encoder=GraphFragmentEncoder(\n",
    "        vocabulary\n",
    "    ),\n",
    "    pairs_splitter=FragmentPairsSplitter(0.1, 1000, make_unique=False),\n",
    "    n_proc=N_PROC,\n",
    "    chunk_size=500\n",
    ")\n",
    "\n",
    "encoder.apply(smiles, encodingCollectors=[test, train])"
   ]
  },
  {
   "cell_type": "code",
   "execution_count": 7,
   "id": "896a3272-1682-4bf2-b5b6-eb46a84ebaa4",
   "metadata": {},
   "outputs": [],
   "source": [
    "from drugex.training.models.transform.gpt2graph import GraphModel\n",
    "from drugex.data.corpus.vocabulary import VocGraph\n",
    "from drugex.training.monitors import FileMonitor\n",
    "\n",
    "vocabulary = VocGraph(n_frags=4)\n",
    "model = GraphModel(voc_trg=vocabulary, use_gpus=USE_GPUS)\n",
    "monitor = FileMonitor(f'data/models/pretrained/graph/chembl_sample_{MAX_MOLS}', verbose=True)"
   ]
  },
  {
   "cell_type": "code",
   "execution_count": null,
   "id": "2ec0d3f6-ee29-4620-98db-2741425d0617",
   "metadata": {},
   "outputs": [
    {
     "name": "stderr",
     "output_type": "stream",
     "text": [
      "  0%|          | 0/20 [00:00<?, ?it/s]"
     ]
    }
   ],
   "source": [
    "model.fit(train.asDataLoader(512), test.asDataLoader(512), monitor=monitor, epochs=N_EPOCHS)"
   ]
  },
  {
   "cell_type": "code",
   "execution_count": null,
   "id": "87ec89df-d523-444d-9835-329246269111",
   "metadata": {},
   "outputs": [],
   "source": [
    "df_info = pd.read_table(monitor.outDF)\n",
    "df_info"
   ]
  },
  {
   "cell_type": "code",
   "execution_count": null,
   "id": "1cf7327a-5df6-411f-8a0f-1bad336b6152",
   "metadata": {},
   "outputs": [],
   "source": [
    "df_info[['loss_valid', 'mean_train_loss']].plot.line()"
   ]
  },
  {
   "cell_type": "code",
   "execution_count": null,
   "id": "5fa805cf-dcdc-43ca-8d04-a99424651372",
   "metadata": {},
   "outputs": [],
   "source": [
    "df_smiles = pd.read_table(monitor.outSmiles)\n",
    "df_smiles"
   ]
  },
  {
   "cell_type": "code",
   "execution_count": null,
   "id": "e14e2daa-fcf9-4b06-9220-2521f38be14e",
   "metadata": {},
   "outputs": [],
   "source": [
    "from utils import smilesToGrid\n",
    "\n",
    "smilesToGrid(df_smiles[df_smiles['Epoch'] % 5 == 0]['SMILES'])"
   ]
  },
  {
   "cell_type": "code",
   "execution_count": null,
   "id": "48d969a5-6855-4155-b79e-215d7e187ac4",
   "metadata": {},
   "outputs": [],
   "source": [
    "from drugex.training.models.transform.gpt2graph import GraphModel\n",
    "\n",
    "pretrained = GraphModel(voc_trg=vocabulary, use_gpus=USE_GPUS)\n",
    "pretrained.loadStatesFromFile(f'{monitor.path}.pkg')"
   ]
  },
  {
   "cell_type": "code",
   "execution_count": null,
   "id": "ec3bc3af-bc4a-41ee-b76a-f3ea316b5941",
   "metadata": {},
   "outputs": [],
   "source": [
    "inputs = [\n",
    "    \"c1ccncc1CC2CC2\",\n",
    "    \"CC2CC2\",\n",
    "]\n",
    "\n",
    "smiles, frags = pretrained.sampleFromSmiles(inputs, min_samples=100)\n",
    "set(frags)"
   ]
  },
  {
   "cell_type": "code",
   "execution_count": null,
   "id": "c100b123-7ec2-48ec-b957-f437d76f859f",
   "metadata": {},
   "outputs": [],
   "source": [
    "smilesToGrid(smiles)"
   ]
  },
  {
   "cell_type": "code",
   "execution_count": null,
   "id": "6e14eb70-c69e-4b15-9a36-b79588b3144d",
   "metadata": {},
   "outputs": [],
   "source": []
  }
 ],
 "metadata": {
  "kernelspec": {
   "display_name": "Python 3 (ipykernel)",
   "language": "python",
   "name": "python3"
  },
  "language_info": {
   "codemirror_mode": {
    "name": "ipython",
    "version": 3
   },
   "file_extension": ".py",
   "mimetype": "text/x-python",
   "name": "python",
   "nbconvert_exporter": "python",
   "pygments_lexer": "ipython3",
   "version": "3.9.12"
  }
 },
 "nbformat": 4,
 "nbformat_minor": 5
}
