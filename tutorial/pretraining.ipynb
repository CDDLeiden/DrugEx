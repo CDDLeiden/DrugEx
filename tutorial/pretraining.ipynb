{
 "cells": [
  {
   "cell_type": "markdown",
   "id": "8f89a9dd-cb8b-487d-a13a-5b3d963de356",
   "metadata": {},
   "source": [
    "# Pretraining Models\n",
    "\n",
    "TODO"
   ]
  },
  {
   "cell_type": "markdown",
   "id": "f9b18e2f-490f-459f-a20f-f37041984c41",
   "metadata": {},
   "source": [
    "## Pretraining the Graph-Based Transformer\n",
    "\n",
    "TODO"
   ]
  },
  {
   "cell_type": "code",
   "execution_count": 1,
   "id": "dce82c6d-d43d-40ea-8b99-b396a9e3df99",
   "metadata": {},
   "outputs": [],
   "source": [
    "import pandas as pd\n",
    "\n",
    "N_PROC = 12\n",
    "MAX_MOLS = 100\n",
    "GPUS=[0]\n",
    "EPOCHS=3"
   ]
  },
  {
   "cell_type": "code",
   "execution_count": 2,
   "id": "6aec3de7-d771-4bb1-97fc-4e04a76be9c0",
   "metadata": {},
   "outputs": [
    {
     "data": {
      "text/plain": [
       "(100,)"
      ]
     },
     "execution_count": 2,
     "metadata": {},
     "output_type": "execute_result"
    }
   ],
   "source": [
    "smiles = pd.read_table('jupyter/data/chembl_30_ALL.smi', sep='\\t', header=0, usecols=('Smiles',)).squeeze('columns').sample(MAX_MOLS)\n",
    "smiles.shape"
   ]
  },
  {
   "cell_type": "code",
   "execution_count": 3,
   "id": "4ac56d0c-d172-457c-a9c1-20bb9d00ae8d",
   "metadata": {},
   "outputs": [],
   "source": [
    "from utils import initLogger\n",
    "\n",
    "initLogger('pretraining_graph.log')"
   ]
  },
  {
   "cell_type": "code",
   "execution_count": 4,
   "id": "a8bba710-ca8c-4297-b604-694f8d2191d5",
   "metadata": {},
   "outputs": [
    {
     "data": {
      "application/vnd.jupyter.widget-view+json": {
       "model_id": "4c0d82d07ebe4db7940ac655269ddc87",
       "version_major": 2,
       "version_minor": 0
      },
      "text/plain": [
       "Standardizing molecules (batch processing):   0%|          | 0/1 [00:00<?, ?it/s]"
      ]
     },
     "metadata": {},
     "output_type": "display_data"
    },
    {
     "data": {
      "text/plain": [
       "100"
      ]
     },
     "execution_count": 4,
     "metadata": {},
     "output_type": "execute_result"
    }
   ],
   "source": [
    "from drugex.data.processing import Standardization\n",
    "\n",
    "standardizer = Standardization(n_proc=N_PROC)\n",
    "smiles = standardizer.apply(smiles)\n",
    "len(smiles)"
   ]
  },
  {
   "cell_type": "code",
   "execution_count": 5,
   "id": "0f882d80-dbbf-423b-aec9-18483d94d27c",
   "metadata": {},
   "outputs": [],
   "source": [
    "from drugex.data.datasets import GraphFragDataSet\n",
    "import os\n",
    "\n",
    "graph_input_folder = \"data/sets/graph/pretraining\"\n",
    "if not os.path.exists(graph_input_folder):\n",
    "    os.makedirs(graph_input_folder)\n",
    "\n",
    "train = GraphFragDataSet(f\"{graph_input_folder}/chembl30_train.tsv\", rewrite=False)\n",
    "test = GraphFragDataSet(f\"{graph_input_folder}/chembl30_test.tsv\", rewrite=False)"
   ]
  },
  {
   "cell_type": "code",
   "execution_count": 6,
   "id": "4e1575aa-ed66-4273-b7ea-e499cdc21bd4",
   "metadata": {},
   "outputs": [
    {
     "data": {
      "application/vnd.jupyter.widget-view+json": {
       "model_id": "cafa52f4c7a04fc48e42b5aa33754b8e",
       "version_major": 2,
       "version_minor": 0
      },
      "text/plain": [
       "Creating fragment-molecule pairs (batch processing):   0%|          | 0/1 [00:00<?, ?it/s]"
      ]
     },
     "metadata": {},
     "output_type": "display_data"
    },
    {
     "data": {
      "application/vnd.jupyter.widget-view+json": {
       "model_id": "5d16b5d35dc24995a25a6aadaebce2c1",
       "version_major": 2,
       "version_minor": 0
      },
      "text/plain": [
       "Encoding fragment-molecule pairs. (batch processing):   0%|          | 0/1 [00:00<?, ?it/s]"
      ]
     },
     "metadata": {},
     "output_type": "display_data"
    },
    {
     "data": {
      "application/vnd.jupyter.widget-view+json": {
       "model_id": "3b35f89ac89147d28e0a728b60873528",
       "version_major": 2,
       "version_minor": 0
      },
      "text/plain": [
       "Encoding fragment-molecule pairs. (batch processing):   0%|          | 0/1 [00:00<?, ?it/s]"
      ]
     },
     "metadata": {},
     "output_type": "display_data"
    }
   ],
   "source": [
    "from drugex.data.fragments import FragmentCorpusEncoder\n",
    "from drugex.data.fragments import GraphFragmentEncoder, FragmentPairsSplitter\n",
    "from drugex.molecules.converters.fragmenters import Fragmenter\n",
    "from drugex.data.corpus.vocabulary import VocGraph\n",
    "\n",
    "vocabulary = VocGraph(n_frags=4)\n",
    "encoder = FragmentCorpusEncoder(\n",
    "    fragmenter=Fragmenter(4, 4, 'brics'),\n",
    "    encoder=GraphFragmentEncoder(\n",
    "        vocabulary\n",
    "    ),\n",
    "    pairs_splitter=FragmentPairsSplitter(0.1, 1000, make_unique=False),\n",
    "    n_proc=N_PROC,\n",
    "    chunk_size=500\n",
    ")\n",
    "\n",
    "encoder.apply(smiles, encodingCollectors=[test, train])"
   ]
  },
  {
   "cell_type": "code",
   "execution_count": 7,
   "id": "896a3272-1682-4bf2-b5b6-eb46a84ebaa4",
   "metadata": {},
   "outputs": [
    {
     "name": "stdout",
     "output_type": "stream",
     "text": [
      "[0]\n"
     ]
    },
    {
     "data": {
      "application/vnd.jupyter.widget-view+json": {
       "model_id": "b9e56a4249144af4973f798bc7f70623",
       "version_major": 2,
       "version_minor": 0
      },
      "text/plain": [
       "Fitting model:   0%|          | 0/3 [00:00<?, ?it/s]"
      ]
     },
     "metadata": {},
     "output_type": "display_data"
    },
    {
     "data": {
      "application/vnd.jupyter.widget-view+json": {
       "model_id": "",
       "version_major": 2,
       "version_minor": 0
      },
      "text/plain": [
       "Iterating over training batches:   0%|          | 0/1 [00:00<?, ?it/s]"
      ]
     },
     "metadata": {},
     "output_type": "display_data"
    },
    {
     "data": {
      "application/vnd.jupyter.widget-view+json": {
       "model_id": "",
       "version_major": 2,
       "version_minor": 0
      },
      "text/plain": [
       "Iterating over validation batches:   0%|          | 0/4 [00:00<?, ?it/s]"
      ]
     },
     "metadata": {},
     "output_type": "display_data"
    },
    {
     "name": "stdout",
     "output_type": "stream",
     "text": [
      "tensor([[ 1,  0,  0,  0,  1],\n",
      "        [ 5,  0,  0,  0,  1],\n",
      "        [ 5,  1,  0,  1,  1],\n",
      "        [ 8,  2,  1,  1,  1],\n",
      "        [ 5,  3,  2,  1,  1],\n",
      "        [ 2,  4,  3,  2,  1],\n",
      "        [ 5,  5,  3,  1,  1],\n",
      "        [ 5,  6,  5,  1,  1],\n",
      "        [ 5,  7,  6,  2,  1],\n",
      "        [ 5,  8,  7,  1,  1],\n",
      "        [ 5,  9,  8,  2,  1],\n",
      "        [ 5, 10,  9,  1,  1],\n",
      "        [ 5, 11,  2,  1,  1],\n",
      "        [39, 11,  6,  1,  1],\n",
      "        [39, 11, 10,  2,  1],\n",
      "        [ 5, 12, 12,  0,  2],\n",
      "        [ 5, 13, 12,  2,  2],\n",
      "        [ 5, 14, 13,  1,  2],\n",
      "        [ 5, 15, 14,  2,  2],\n",
      "        [12, 16, 15,  1,  2],\n",
      "        [ 8, 17, 16,  1,  2],\n",
      "        [ 5, 18, 17,  2,  2],\n",
      "        [ 5, 19, 15,  1,  2],\n",
      "        [39, 19, 18,  1,  2],\n",
      "        [ 5, 20, 12,  1,  2],\n",
      "        [39, 20, 19,  2,  2],\n",
      "        [14, 21,  0,  3,  0],\n",
      "        [13, 22, 18,  1,  0],\n",
      "        [38, 23,  5,  1,  0],\n",
      "        [ 4, 24, 23,  1,  0],\n",
      "        [17, 25,  7,  1,  0],\n",
      "        [16, 26, 20,  1,  0],\n",
      "        [17, 27, 10,  1,  0],\n",
      "        [22, 28, 22,  1,  0],\n",
      "        [20, 29, 26,  3,  0],\n",
      "        [17, 30,  9,  1,  0],\n",
      "        [34, 31, 22,  3,  0],\n",
      "        [ 9, 32,  1,  1,  0],\n",
      "        [28, 33, 32,  2,  0],\n",
      "        [38, 34,  1,  1,  0],\n",
      "        [15, 35, 32,  1,  0],\n",
      "        [ 3, 36, 35,  1,  0],\n",
      "        [ 3, 37, 22,  1,  0],\n",
      "        [ 6, 38, 36,  1,  0],\n",
      "        [17, 39, 29,  1,  0],\n",
      "        [13, 40, 34,  1,  0],\n",
      "        [20, 41, 40,  3,  0],\n",
      "        [17, 42, 34,  1,  0],\n",
      "        [18, 43, 14,  1,  0],\n",
      "        [20, 44, 40,  2,  0],\n",
      "        [15, 45, 33,  2,  0],\n",
      "        [17, 46, 41,  1,  0],\n",
      "        [ 3, 47, 44,  3,  0],\n",
      "        [27, 48, 38,  2,  0],\n",
      "        [ 4, 49,  5,  1,  0],\n",
      "        [ 9, 50, 26,  1,  0],\n",
      "        [ 9, 51, 45,  1,  0],\n",
      "        [39, 51, 23,  1,  0],\n",
      "        [ 3, 52, 29,  1,  0],\n",
      "        [14, 53, 50,  3,  0],\n",
      "        [14, 54, 37,  2,  0],\n",
      "        [20, 55, 52,  2,  0],\n",
      "        [11, 56,  8,  1,  0],\n",
      "        [15, 57, 48,  3,  0],\n",
      "        [ 3, 58, 55,  3,  0],\n",
      "        [ 0,  0,  0,  0,  0],\n",
      "        [ 0,  0,  0,  0,  0],\n",
      "        [ 0,  0,  0,  0,  0],\n",
      "        [ 0,  0,  0,  0,  0],\n",
      "        [ 0,  0,  0,  0,  0],\n",
      "        [ 0,  0,  0,  0,  0],\n",
      "        [ 0,  0,  0,  0,  0],\n",
      "        [ 0,  0,  0,  0,  0],\n",
      "        [ 0,  0,  0,  0,  0],\n",
      "        [ 0,  0,  0,  0,  0],\n",
      "        [ 1,  0,  0,  0,  0],\n",
      "        [39, 54, 51,  1,  0],\n",
      "        [ 0,  0,  0,  0,  0],\n",
      "        [ 0,  0,  0,  0,  0],\n",
      "        [ 0,  0,  0,  0,  0]], device='cuda:0')\n",
      "tensor([[ 1,  0,  0,  0,  1],\n",
      "        [ 5,  0,  0,  0,  1],\n",
      "        [ 5,  1,  0,  1,  1],\n",
      "        [ 5,  2,  1,  2,  1],\n",
      "        [ 5,  3,  2,  1,  1],\n",
      "        [ 5,  4,  3,  2,  1],\n",
      "        [ 5,  5,  4,  1,  1],\n",
      "        [ 5,  6,  1,  1,  1],\n",
      "        [39,  6,  5,  2,  1],\n",
      "        [ 5,  7,  6,  1,  1],\n",
      "        [ 5,  8,  8,  0,  2],\n",
      "        [ 5,  9,  8,  1,  2],\n",
      "        [ 5, 10,  8,  1,  2],\n",
      "        [39, 10,  9,  1,  2],\n",
      "        [ 5, 11, 11,  0,  3],\n",
      "        [ 5, 12, 11,  1,  3],\n",
      "        [ 2, 13, 12,  1,  3],\n",
      "        [25, 14,  2,  1,  0],\n",
      "        [16, 15,  0,  1,  0],\n",
      "        [ 3, 16, 14,  2,  0],\n",
      "        [14, 17, 10,  1,  0],\n",
      "        [17, 18,  5,  1,  0],\n",
      "        [ 3, 19, 10,  1,  0],\n",
      "        [26, 20, 16,  1,  0],\n",
      "        [39, 20,  4,  1,  0],\n",
      "        [22, 21, 17,  1,  0],\n",
      "        [17, 22, 14,  1,  0],\n",
      "        [12, 23, 19,  1,  0],\n",
      "        [39, 23, 17,  1,  0],\n",
      "        [22, 24,  0,  1,  0],\n",
      "        [26, 25, 15,  2,  0],\n",
      "        [ 9, 26,  3,  1,  0],\n",
      "        [ 4, 27,  8,  1,  0],\n",
      "        [24, 28,  0,  1,  0],\n",
      "        [26, 29, 26,  2,  0],\n",
      "        [16, 30, 17,  1,  0],\n",
      "        [17, 31, 30,  1,  0],\n",
      "        [15, 32, 26,  1,  0],\n",
      "        [22, 33, 15,  1,  0],\n",
      "        [10, 34,  7,  2,  0],\n",
      "        [13, 35, 19,  1,  0],\n",
      "        [ 5, 36, 35,  3,  0],\n",
      "        [24, 37, 30,  3,  0],\n",
      "        [ 3, 38, 32,  2,  0],\n",
      "        [17, 39, 28,  1,  0],\n",
      "        [20, 40, 15,  1,  0],\n",
      "        [19, 41, 36,  1,  0],\n",
      "        [13, 42, 11,  3,  0],\n",
      "        [ 3, 43, 28,  1,  0],\n",
      "        [20, 44, 43,  2,  0],\n",
      "        [17, 45,  9,  1,  0],\n",
      "        [ 3, 46, 44,  3,  0],\n",
      "        [17, 47, 13,  1,  0],\n",
      "        [26, 48, 40,  1,  0],\n",
      "        [14, 49, 35,  2,  0],\n",
      "        [ 9, 50, 42,  3,  0],\n",
      "        [ 4, 51, 49,  1,  0],\n",
      "        [17, 52,  9,  1,  0],\n",
      "        [21, 53, 38,  1,  0],\n",
      "        [ 0,  0,  0,  0,  0],\n",
      "        [ 0,  0,  0,  0,  0],\n",
      "        [ 0,  0,  0,  0,  0],\n",
      "        [ 0,  0,  0,  0,  0],\n",
      "        [ 0,  0,  0,  0,  0],\n",
      "        [ 0,  0,  0,  0,  0],\n",
      "        [ 0,  0,  0,  0,  0],\n",
      "        [ 0,  0,  0,  0,  0],\n",
      "        [ 0,  0,  0,  0,  0],\n",
      "        [ 0,  0,  0,  0,  0],\n",
      "        [ 0,  0,  0,  0,  0],\n",
      "        [ 0,  0,  0,  0,  0],\n",
      "        [ 0,  0,  0,  0,  0],\n",
      "        [ 0,  0,  0,  0,  0],\n",
      "        [ 0,  0,  0,  0,  0],\n",
      "        [ 0,  0,  0,  0,  0],\n",
      "        [ 1,  0,  0,  0,  0],\n",
      "        [39,  7, 49,  1,  0],\n",
      "        [39, 53, 50,  1,  0],\n",
      "        [ 0,  0,  0,  0,  0],\n",
      "        [ 0,  0,  0,  0,  0]], device='cuda:0')\n",
      "tensor([[ 1,  0,  0,  0,  1],\n",
      "        [ 5,  0,  0,  0,  1],\n",
      "        [ 5,  1,  0,  1,  1],\n",
      "        [ 5,  2,  2,  0,  2],\n",
      "        [ 2,  3,  2,  1,  2],\n",
      "        [22,  4,  1,  1,  0],\n",
      "        [17,  5,  0,  1,  0],\n",
      "        [27,  6,  2,  3,  0],\n",
      "        [15,  7,  0,  1,  0],\n",
      "        [20,  8,  6,  3,  0],\n",
      "        [16,  9,  8,  1,  0],\n",
      "        [ 9, 10,  9,  3,  0],\n",
      "        [ 2, 11,  7,  1,  0],\n",
      "        [27, 12,  1,  2,  0],\n",
      "        [16, 13, 12,  3,  0],\n",
      "        [17, 14, 12,  1,  0],\n",
      "        [20, 15,  3,  1,  0],\n",
      "        [15, 16, 15,  3,  0],\n",
      "        [16, 17, 13,  2,  0],\n",
      "        [24, 18, 17,  2,  0],\n",
      "        [16, 19,  7,  1,  0],\n",
      "        [26, 20, 19,  2,  0],\n",
      "        [ 3, 21,  8,  1,  0],\n",
      "        [17, 22, 19,  1,  0],\n",
      "        [17, 23, 18,  1,  0],\n",
      "        [17, 24, 15,  1,  0],\n",
      "        [20, 25, 21,  2,  0],\n",
      "        [17, 26, 10,  1,  0],\n",
      "        [17, 27,  9,  1,  0],\n",
      "        [ 3, 28, 25,  3,  0],\n",
      "        [ 0,  0,  0,  0,  0],\n",
      "        [ 0,  0,  0,  0,  0],\n",
      "        [ 0,  0,  0,  0,  0],\n",
      "        [ 0,  0,  0,  0,  0],\n",
      "        [ 0,  0,  0,  0,  0],\n",
      "        [ 0,  0,  0,  0,  0],\n",
      "        [ 0,  0,  0,  0,  0],\n",
      "        [ 0,  0,  0,  0,  0],\n",
      "        [ 0,  0,  0,  0,  0],\n",
      "        [ 0,  0,  0,  0,  0],\n",
      "        [ 0,  0,  0,  0,  0],\n",
      "        [ 0,  0,  0,  0,  0],\n",
      "        [ 0,  0,  0,  0,  0],\n",
      "        [ 0,  0,  0,  0,  0],\n",
      "        [ 0,  0,  0,  0,  0],\n",
      "        [ 0,  0,  0,  0,  0],\n",
      "        [ 0,  0,  0,  0,  0],\n",
      "        [ 0,  0,  0,  0,  0],\n",
      "        [ 0,  0,  0,  0,  0],\n",
      "        [ 0,  0,  0,  0,  0],\n",
      "        [ 0,  0,  0,  0,  0],\n",
      "        [ 0,  0,  0,  0,  0],\n",
      "        [ 0,  0,  0,  0,  0],\n",
      "        [ 0,  0,  0,  0,  0],\n",
      "        [ 0,  0,  0,  0,  0],\n",
      "        [ 0,  0,  0,  0,  0],\n",
      "        [ 0,  0,  0,  0,  0],\n",
      "        [ 0,  0,  0,  0,  0],\n",
      "        [ 0,  0,  0,  0,  0],\n",
      "        [ 0,  0,  0,  0,  0],\n",
      "        [ 0,  0,  0,  0,  0],\n",
      "        [ 0,  0,  0,  0,  0],\n",
      "        [ 0,  0,  0,  0,  0],\n",
      "        [ 0,  0,  0,  0,  0],\n",
      "        [ 0,  0,  0,  0,  0],\n",
      "        [ 0,  0,  0,  0,  0],\n",
      "        [ 0,  0,  0,  0,  0],\n",
      "        [ 0,  0,  0,  0,  0],\n",
      "        [ 0,  0,  0,  0,  0],\n",
      "        [ 0,  0,  0,  0,  0],\n",
      "        [ 0,  0,  0,  0,  0],\n",
      "        [ 0,  0,  0,  0,  0],\n",
      "        [ 0,  0,  0,  0,  0],\n",
      "        [ 0,  0,  0,  0,  0],\n",
      "        [ 0,  0,  0,  0,  0],\n",
      "        [ 1,  0,  0,  0,  0],\n",
      "        [ 0,  0,  0,  0,  0],\n",
      "        [ 0,  0,  0,  0,  0],\n",
      "        [ 0,  0,  0,  0,  0],\n",
      "        [ 0,  0,  0,  0,  0]], device='cuda:0')\n",
      "tensor([[ 1,  0,  0,  0,  1],\n",
      "        [ 5,  0,  0,  0,  1],\n",
      "        [ 5,  1,  0,  1,  1],\n",
      "        [ 5,  2,  1,  2,  1],\n",
      "        [ 5,  3,  2,  1,  1],\n",
      "        [ 8,  4,  3,  2,  1],\n",
      "        [ 5,  5,  4,  1,  1],\n",
      "        [ 5,  6,  5,  2,  1],\n",
      "        [ 5,  7,  6,  1,  1],\n",
      "        [ 5,  8,  3,  1,  1],\n",
      "        [39,  8,  7,  2,  1],\n",
      "        [ 5,  9,  0,  2,  1],\n",
      "        [39,  9,  8,  1,  1],\n",
      "        [ 3, 10,  9,  1,  0],\n",
      "        [11, 11,  1,  1,  0],\n",
      "        [20, 12, 10,  2,  0],\n",
      "        [ 3, 13, 12,  3,  0],\n",
      "        [15, 14,  6,  1,  0],\n",
      "        [ 3, 15,  0,  1,  0],\n",
      "        [ 3, 16, 15,  2,  0],\n",
      "        [38, 17, 14,  1,  0],\n",
      "        [38, 18,  5,  1,  0],\n",
      "        [15, 19, 16,  1,  0],\n",
      "        [ 5, 20,  2,  1,  0],\n",
      "        [38, 21, 18,  1,  0],\n",
      "        [22, 22, 14,  1,  0],\n",
      "        [16, 23, 20,  3,  0],\n",
      "        [17, 24, 18,  1,  0],\n",
      "        [35, 25, 17,  1,  0],\n",
      "        [14, 26, 21,  1,  0],\n",
      "        [13, 27, 26,  1,  0],\n",
      "        [23, 28, 25,  3,  0],\n",
      "        [17, 29, 28,  1,  0],\n",
      "        [ 9, 30, 19,  2,  0],\n",
      "        [ 9, 31, 28,  1,  0],\n",
      "        [16, 32, 21,  1,  0],\n",
      "        [14, 33, 31,  1,  0],\n",
      "        [17, 34, 32,  1,  0],\n",
      "        [ 5, 35, 32,  3,  0],\n",
      "        [38, 36,  7,  1,  0],\n",
      "        [ 9, 37, 33,  3,  0],\n",
      "        [20, 38, 31,  1,  0],\n",
      "        [13, 39, 31,  1,  0],\n",
      "        [ 3, 40, 38,  3,  0],\n",
      "        [17, 41, 37,  1,  0],\n",
      "        [15, 42, 27,  2,  0],\n",
      "        [22, 43, 42,  1,  0],\n",
      "        [13, 44, 30,  1,  0],\n",
      "        [32, 45, 39,  2,  0],\n",
      "        [20, 46, 45,  1,  0],\n",
      "        [ 3, 47, 23,  1,  0],\n",
      "        [25, 48, 39,  1,  0],\n",
      "        [38, 49, 48,  2,  0],\n",
      "        [ 2, 50, 26,  2,  0],\n",
      "        [ 3, 51, 45,  1,  0],\n",
      "        [ 0,  0,  0,  0,  0],\n",
      "        [ 0,  0,  0,  0,  0],\n",
      "        [ 0,  0,  0,  0,  0],\n",
      "        [ 0,  0,  0,  0,  0],\n",
      "        [ 0,  0,  0,  0,  0],\n",
      "        [ 0,  0,  0,  0,  0],\n",
      "        [ 0,  0,  0,  0,  0],\n",
      "        [ 0,  0,  0,  0,  0],\n",
      "        [ 0,  0,  0,  0,  0],\n",
      "        [ 0,  0,  0,  0,  0],\n",
      "        [ 0,  0,  0,  0,  0],\n",
      "        [ 0,  0,  0,  0,  0],\n",
      "        [ 0,  0,  0,  0,  0],\n",
      "        [ 0,  0,  0,  0,  0],\n",
      "        [ 0,  0,  0,  0,  0],\n",
      "        [ 0,  0,  0,  0,  0],\n",
      "        [ 0,  0,  0,  0,  0],\n",
      "        [ 0,  0,  0,  0,  0],\n",
      "        [ 0,  0,  0,  0,  0],\n",
      "        [ 0,  0,  0,  0,  0],\n",
      "        [ 1,  0,  0,  0,  0],\n",
      "        [ 0,  0,  0,  0,  0],\n",
      "        [ 0,  0,  0,  0,  0],\n",
      "        [ 0,  0,  0,  0,  0],\n",
      "        [ 0,  0,  0,  0,  0]], device='cuda:0')\n",
      "tensor([[ 1,  0,  0,  0,  1],\n",
      "        [ 5,  0,  0,  0,  1],\n",
      "        [ 8,  1,  0,  1,  1],\n",
      "        [ 8,  2,  1,  1,  1],\n",
      "        [ 5,  3,  2,  2,  1],\n",
      "        [ 5,  4,  3,  1,  1],\n",
      "        [ 5,  5,  4,  2,  1],\n",
      "        [ 5,  6,  5,  1,  1],\n",
      "        [ 5,  7,  6,  2,  1],\n",
      "        [ 5,  8,  7,  1,  1],\n",
      "        [ 5,  9,  1,  1,  1],\n",
      "        [39,  9,  4,  1,  1],\n",
      "        [39,  9,  8,  2,  1],\n",
      "        [ 5, 10, 10,  0,  2],\n",
      "        [ 2, 11, 10,  1,  2],\n",
      "        [13, 12, 10,  2,  0],\n",
      "        [25, 13,  6,  1,  0],\n",
      "        [16, 14, 13,  3,  0],\n",
      "        [16, 15, 10,  1,  0],\n",
      "        [20, 16, 14,  2,  0],\n",
      "        [ 3, 17,  7,  1,  0],\n",
      "        [13, 18, 16,  3,  0],\n",
      "        [16, 19,  5,  1,  0],\n",
      "        [13, 20, 12,  3,  0],\n",
      "        [ 9, 21, 20,  1,  0],\n",
      "        [17, 22, 19,  1,  0],\n",
      "        [38, 23, 15,  1,  0],\n",
      "        [24, 24, 23,  1,  0],\n",
      "        [25, 25, 18,  2,  0],\n",
      "        [14, 26, 21,  3,  0],\n",
      "        [16, 27, 19,  1,  0],\n",
      "        [38, 28, 26,  1,  0],\n",
      "        [16, 29, 23,  1,  0],\n",
      "        [13, 30, 25,  1,  0],\n",
      "        [ 9, 31, 20,  2,  0],\n",
      "        [14, 32, 29,  3,  0],\n",
      "        [25, 33, 15,  3,  0],\n",
      "        [16, 34, 32,  1,  0],\n",
      "        [17, 35, 29,  1,  0],\n",
      "        [17, 36, 33,  1,  0],\n",
      "        [20, 37,  0,  3,  0],\n",
      "        [20, 38, 17,  2,  0],\n",
      "        [17, 39, 25,  1,  0],\n",
      "        [17, 40,  8,  1,  0],\n",
      "        [ 9, 41, 34,  1,  0],\n",
      "        [15, 42, 27,  3,  0],\n",
      "        [22, 43, 34,  1,  0],\n",
      "        [37, 44, 28,  2,  0],\n",
      "        [38, 45, 41,  3,  0],\n",
      "        [ 3, 46, 38,  3,  0],\n",
      "        [18, 47, 30,  1,  0],\n",
      "        [16, 48, 30,  3,  0],\n",
      "        [38, 49, 34,  1,  0],\n",
      "        [ 5, 50, 27,  1,  0],\n",
      "        [ 6, 51, 34,  1,  0],\n",
      "        [25, 52, 51,  1,  0],\n",
      "        [22, 53, 52,  1,  0],\n",
      "        [ 3, 54, 50,  3,  0],\n",
      "        [38, 55, 44,  2,  0],\n",
      "        [18, 56, 19,  1,  0],\n",
      "        [17, 57, 51,  1,  0],\n",
      "        [ 3, 58, 55,  1,  0],\n",
      "        [ 3, 59, 49,  1,  0],\n",
      "        [15, 60, 59,  1,  0],\n",
      "        [ 4, 61, 18,  1,  0],\n",
      "        [17, 62, 19,  1,  0],\n",
      "        [27, 63, 52,  2,  0],\n",
      "        [17, 64, 31,  1,  0],\n",
      "        [ 3, 65, 58,  1,  0],\n",
      "        [26, 66, 37,  1,  0],\n",
      "        [17, 67, 37,  1,  0],\n",
      "        [17, 68, 30,  1,  0],\n",
      "        [18, 69, 48,  1,  0],\n",
      "        [15, 70, 59,  1,  0],\n",
      "        [17, 71, 58,  1,  0],\n",
      "        [ 1,  0,  0,  0,  0],\n",
      "        [39, 31,  3,  1,  0],\n",
      "        [ 0,  0,  0,  0,  0],\n",
      "        [ 0,  0,  0,  0,  0],\n",
      "        [ 0,  0,  0,  0,  0]], device='cuda:0')\n"
     ]
    },
    {
     "data": {
      "application/vnd.jupyter.widget-view+json": {
       "model_id": "",
       "version_major": 2,
       "version_minor": 0
      },
      "text/plain": [
       "Iterating over training batches:   0%|          | 0/1 [00:00<?, ?it/s]"
      ]
     },
     "metadata": {},
     "output_type": "display_data"
    },
    {
     "data": {
      "application/vnd.jupyter.widget-view+json": {
       "model_id": "5c6b3920beed460594421a390b3d242e",
       "version_major": 2,
       "version_minor": 0
      },
      "text/plain": [
       "Iterating over validation batches:   0%|          | 0/4 [00:00<?, ?it/s]"
      ]
     },
     "metadata": {},
     "output_type": "display_data"
    },
    {
     "ename": "KeyboardInterrupt",
     "evalue": "",
     "output_type": "error",
     "traceback": [
      "\u001b[0;31m---------------------------------------------------------------------------\u001b[0m",
      "\u001b[0;31mKeyboardInterrupt\u001b[0m                         Traceback (most recent call last)",
      "Input \u001b[0;32mIn [7]\u001b[0m, in \u001b[0;36m<cell line: 9>\u001b[0;34m()\u001b[0m\n\u001b[1;32m      7\u001b[0m \u001b[38;5;28mprint\u001b[39m(model\u001b[38;5;241m.\u001b[39mgpus)\n\u001b[1;32m      8\u001b[0m monitor \u001b[38;5;241m=\u001b[39m FileMonitor(\u001b[38;5;124m'\u001b[39m\u001b[38;5;124mdata/models/pretrained/graph/chembl_pretrained\u001b[39m\u001b[38;5;124m'\u001b[39m)\n\u001b[0;32m----> 9\u001b[0m \u001b[43mmodel\u001b[49m\u001b[38;5;241;43m.\u001b[39;49m\u001b[43mfit\u001b[49m\u001b[43m(\u001b[49m\u001b[43mtest\u001b[49m\u001b[38;5;241;43m.\u001b[39;49m\u001b[43masDataLoader\u001b[49m\u001b[43m(\u001b[49m\u001b[38;5;241;43m512\u001b[39;49m\u001b[43m)\u001b[49m\u001b[43m,\u001b[49m\u001b[43m \u001b[49m\u001b[43mtrain\u001b[49m\u001b[38;5;241;43m.\u001b[39;49m\u001b[43masDataLoader\u001b[49m\u001b[43m(\u001b[49m\u001b[38;5;241;43m512\u001b[39;49m\u001b[43m)\u001b[49m\u001b[43m,\u001b[49m\u001b[43m \u001b[49m\u001b[43mmonitor\u001b[49m\u001b[38;5;241;43m=\u001b[39;49m\u001b[43mmonitor\u001b[49m\u001b[43m,\u001b[49m\u001b[43m \u001b[49m\u001b[43mepochs\u001b[49m\u001b[38;5;241;43m=\u001b[39;49m\u001b[43mEPOCHS\u001b[49m\u001b[43m)\u001b[49m\n",
      "File \u001b[0;32m~/projects/DrugEx/drugex/training/models/encoderdecoder.py:46\u001b[0m, in \u001b[0;36mBase.fit\u001b[0;34m(self, train_loader, valid_loader, epochs, patience, evaluator, monitor, no_multifrag_smiles)\u001b[0m\n\u001b[1;32m     44\u001b[0m t0 \u001b[38;5;241m=\u001b[39m time\u001b[38;5;241m.\u001b[39mtime()\n\u001b[1;32m     45\u001b[0m \u001b[38;5;28mself\u001b[39m\u001b[38;5;241m.\u001b[39mtrainNet(train_loader, monitor)\n\u001b[0;32m---> 46\u001b[0m valid, frags_desire, loss_valid, smiles_scores \u001b[38;5;241m=\u001b[39m \u001b[38;5;28;43mself\u001b[39;49m\u001b[38;5;241;43m.\u001b[39;49m\u001b[43mvalidate\u001b[49m\u001b[43m(\u001b[49m\u001b[43mvalid_loader\u001b[49m\u001b[43m,\u001b[49m\u001b[43m \u001b[49m\u001b[43mevaluator\u001b[49m\u001b[38;5;241;43m=\u001b[39;49m\u001b[43mevaluator\u001b[49m\u001b[43m,\u001b[49m\u001b[43m \u001b[49m\u001b[43mno_multifrag_smiles\u001b[49m\u001b[38;5;241;43m=\u001b[39;49m\u001b[43mno_multifrag_smiles\u001b[49m\u001b[43m)\u001b[49m\n\u001b[1;32m     47\u001b[0m t1 \u001b[38;5;241m=\u001b[39m time\u001b[38;5;241m.\u001b[39mtime()\n\u001b[1;32m     49\u001b[0m logger\u001b[38;5;241m.\u001b[39minfo(\u001b[38;5;124mf\u001b[39m\u001b[38;5;124m\"\u001b[39m\u001b[38;5;124mEpoch: \u001b[39m\u001b[38;5;132;01m{\u001b[39;00mepoch\u001b[38;5;132;01m}\u001b[39;00m\u001b[38;5;124m Validation loss: \u001b[39m\u001b[38;5;132;01m{\u001b[39;00mloss_valid\u001b[38;5;132;01m:\u001b[39;00m\u001b[38;5;124m.3f\u001b[39m\u001b[38;5;132;01m}\u001b[39;00m\u001b[38;5;124m Valid: \u001b[39m\u001b[38;5;132;01m{\u001b[39;00mvalid\u001b[38;5;132;01m:\u001b[39;00m\u001b[38;5;124m.3f\u001b[39m\u001b[38;5;132;01m}\u001b[39;00m\u001b[38;5;124m FragsDesire: \u001b[39m\u001b[38;5;132;01m{\u001b[39;00mfrags_desire\u001b[38;5;132;01m:\u001b[39;00m\u001b[38;5;124m.3f\u001b[39m\u001b[38;5;132;01m}\u001b[39;00m\u001b[38;5;124m Time: \u001b[39m\u001b[38;5;132;01m{\u001b[39;00m\u001b[38;5;28mint\u001b[39m(t1\u001b[38;5;241m-\u001b[39mt0)\u001b[38;5;132;01m}\u001b[39;00m\u001b[38;5;124ms\u001b[39m\u001b[38;5;124m\"\u001b[39m)\n",
      "File \u001b[0;32m~/projects/DrugEx/drugex/training/models/transform/gpt2graph.py:280\u001b[0m, in \u001b[0;36mGraphModel.validate\u001b[0;34m(self, loader, evaluator, no_multifrag_smiles)\u001b[0m\n\u001b[1;32m    277\u001b[0m net \u001b[38;5;241m=\u001b[39m nn\u001b[38;5;241m.\u001b[39mDataParallel(\u001b[38;5;28mself\u001b[39m, device_ids\u001b[38;5;241m=\u001b[39m\u001b[38;5;28mself\u001b[39m\u001b[38;5;241m.\u001b[39mgpus)\n\u001b[1;32m    279\u001b[0m pbar \u001b[38;5;241m=\u001b[39m tqdm(loader, desc\u001b[38;5;241m=\u001b[39m\u001b[38;5;124m'\u001b[39m\u001b[38;5;124mIterating over validation batches\u001b[39m\u001b[38;5;124m'\u001b[39m, leave\u001b[38;5;241m=\u001b[39m\u001b[38;5;28;01mFalse\u001b[39;00m)\n\u001b[0;32m--> 280\u001b[0m frags, smiles, scores \u001b[38;5;241m=\u001b[39m \u001b[38;5;28;43mself\u001b[39;49m\u001b[38;5;241;43m.\u001b[39;49m\u001b[43mevaluate\u001b[49m\u001b[43m(\u001b[49m\u001b[43mpbar\u001b[49m\u001b[43m,\u001b[49m\u001b[43m \u001b[49m\u001b[43mmethod\u001b[49m\u001b[38;5;241;43m=\u001b[39;49m\u001b[43mevaluator\u001b[49m\u001b[43m,\u001b[49m\u001b[43m \u001b[49m\u001b[43mno_multifrag_smiles\u001b[49m\u001b[38;5;241;43m=\u001b[39;49m\u001b[43mno_multifrag_smiles\u001b[49m\u001b[43m)\u001b[49m\n\u001b[1;32m    281\u001b[0m valid \u001b[38;5;241m=\u001b[39m scores\u001b[38;5;241m.\u001b[39mVALID\u001b[38;5;241m.\u001b[39mmean() \n\u001b[1;32m    282\u001b[0m desired \u001b[38;5;241m=\u001b[39m scores\u001b[38;5;241m.\u001b[39mDESIRE\u001b[38;5;241m.\u001b[39mmean()\n",
      "File \u001b[0;32m~/projects/DrugEx/drugex/training/models/encoderdecoder.py:69\u001b[0m, in \u001b[0;36mBase.evaluate\u001b[0;34m(self, loader, repeat, method, no_multifrag_smiles)\u001b[0m\n\u001b[1;32m     68\u001b[0m \u001b[38;5;28;01mdef\u001b[39;00m \u001b[38;5;21mevaluate\u001b[39m(\u001b[38;5;28mself\u001b[39m, loader, repeat\u001b[38;5;241m=\u001b[39m\u001b[38;5;241m1\u001b[39m, method\u001b[38;5;241m=\u001b[39m\u001b[38;5;28;01mNone\u001b[39;00m, no_multifrag_smiles\u001b[38;5;241m=\u001b[39m\u001b[38;5;28;01mTrue\u001b[39;00m):\n\u001b[0;32m---> 69\u001b[0m     smiles, frags \u001b[38;5;241m=\u001b[39m \u001b[38;5;28;43mself\u001b[39;49m\u001b[38;5;241;43m.\u001b[39;49m\u001b[43msample\u001b[49m\u001b[43m(\u001b[49m\u001b[43mloader\u001b[49m\u001b[43m,\u001b[49m\u001b[43m \u001b[49m\u001b[43mrepeat\u001b[49m\u001b[43m)\u001b[49m\n\u001b[1;32m     71\u001b[0m     \u001b[38;5;28;01mif\u001b[39;00m method \u001b[38;5;129;01mis\u001b[39;00m \u001b[38;5;28;01mNone\u001b[39;00m:\n\u001b[1;32m     72\u001b[0m         scores \u001b[38;5;241m=\u001b[39m SmilesChecker\u001b[38;5;241m.\u001b[39mcheckSmiles(smiles, frags\u001b[38;5;241m=\u001b[39mfrags, no_multifrag_smiles\u001b[38;5;241m=\u001b[39mno_multifrag_smiles)\n",
      "File \u001b[0;32m~/projects/DrugEx/drugex/training/models/transform/gpt2graph.py:300\u001b[0m, in \u001b[0;36mGraphModel.sample\u001b[0;34m(self, loader, repeat, pbar)\u001b[0m\n\u001b[1;32m    298\u001b[0m \u001b[38;5;28;01mfor\u001b[39;00m _ \u001b[38;5;129;01min\u001b[39;00m \u001b[38;5;28mrange\u001b[39m(repeat):                \n\u001b[1;32m    299\u001b[0m     \u001b[38;5;28;01mfor\u001b[39;00m i, src \u001b[38;5;129;01min\u001b[39;00m \u001b[38;5;28menumerate\u001b[39m(loader):\n\u001b[0;32m--> 300\u001b[0m         trg \u001b[38;5;241m=\u001b[39m \u001b[43mnet\u001b[49m\u001b[43m(\u001b[49m\u001b[43msrc\u001b[49m\u001b[38;5;241;43m.\u001b[39;49m\u001b[43mto\u001b[49m\u001b[43m(\u001b[49m\u001b[38;5;28;43mself\u001b[39;49m\u001b[38;5;241;43m.\u001b[39;49m\u001b[43mdevice\u001b[49m\u001b[43m)\u001b[49m\u001b[43m)\u001b[49m\n\u001b[1;32m    301\u001b[0m         f, s \u001b[38;5;241m=\u001b[39m \u001b[38;5;28mself\u001b[39m\u001b[38;5;241m.\u001b[39mvoc_trg\u001b[38;5;241m.\u001b[39mdecode(trg)\n\u001b[1;32m    302\u001b[0m         frags \u001b[38;5;241m+\u001b[39m\u001b[38;5;241m=\u001b[39m f\n",
      "File \u001b[0;32m~/software/miniconda/envs/drugex/lib/python3.9/site-packages/torch/nn/modules/module.py:1110\u001b[0m, in \u001b[0;36mModule._call_impl\u001b[0;34m(self, *input, **kwargs)\u001b[0m\n\u001b[1;32m   1106\u001b[0m \u001b[38;5;66;03m# If we don't have any hooks, we want to skip the rest of the logic in\u001b[39;00m\n\u001b[1;32m   1107\u001b[0m \u001b[38;5;66;03m# this function, and just call forward.\u001b[39;00m\n\u001b[1;32m   1108\u001b[0m \u001b[38;5;28;01mif\u001b[39;00m \u001b[38;5;129;01mnot\u001b[39;00m (\u001b[38;5;28mself\u001b[39m\u001b[38;5;241m.\u001b[39m_backward_hooks \u001b[38;5;129;01mor\u001b[39;00m \u001b[38;5;28mself\u001b[39m\u001b[38;5;241m.\u001b[39m_forward_hooks \u001b[38;5;129;01mor\u001b[39;00m \u001b[38;5;28mself\u001b[39m\u001b[38;5;241m.\u001b[39m_forward_pre_hooks \u001b[38;5;129;01mor\u001b[39;00m _global_backward_hooks\n\u001b[1;32m   1109\u001b[0m         \u001b[38;5;129;01mor\u001b[39;00m _global_forward_hooks \u001b[38;5;129;01mor\u001b[39;00m _global_forward_pre_hooks):\n\u001b[0;32m-> 1110\u001b[0m     \u001b[38;5;28;01mreturn\u001b[39;00m \u001b[43mforward_call\u001b[49m\u001b[43m(\u001b[49m\u001b[38;5;241;43m*\u001b[39;49m\u001b[38;5;28;43minput\u001b[39;49m\u001b[43m,\u001b[49m\u001b[43m \u001b[49m\u001b[38;5;241;43m*\u001b[39;49m\u001b[38;5;241;43m*\u001b[39;49m\u001b[43mkwargs\u001b[49m\u001b[43m)\u001b[49m\n\u001b[1;32m   1111\u001b[0m \u001b[38;5;66;03m# Do not call functions when jit is used\u001b[39;00m\n\u001b[1;32m   1112\u001b[0m full_backward_hooks, non_full_backward_hooks \u001b[38;5;241m=\u001b[39m [], []\n",
      "File \u001b[0;32m~/software/miniconda/envs/drugex/lib/python3.9/site-packages/torch/nn/parallel/data_parallel.py:166\u001b[0m, in \u001b[0;36mDataParallel.forward\u001b[0;34m(self, *inputs, **kwargs)\u001b[0m\n\u001b[1;32m    163\u001b[0m     kwargs \u001b[38;5;241m=\u001b[39m ({},)\n\u001b[1;32m    165\u001b[0m \u001b[38;5;28;01mif\u001b[39;00m \u001b[38;5;28mlen\u001b[39m(\u001b[38;5;28mself\u001b[39m\u001b[38;5;241m.\u001b[39mdevice_ids) \u001b[38;5;241m==\u001b[39m \u001b[38;5;241m1\u001b[39m:\n\u001b[0;32m--> 166\u001b[0m     \u001b[38;5;28;01mreturn\u001b[39;00m \u001b[38;5;28;43mself\u001b[39;49m\u001b[38;5;241;43m.\u001b[39;49m\u001b[43mmodule\u001b[49m\u001b[43m(\u001b[49m\u001b[38;5;241;43m*\u001b[39;49m\u001b[43minputs\u001b[49m\u001b[43m[\u001b[49m\u001b[38;5;241;43m0\u001b[39;49m\u001b[43m]\u001b[49m\u001b[43m,\u001b[49m\u001b[43m \u001b[49m\u001b[38;5;241;43m*\u001b[39;49m\u001b[38;5;241;43m*\u001b[39;49m\u001b[43mkwargs\u001b[49m\u001b[43m[\u001b[49m\u001b[38;5;241;43m0\u001b[39;49m\u001b[43m]\u001b[49m\u001b[43m)\u001b[49m\n\u001b[1;32m    167\u001b[0m replicas \u001b[38;5;241m=\u001b[39m \u001b[38;5;28mself\u001b[39m\u001b[38;5;241m.\u001b[39mreplicate(\u001b[38;5;28mself\u001b[39m\u001b[38;5;241m.\u001b[39mmodule, \u001b[38;5;28mself\u001b[39m\u001b[38;5;241m.\u001b[39mdevice_ids[:\u001b[38;5;28mlen\u001b[39m(inputs)])\n\u001b[1;32m    168\u001b[0m outputs \u001b[38;5;241m=\u001b[39m \u001b[38;5;28mself\u001b[39m\u001b[38;5;241m.\u001b[39mparallel_apply(replicas, inputs, kwargs)\n",
      "File \u001b[0;32m~/software/miniconda/envs/drugex/lib/python3.9/site-packages/torch/nn/modules/module.py:1110\u001b[0m, in \u001b[0;36mModule._call_impl\u001b[0;34m(self, *input, **kwargs)\u001b[0m\n\u001b[1;32m   1106\u001b[0m \u001b[38;5;66;03m# If we don't have any hooks, we want to skip the rest of the logic in\u001b[39;00m\n\u001b[1;32m   1107\u001b[0m \u001b[38;5;66;03m# this function, and just call forward.\u001b[39;00m\n\u001b[1;32m   1108\u001b[0m \u001b[38;5;28;01mif\u001b[39;00m \u001b[38;5;129;01mnot\u001b[39;00m (\u001b[38;5;28mself\u001b[39m\u001b[38;5;241m.\u001b[39m_backward_hooks \u001b[38;5;129;01mor\u001b[39;00m \u001b[38;5;28mself\u001b[39m\u001b[38;5;241m.\u001b[39m_forward_hooks \u001b[38;5;129;01mor\u001b[39;00m \u001b[38;5;28mself\u001b[39m\u001b[38;5;241m.\u001b[39m_forward_pre_hooks \u001b[38;5;129;01mor\u001b[39;00m _global_backward_hooks\n\u001b[1;32m   1109\u001b[0m         \u001b[38;5;129;01mor\u001b[39;00m _global_forward_hooks \u001b[38;5;129;01mor\u001b[39;00m _global_forward_pre_hooks):\n\u001b[0;32m-> 1110\u001b[0m     \u001b[38;5;28;01mreturn\u001b[39;00m \u001b[43mforward_call\u001b[49m\u001b[43m(\u001b[49m\u001b[38;5;241;43m*\u001b[39;49m\u001b[38;5;28;43minput\u001b[39;49m\u001b[43m,\u001b[49m\u001b[43m \u001b[49m\u001b[38;5;241;43m*\u001b[39;49m\u001b[38;5;241;43m*\u001b[39;49m\u001b[43mkwargs\u001b[49m\u001b[43m)\u001b[49m\n\u001b[1;32m   1111\u001b[0m \u001b[38;5;66;03m# Do not call functions when jit is used\u001b[39;00m\n\u001b[1;32m   1112\u001b[0m full_backward_hooks, non_full_backward_hooks \u001b[38;5;241m=\u001b[39m [], []\n",
      "File \u001b[0;32m~/projects/DrugEx/drugex/training/models/transform/gpt2graph.py:136\u001b[0m, in \u001b[0;36mGraphModel.forward\u001b[0;34m(self, src, is_train)\u001b[0m\n\u001b[1;32m    134\u001b[0m emb \u001b[38;5;241m=\u001b[39m \u001b[38;5;28mself\u001b[39m\u001b[38;5;241m.\u001b[39memb_word(data[:, :, \u001b[38;5;241m3\u001b[39m] \u001b[38;5;241m+\u001b[39m data[:, :, \u001b[38;5;241m0\u001b[39m] \u001b[38;5;241m*\u001b[39m \u001b[38;5;241m4\u001b[39m)\n\u001b[1;32m    135\u001b[0m emb \u001b[38;5;241m+\u001b[39m\u001b[38;5;241m=\u001b[39m \u001b[38;5;28mself\u001b[39m\u001b[38;5;241m.\u001b[39memb_site(data[:, :, \u001b[38;5;241m1\u001b[39m] \u001b[38;5;241m*\u001b[39m \u001b[38;5;28mself\u001b[39m\u001b[38;5;241m.\u001b[39mn_grows \u001b[38;5;241m+\u001b[39m data[:, :, \u001b[38;5;241m2\u001b[39m])\n\u001b[0;32m--> 136\u001b[0m dec \u001b[38;5;241m=\u001b[39m \u001b[38;5;28;43mself\u001b[39;49m\u001b[38;5;241;43m.\u001b[39;49m\u001b[43mattn\u001b[49m\u001b[43m(\u001b[49m\u001b[43memb\u001b[49m\u001b[38;5;241;43m.\u001b[39;49m\u001b[43mtranspose\u001b[49m\u001b[43m(\u001b[49m\u001b[38;5;241;43m0\u001b[39;49m\u001b[43m,\u001b[49m\u001b[43m \u001b[49m\u001b[38;5;241;43m1\u001b[39;49m\u001b[43m)\u001b[49m\u001b[43m,\u001b[49m\u001b[43m \u001b[49m\u001b[43mattn_mask\u001b[49m\u001b[38;5;241;43m=\u001b[39;49m\u001b[43mtriu\u001b[49m\u001b[43m)\u001b[49m\n\u001b[1;32m    137\u001b[0m dec \u001b[38;5;241m=\u001b[39m dec[\u001b[38;5;241m-\u001b[39m\u001b[38;5;241m1\u001b[39m, :, :]\n\u001b[1;32m    139\u001b[0m grow \u001b[38;5;241m=\u001b[39m src[:, step, \u001b[38;5;241m4\u001b[39m] \u001b[38;5;241m==\u001b[39m \u001b[38;5;241m0\u001b[39m\n",
      "File \u001b[0;32m~/software/miniconda/envs/drugex/lib/python3.9/site-packages/torch/nn/modules/module.py:1110\u001b[0m, in \u001b[0;36mModule._call_impl\u001b[0;34m(self, *input, **kwargs)\u001b[0m\n\u001b[1;32m   1106\u001b[0m \u001b[38;5;66;03m# If we don't have any hooks, we want to skip the rest of the logic in\u001b[39;00m\n\u001b[1;32m   1107\u001b[0m \u001b[38;5;66;03m# this function, and just call forward.\u001b[39;00m\n\u001b[1;32m   1108\u001b[0m \u001b[38;5;28;01mif\u001b[39;00m \u001b[38;5;129;01mnot\u001b[39;00m (\u001b[38;5;28mself\u001b[39m\u001b[38;5;241m.\u001b[39m_backward_hooks \u001b[38;5;129;01mor\u001b[39;00m \u001b[38;5;28mself\u001b[39m\u001b[38;5;241m.\u001b[39m_forward_hooks \u001b[38;5;129;01mor\u001b[39;00m \u001b[38;5;28mself\u001b[39m\u001b[38;5;241m.\u001b[39m_forward_pre_hooks \u001b[38;5;129;01mor\u001b[39;00m _global_backward_hooks\n\u001b[1;32m   1109\u001b[0m         \u001b[38;5;129;01mor\u001b[39;00m _global_forward_hooks \u001b[38;5;129;01mor\u001b[39;00m _global_forward_pre_hooks):\n\u001b[0;32m-> 1110\u001b[0m     \u001b[38;5;28;01mreturn\u001b[39;00m \u001b[43mforward_call\u001b[49m\u001b[43m(\u001b[49m\u001b[38;5;241;43m*\u001b[39;49m\u001b[38;5;28;43minput\u001b[39;49m\u001b[43m,\u001b[49m\u001b[43m \u001b[49m\u001b[38;5;241;43m*\u001b[39;49m\u001b[38;5;241;43m*\u001b[39;49m\u001b[43mkwargs\u001b[49m\u001b[43m)\u001b[49m\n\u001b[1;32m   1111\u001b[0m \u001b[38;5;66;03m# Do not call functions when jit is used\u001b[39;00m\n\u001b[1;32m   1112\u001b[0m full_backward_hooks, non_full_backward_hooks \u001b[38;5;241m=\u001b[39m [], []\n",
      "File \u001b[0;32m~/projects/DrugEx/drugex/training/models/transform/gpt2graph.py:48\u001b[0m, in \u001b[0;36mAtomLayer.forward\u001b[0;34m(self, x, key_mask, attn_mask)\u001b[0m\n\u001b[1;32m     46\u001b[0m \u001b[38;5;28;01mdef\u001b[39;00m \u001b[38;5;21mforward\u001b[39m(\u001b[38;5;28mself\u001b[39m, x: torch\u001b[38;5;241m.\u001b[39mTensor, key_mask\u001b[38;5;241m=\u001b[39m\u001b[38;5;28;01mNone\u001b[39;00m, attn_mask\u001b[38;5;241m=\u001b[39m\u001b[38;5;28;01mNone\u001b[39;00m):\n\u001b[1;32m     47\u001b[0m     \u001b[38;5;28;01mfor\u001b[39;00m block \u001b[38;5;129;01min\u001b[39;00m \u001b[38;5;28mself\u001b[39m\u001b[38;5;241m.\u001b[39mblocks:\n\u001b[0;32m---> 48\u001b[0m         x \u001b[38;5;241m=\u001b[39m \u001b[43mblock\u001b[49m\u001b[43m(\u001b[49m\u001b[43mx\u001b[49m\u001b[43m,\u001b[49m\u001b[43m \u001b[49m\u001b[43mkey_mask\u001b[49m\u001b[38;5;241;43m=\u001b[39;49m\u001b[43mkey_mask\u001b[49m\u001b[43m,\u001b[49m\u001b[43m \u001b[49m\u001b[43mattn_mask\u001b[49m\u001b[38;5;241;43m=\u001b[39;49m\u001b[43mattn_mask\u001b[49m\u001b[43m)\u001b[49m\n\u001b[1;32m     49\u001b[0m     \u001b[38;5;28;01mreturn\u001b[39;00m x\n",
      "File \u001b[0;32m~/software/miniconda/envs/drugex/lib/python3.9/site-packages/torch/nn/modules/module.py:1110\u001b[0m, in \u001b[0;36mModule._call_impl\u001b[0;34m(self, *input, **kwargs)\u001b[0m\n\u001b[1;32m   1106\u001b[0m \u001b[38;5;66;03m# If we don't have any hooks, we want to skip the rest of the logic in\u001b[39;00m\n\u001b[1;32m   1107\u001b[0m \u001b[38;5;66;03m# this function, and just call forward.\u001b[39;00m\n\u001b[1;32m   1108\u001b[0m \u001b[38;5;28;01mif\u001b[39;00m \u001b[38;5;129;01mnot\u001b[39;00m (\u001b[38;5;28mself\u001b[39m\u001b[38;5;241m.\u001b[39m_backward_hooks \u001b[38;5;129;01mor\u001b[39;00m \u001b[38;5;28mself\u001b[39m\u001b[38;5;241m.\u001b[39m_forward_hooks \u001b[38;5;129;01mor\u001b[39;00m \u001b[38;5;28mself\u001b[39m\u001b[38;5;241m.\u001b[39m_forward_pre_hooks \u001b[38;5;129;01mor\u001b[39;00m _global_backward_hooks\n\u001b[1;32m   1109\u001b[0m         \u001b[38;5;129;01mor\u001b[39;00m _global_forward_hooks \u001b[38;5;129;01mor\u001b[39;00m _global_forward_pre_hooks):\n\u001b[0;32m-> 1110\u001b[0m     \u001b[38;5;28;01mreturn\u001b[39;00m \u001b[43mforward_call\u001b[49m\u001b[43m(\u001b[49m\u001b[38;5;241;43m*\u001b[39;49m\u001b[38;5;28;43minput\u001b[39;49m\u001b[43m,\u001b[49m\u001b[43m \u001b[49m\u001b[38;5;241;43m*\u001b[39;49m\u001b[38;5;241;43m*\u001b[39;49m\u001b[43mkwargs\u001b[49m\u001b[43m)\u001b[49m\n\u001b[1;32m   1111\u001b[0m \u001b[38;5;66;03m# Do not call functions when jit is used\u001b[39;00m\n\u001b[1;32m   1112\u001b[0m full_backward_hooks, non_full_backward_hooks \u001b[38;5;241m=\u001b[39m [], []\n",
      "File \u001b[0;32m~/projects/DrugEx/drugex/training/models/transform/gpt2graph.py:32\u001b[0m, in \u001b[0;36mBlock.forward\u001b[0;34m(self, x, key_mask, attn_mask)\u001b[0m\n\u001b[1;32m     31\u001b[0m \u001b[38;5;28;01mdef\u001b[39;00m \u001b[38;5;21mforward\u001b[39m(\u001b[38;5;28mself\u001b[39m, x, key_mask\u001b[38;5;241m=\u001b[39m\u001b[38;5;28;01mNone\u001b[39;00m, attn_mask\u001b[38;5;241m=\u001b[39m\u001b[38;5;28;01mNone\u001b[39;00m):\n\u001b[0;32m---> 32\u001b[0m     x \u001b[38;5;241m=\u001b[39m \u001b[38;5;28;43mself\u001b[39;49m\u001b[38;5;241;43m.\u001b[39;49m\u001b[43mconnector\u001b[49m\u001b[43m[\u001b[49m\u001b[38;5;241;43m0\u001b[39;49m\u001b[43m]\u001b[49m\u001b[43m(\u001b[49m\u001b[43mx\u001b[49m\u001b[43m,\u001b[49m\u001b[43m \u001b[49m\u001b[38;5;28;43;01mlambda\u001b[39;49;00m\u001b[43m \u001b[49m\u001b[43mx\u001b[49m\u001b[43m:\u001b[49m\u001b[43m \u001b[49m\u001b[38;5;28;43mself\u001b[39;49m\u001b[38;5;241;43m.\u001b[39;49m\u001b[43mattn\u001b[49m\u001b[43m(\u001b[49m\u001b[43mx\u001b[49m\u001b[43m,\u001b[49m\u001b[43m \u001b[49m\u001b[43mx\u001b[49m\u001b[43m,\u001b[49m\u001b[43m \u001b[49m\u001b[43mx\u001b[49m\u001b[43m,\u001b[49m\u001b[43m \u001b[49m\u001b[43mkey_mask\u001b[49m\u001b[43m,\u001b[49m\u001b[43m \u001b[49m\u001b[43mattn_mask\u001b[49m\u001b[38;5;241;43m=\u001b[39;49m\u001b[43mattn_mask\u001b[49m\u001b[43m)\u001b[49m\u001b[43m[\u001b[49m\u001b[38;5;241;43m0\u001b[39;49m\u001b[43m]\u001b[49m\u001b[43m)\u001b[49m\n\u001b[1;32m     33\u001b[0m     x \u001b[38;5;241m=\u001b[39m \u001b[38;5;28mself\u001b[39m\u001b[38;5;241m.\u001b[39mconnector[\u001b[38;5;241m1\u001b[39m](x, \u001b[38;5;28mself\u001b[39m\u001b[38;5;241m.\u001b[39mpffn)\n\u001b[1;32m     34\u001b[0m     \u001b[38;5;28;01mreturn\u001b[39;00m x\n",
      "File \u001b[0;32m~/software/miniconda/envs/drugex/lib/python3.9/site-packages/torch/nn/modules/module.py:1110\u001b[0m, in \u001b[0;36mModule._call_impl\u001b[0;34m(self, *input, **kwargs)\u001b[0m\n\u001b[1;32m   1106\u001b[0m \u001b[38;5;66;03m# If we don't have any hooks, we want to skip the rest of the logic in\u001b[39;00m\n\u001b[1;32m   1107\u001b[0m \u001b[38;5;66;03m# this function, and just call forward.\u001b[39;00m\n\u001b[1;32m   1108\u001b[0m \u001b[38;5;28;01mif\u001b[39;00m \u001b[38;5;129;01mnot\u001b[39;00m (\u001b[38;5;28mself\u001b[39m\u001b[38;5;241m.\u001b[39m_backward_hooks \u001b[38;5;129;01mor\u001b[39;00m \u001b[38;5;28mself\u001b[39m\u001b[38;5;241m.\u001b[39m_forward_hooks \u001b[38;5;129;01mor\u001b[39;00m \u001b[38;5;28mself\u001b[39m\u001b[38;5;241m.\u001b[39m_forward_pre_hooks \u001b[38;5;129;01mor\u001b[39;00m _global_backward_hooks\n\u001b[1;32m   1109\u001b[0m         \u001b[38;5;129;01mor\u001b[39;00m _global_forward_hooks \u001b[38;5;129;01mor\u001b[39;00m _global_forward_pre_hooks):\n\u001b[0;32m-> 1110\u001b[0m     \u001b[38;5;28;01mreturn\u001b[39;00m \u001b[43mforward_call\u001b[49m\u001b[43m(\u001b[49m\u001b[38;5;241;43m*\u001b[39;49m\u001b[38;5;28;43minput\u001b[39;49m\u001b[43m,\u001b[49m\u001b[43m \u001b[49m\u001b[38;5;241;43m*\u001b[39;49m\u001b[38;5;241;43m*\u001b[39;49m\u001b[43mkwargs\u001b[49m\u001b[43m)\u001b[49m\n\u001b[1;32m   1111\u001b[0m \u001b[38;5;66;03m# Do not call functions when jit is used\u001b[39;00m\n\u001b[1;32m   1112\u001b[0m full_backward_hooks, non_full_backward_hooks \u001b[38;5;241m=\u001b[39m [], []\n",
      "File \u001b[0;32m~/projects/DrugEx/drugex/training/models/transform/layer.py:68\u001b[0m, in \u001b[0;36mSublayerConnection.forward\u001b[0;34m(self, x, sublayer)\u001b[0m\n\u001b[1;32m     66\u001b[0m \u001b[38;5;124;03m\"\"\" Apply residual connection to any sublayer with the same size\"\"\"\u001b[39;00m\n\u001b[1;32m     67\u001b[0m y \u001b[38;5;241m=\u001b[39m sublayer(x)\n\u001b[0;32m---> 68\u001b[0m y \u001b[38;5;241m=\u001b[39m \u001b[38;5;28;43mself\u001b[39;49m\u001b[38;5;241;43m.\u001b[39;49m\u001b[43mdropout\u001b[49m\u001b[43m(\u001b[49m\u001b[43my\u001b[49m\u001b[43m)\u001b[49m\n\u001b[1;32m     69\u001b[0m y \u001b[38;5;241m=\u001b[39m \u001b[38;5;28mself\u001b[39m\u001b[38;5;241m.\u001b[39mnorm(x \u001b[38;5;241m+\u001b[39m y)\n\u001b[1;32m     70\u001b[0m \u001b[38;5;28;01mreturn\u001b[39;00m y\n",
      "File \u001b[0;32m~/software/miniconda/envs/drugex/lib/python3.9/site-packages/torch/nn/modules/module.py:1110\u001b[0m, in \u001b[0;36mModule._call_impl\u001b[0;34m(self, *input, **kwargs)\u001b[0m\n\u001b[1;32m   1106\u001b[0m \u001b[38;5;66;03m# If we don't have any hooks, we want to skip the rest of the logic in\u001b[39;00m\n\u001b[1;32m   1107\u001b[0m \u001b[38;5;66;03m# this function, and just call forward.\u001b[39;00m\n\u001b[1;32m   1108\u001b[0m \u001b[38;5;28;01mif\u001b[39;00m \u001b[38;5;129;01mnot\u001b[39;00m (\u001b[38;5;28mself\u001b[39m\u001b[38;5;241m.\u001b[39m_backward_hooks \u001b[38;5;129;01mor\u001b[39;00m \u001b[38;5;28mself\u001b[39m\u001b[38;5;241m.\u001b[39m_forward_hooks \u001b[38;5;129;01mor\u001b[39;00m \u001b[38;5;28mself\u001b[39m\u001b[38;5;241m.\u001b[39m_forward_pre_hooks \u001b[38;5;129;01mor\u001b[39;00m _global_backward_hooks\n\u001b[1;32m   1109\u001b[0m         \u001b[38;5;129;01mor\u001b[39;00m _global_forward_hooks \u001b[38;5;129;01mor\u001b[39;00m _global_forward_pre_hooks):\n\u001b[0;32m-> 1110\u001b[0m     \u001b[38;5;28;01mreturn\u001b[39;00m \u001b[43mforward_call\u001b[49m\u001b[43m(\u001b[49m\u001b[38;5;241;43m*\u001b[39;49m\u001b[38;5;28;43minput\u001b[39;49m\u001b[43m,\u001b[49m\u001b[43m \u001b[49m\u001b[38;5;241;43m*\u001b[39;49m\u001b[38;5;241;43m*\u001b[39;49m\u001b[43mkwargs\u001b[49m\u001b[43m)\u001b[49m\n\u001b[1;32m   1111\u001b[0m \u001b[38;5;66;03m# Do not call functions when jit is used\u001b[39;00m\n\u001b[1;32m   1112\u001b[0m full_backward_hooks, non_full_backward_hooks \u001b[38;5;241m=\u001b[39m [], []\n",
      "\u001b[0;31mKeyboardInterrupt\u001b[0m: "
     ]
    }
   ],
   "source": [
    "from drugex.training.models.transform.gpt2graph import GraphModel\n",
    "from drugex.data.corpus.vocabulary import VocGraph\n",
    "from drugex.training.monitors import FileMonitor\n",
    "\n",
    "vocabulary = VocGraph(n_frags=4)\n",
    "model = GraphModel(voc_trg=vocabulary, use_gpus=GPUS)\n",
    "print(model.gpus)\n",
    "monitor = FileMonitor('data/models/pretrained/graph/chembl_pretrained')\n",
    "model.fit(test.asDataLoader(512), train.asDataLoader(512), monitor=monitor, epochs=EPOCHS)"
   ]
  },
  {
   "cell_type": "code",
   "execution_count": null,
   "id": "5fa805cf-dcdc-43ca-8d04-a99424651372",
   "metadata": {},
   "outputs": [],
   "source": []
  }
 ],
 "metadata": {
  "kernelspec": {
   "display_name": "Python 3 (ipykernel)",
   "language": "python",
   "name": "python3"
  },
  "language_info": {
   "codemirror_mode": {
    "name": "ipython",
    "version": 3
   },
   "file_extension": ".py",
   "mimetype": "text/x-python",
   "name": "python",
   "nbconvert_exporter": "python",
   "pygments_lexer": "ipython3",
   "version": "3.9.12"
  },
  "vscode": {
   "interpreter": {
    "hash": "f9f85f796d01129d0dd105a088854619f454435301f6ffec2fea96ecbd9be4ac"
   }
  }
 },
 "nbformat": 4,
 "nbformat_minor": 5
}
