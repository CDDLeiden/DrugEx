{
 "cells": [
  {
   "cell_type": "markdown",
   "id": "718d5cf0-6e43-4d02-a59d-c79cbccbc1ed",
   "metadata": {},
   "source": [
    "# Optimization with Reinforcement Learning\n",
    "\n",
    "In this tutorial, we show how different model types within DrugEx can be optimized under the reinforcement learning framework. The models can be taught to generate compounds according to multiple custom rewards and using several optimization strategies. In this tutorial, we review some of the most important scoring functions and optimization strategies on a simple hypothetical example, which will be focused on searching for selective ligands for the adenosine A3 receptor (A3R). In order to do that, we will build two QSAR models that will predict activity on A3R, but also adenosine A1 receptor (A1R). We will then use predictions from these models to generate compounds more selective towards A3R rather than A1R. In practice, this would be a really difficult task because A3R and A1R receptors have very similar binding sites so it would be really hard to use a purely ligand-based approach like this. However, it will serve us well here for the sake of example.\n",
    "\n",
    "\n",
    "## QSAR Models \n",
    "\n",
    "In this section, we create the QSAR models that will serve as the source of rewards in our reinforcement learning framework. They will be built from selected subsets of the `LIGAND` data set (also used in [finetuning](finetuning.ipynb)):"
   ]
  },
  {
   "cell_type": "code",
   "execution_count": 2,
   "id": "48146209-1d24-4ee7-bd5f-b848030cfec5",
   "metadata": {},
   "outputs": [],
   "source": [
    "GPUS = [0]\n",
    "EPOCHS = 3"
   ]
  },
  {
   "cell_type": "code",
   "execution_count": 3,
   "id": "ba004473-3fa1-4aeb-9d34-5870bb21336b",
   "metadata": {},
   "outputs": [
    {
     "data": {
      "text/html": [
       "<div>\n",
       "<style scoped>\n",
       "    .dataframe tbody tr th:only-of-type {\n",
       "        vertical-align: middle;\n",
       "    }\n",
       "\n",
       "    .dataframe tbody tr th {\n",
       "        vertical-align: top;\n",
       "    }\n",
       "\n",
       "    .dataframe thead th {\n",
       "        text-align: right;\n",
       "    }\n",
       "</style>\n",
       "<table border=\"1\" class=\"dataframe\">\n",
       "  <thead>\n",
       "    <tr style=\"text-align: right;\">\n",
       "      <th></th>\n",
       "      <th>Smiles</th>\n",
       "      <th>pChEMBL_Value</th>\n",
       "      <th>Target_ChEMBL_ID</th>\n",
       "    </tr>\n",
       "  </thead>\n",
       "  <tbody>\n",
       "    <tr>\n",
       "      <th>0</th>\n",
       "      <td>CCCCn1cc2c(nc(NC(=O)Nc3ccc(Cl)c(Cl)c3)n3nc(-c4...</td>\n",
       "      <td>8.43</td>\n",
       "      <td>CHEMBL256</td>\n",
       "    </tr>\n",
       "    <tr>\n",
       "      <th>1</th>\n",
       "      <td>O=C(Cc1ccccc1)Nc1nc2nn(CCc3ccccc3)cc2c2nc(-c3c...</td>\n",
       "      <td>7.35</td>\n",
       "      <td>CHEMBL256</td>\n",
       "    </tr>\n",
       "    <tr>\n",
       "      <th>2</th>\n",
       "      <td>O=C(COc1ccccc1)Nc1nc2nn(CCc3ccccc3)cc2c2nc(-c3...</td>\n",
       "      <td>6.52</td>\n",
       "      <td>CHEMBL256</td>\n",
       "    </tr>\n",
       "    <tr>\n",
       "      <th>3</th>\n",
       "      <td>CC(C)(C)NC(=O)Nc1nc2nn(CCCc3ccccc3)cc2c2nc(-c3...</td>\n",
       "      <td>7.19</td>\n",
       "      <td>CHEMBL256</td>\n",
       "    </tr>\n",
       "    <tr>\n",
       "      <th>4</th>\n",
       "      <td>COc1ccc(-n2cc3c(n2)c(N)nc2ccccc23)cc1</td>\n",
       "      <td>7.04</td>\n",
       "      <td>CHEMBL256</td>\n",
       "    </tr>\n",
       "  </tbody>\n",
       "</table>\n",
       "</div>"
      ],
      "text/plain": [
       "                                              Smiles  pChEMBL_Value  \\\n",
       "0  CCCCn1cc2c(nc(NC(=O)Nc3ccc(Cl)c(Cl)c3)n3nc(-c4...           8.43   \n",
       "1  O=C(Cc1ccccc1)Nc1nc2nn(CCc3ccccc3)cc2c2nc(-c3c...           7.35   \n",
       "2  O=C(COc1ccccc1)Nc1nc2nn(CCc3ccccc3)cc2c2nc(-c3...           6.52   \n",
       "3  CC(C)(C)NC(=O)Nc1nc2nn(CCCc3ccccc3)cc2c2nc(-c3...           7.19   \n",
       "4              COc1ccc(-n2cc3c(n2)c(N)nc2ccccc23)cc1           7.04   \n",
       "\n",
       "  Target_ChEMBL_ID  \n",
       "0        CHEMBL256  \n",
       "1        CHEMBL256  \n",
       "2        CHEMBL256  \n",
       "3        CHEMBL256  \n",
       "4        CHEMBL256  "
      ]
     },
     "execution_count": 3,
     "metadata": {},
     "output_type": "execute_result"
    }
   ],
   "source": [
    "import pandas as pd\n",
    "\n",
    "mol_col = 'Smiles'\n",
    "activity_col = 'pChEMBL_Value'\n",
    "target_col = 'Target_ChEMBL_ID'\n",
    "columns = (mol_col, activity_col, target_col)\n",
    "\n",
    "df = pd.read_csv(\n",
    "    'jupyter/data/LIGAND_RAW_small.tsv', \n",
    "    na_values=('NA', 'nan', 'NaN'), \n",
    "    header=0, \n",
    "    sep='\\t', \n",
    "    usecols=columns\n",
    ")\n",
    "df.dropna(subset=[activity_col, target_col], inplace=True)\n",
    "df.head()"
   ]
  },
  {
   "cell_type": "code",
   "execution_count": 4,
   "id": "68802923",
   "metadata": {},
   "outputs": [
    {
     "data": {
      "text/plain": [
       "(266, 3)"
      ]
     },
     "execution_count": 4,
     "metadata": {},
     "output_type": "execute_result"
    }
   ],
   "source": [
    "df.shape"
   ]
  },
  {
   "cell_type": "markdown",
   "id": "8aa2cace",
   "metadata": {},
   "source": [
    "We have data for quite a few adenosine receptor subtypes in this set:"
   ]
  },
  {
   "cell_type": "code",
   "execution_count": 5,
   "id": "00c9e895-6d54-45db-9c35-c4129637c116",
   "metadata": {},
   "outputs": [
    {
     "data": {
      "text/plain": [
       "CHEMBL318     60\n",
       "CHEMBL256     55\n",
       "CHEMBL226     45\n",
       "CHEMBL251     44\n",
       "CHEMBL302     44\n",
       "CHEMBL255     16\n",
       "CHEMBL3360     1\n",
       "CHEMBL2592     1\n",
       "Name: Target_ChEMBL_ID, dtype: int64"
      ]
     },
     "execution_count": 5,
     "metadata": {},
     "output_type": "execute_result"
    }
   ],
   "source": [
    "df[target_col].value_counts()"
   ]
  },
  {
   "cell_type": "markdown",
   "id": "f3b70b20-0e07-4b75-87c6-22eb287c802f",
   "metadata": {},
   "source": [
    "However, we will only use data for A1R (ID=`CHEMBL318`) and A3R (ID=`CHEMBL256`).\n",
    "Here we create two QSARdataset objects, which is a class to prepare the dataset for QSAR training."
   ]
  },
  {
   "cell_type": "code",
   "execution_count": 6,
   "id": "38bc5183",
   "metadata": {},
   "outputs": [],
   "source": [
    "df_a1 = df[df[target_col] == \"CHEMBL318\"]\n",
    "df_a3 = df[df[target_col] == \"CHEMBL256\"]"
   ]
  },
  {
   "cell_type": "code",
   "execution_count": 7,
   "id": "13dc5789",
   "metadata": {},
   "outputs": [
    {
     "data": {
      "text/html": [
       "<div>\n",
       "<style scoped>\n",
       "    .dataframe tbody tr th:only-of-type {\n",
       "        vertical-align: middle;\n",
       "    }\n",
       "\n",
       "    .dataframe tbody tr th {\n",
       "        vertical-align: top;\n",
       "    }\n",
       "\n",
       "    .dataframe thead th {\n",
       "        text-align: right;\n",
       "    }\n",
       "</style>\n",
       "<table border=\"1\" class=\"dataframe\">\n",
       "  <thead>\n",
       "    <tr style=\"text-align: right;\">\n",
       "      <th></th>\n",
       "      <th>Smiles</th>\n",
       "      <th>pChEMBL_Value</th>\n",
       "      <th>Target_ChEMBL_ID</th>\n",
       "    </tr>\n",
       "  </thead>\n",
       "  <tbody>\n",
       "    <tr>\n",
       "      <th>54</th>\n",
       "      <td>CCCn1c(=O)n(C)c(=O)c2[nH]c(-c3cccnc3)nc21</td>\n",
       "      <td>7.14</td>\n",
       "      <td>CHEMBL318</td>\n",
       "    </tr>\n",
       "    <tr>\n",
       "      <th>56</th>\n",
       "      <td>CC(C)Cn1c(N)nc2c1c(=O)n(CC1CC1)c(=O)n2CC1CC1</td>\n",
       "      <td>5.46</td>\n",
       "      <td>CHEMBL318</td>\n",
       "    </tr>\n",
       "    <tr>\n",
       "      <th>65</th>\n",
       "      <td>CCCn1c(=O)c2nc(C34CC5CC(CC3C5)C4)[nH]c2n(CCC)c1=O</td>\n",
       "      <td>9.72</td>\n",
       "      <td>CHEMBL318</td>\n",
       "    </tr>\n",
       "    <tr>\n",
       "      <th>70</th>\n",
       "      <td>Nc1nc(OCCc2cccc(Cl)c2)nc2c1ncn2C1O[C@H](CO)[C@...</td>\n",
       "      <td>6.60</td>\n",
       "      <td>CHEMBL318</td>\n",
       "    </tr>\n",
       "    <tr>\n",
       "      <th>71</th>\n",
       "      <td>NCCCCCCC(=O)Nc1nc2ccc(Cl)cc2c2nc(-c3ccco3)nn12</td>\n",
       "      <td>6.94</td>\n",
       "      <td>CHEMBL318</td>\n",
       "    </tr>\n",
       "  </tbody>\n",
       "</table>\n",
       "</div>"
      ],
      "text/plain": [
       "                                               Smiles  pChEMBL_Value  \\\n",
       "54          CCCn1c(=O)n(C)c(=O)c2[nH]c(-c3cccnc3)nc21           7.14   \n",
       "56       CC(C)Cn1c(N)nc2c1c(=O)n(CC1CC1)c(=O)n2CC1CC1           5.46   \n",
       "65  CCCn1c(=O)c2nc(C34CC5CC(CC3C5)C4)[nH]c2n(CCC)c1=O           9.72   \n",
       "70  Nc1nc(OCCc2cccc(Cl)c2)nc2c1ncn2C1O[C@H](CO)[C@...           6.60   \n",
       "71     NCCCCCCC(=O)Nc1nc2ccc(Cl)cc2c2nc(-c3ccco3)nn12           6.94   \n",
       "\n",
       "   Target_ChEMBL_ID  \n",
       "54        CHEMBL318  \n",
       "56        CHEMBL318  \n",
       "65        CHEMBL318  \n",
       "70        CHEMBL318  \n",
       "71        CHEMBL318  "
      ]
     },
     "execution_count": 7,
     "metadata": {},
     "output_type": "execute_result"
    }
   ],
   "source": [
    "df_a1.head()"
   ]
  },
  {
   "cell_type": "code",
   "execution_count": 8,
   "id": "cc0212ca",
   "metadata": {},
   "outputs": [
    {
     "data": {
      "text/html": [
       "<div>\n",
       "<style scoped>\n",
       "    .dataframe tbody tr th:only-of-type {\n",
       "        vertical-align: middle;\n",
       "    }\n",
       "\n",
       "    .dataframe tbody tr th {\n",
       "        vertical-align: top;\n",
       "    }\n",
       "\n",
       "    .dataframe thead th {\n",
       "        text-align: right;\n",
       "    }\n",
       "</style>\n",
       "<table border=\"1\" class=\"dataframe\">\n",
       "  <thead>\n",
       "    <tr style=\"text-align: right;\">\n",
       "      <th></th>\n",
       "      <th>Smiles</th>\n",
       "      <th>pChEMBL_Value</th>\n",
       "      <th>Target_ChEMBL_ID</th>\n",
       "    </tr>\n",
       "  </thead>\n",
       "  <tbody>\n",
       "    <tr>\n",
       "      <th>0</th>\n",
       "      <td>CCCCn1cc2c(nc(NC(=O)Nc3ccc(Cl)c(Cl)c3)n3nc(-c4...</td>\n",
       "      <td>8.43</td>\n",
       "      <td>CHEMBL256</td>\n",
       "    </tr>\n",
       "    <tr>\n",
       "      <th>1</th>\n",
       "      <td>O=C(Cc1ccccc1)Nc1nc2nn(CCc3ccccc3)cc2c2nc(-c3c...</td>\n",
       "      <td>7.35</td>\n",
       "      <td>CHEMBL256</td>\n",
       "    </tr>\n",
       "    <tr>\n",
       "      <th>2</th>\n",
       "      <td>O=C(COc1ccccc1)Nc1nc2nn(CCc3ccccc3)cc2c2nc(-c3...</td>\n",
       "      <td>6.52</td>\n",
       "      <td>CHEMBL256</td>\n",
       "    </tr>\n",
       "    <tr>\n",
       "      <th>3</th>\n",
       "      <td>CC(C)(C)NC(=O)Nc1nc2nn(CCCc3ccccc3)cc2c2nc(-c3...</td>\n",
       "      <td>7.19</td>\n",
       "      <td>CHEMBL256</td>\n",
       "    </tr>\n",
       "    <tr>\n",
       "      <th>4</th>\n",
       "      <td>COc1ccc(-n2cc3c(n2)c(N)nc2ccccc23)cc1</td>\n",
       "      <td>7.04</td>\n",
       "      <td>CHEMBL256</td>\n",
       "    </tr>\n",
       "  </tbody>\n",
       "</table>\n",
       "</div>"
      ],
      "text/plain": [
       "                                              Smiles  pChEMBL_Value  \\\n",
       "0  CCCCn1cc2c(nc(NC(=O)Nc3ccc(Cl)c(Cl)c3)n3nc(-c4...           8.43   \n",
       "1  O=C(Cc1ccccc1)Nc1nc2nn(CCc3ccccc3)cc2c2nc(-c3c...           7.35   \n",
       "2  O=C(COc1ccccc1)Nc1nc2nn(CCc3ccccc3)cc2c2nc(-c3...           6.52   \n",
       "3  CC(C)(C)NC(=O)Nc1nc2nn(CCCc3ccccc3)cc2c2nc(-c3...           7.19   \n",
       "4              COc1ccc(-n2cc3c(n2)c(N)nc2ccccc23)cc1           7.04   \n",
       "\n",
       "  Target_ChEMBL_ID  \n",
       "0        CHEMBL256  \n",
       "1        CHEMBL256  \n",
       "2        CHEMBL256  \n",
       "3        CHEMBL256  \n",
       "4        CHEMBL256  "
      ]
     },
     "execution_count": 8,
     "metadata": {},
     "output_type": "execute_result"
    }
   ],
   "source": [
    "df_a3.head()"
   ]
  },
  {
   "cell_type": "markdown",
   "id": "9b14abcc-edaa-4581-86f7-7d2f0aa25fb7",
   "metadata": {},
   "source": [
    "# Building the Models\n",
    "\n",
    "Since this tutorial is only meant for demonstration purposes, we will not perform any further preprocessing of the data and just build two simple Random forest models on the raw data using DrugEx built-in functions and interfaces:\n",
    "This is of course not the proper way of doing things, but a more complex machine learning worflow could be envisaged here.\n",
    "A seperate package ([QSPRpred](https://gitlab.services.universiteitleiden.nl/cdd/QSPRpred)) provides functionality to train QSAR models compatible with DrugEx.\n",
    "\n",
    "Below we show 2 options, to either train QSAR model [without QSPRpred](#train-qsar-model-using-sklearn) and how to load in a QSAR model trained [with QSPRpred](#)."
   ]
  },
  {
   "cell_type": "markdown",
   "id": "14d3f6f7",
   "metadata": {},
   "source": [
    "#### Load in QSAR model with QSPRpred"
   ]
  },
  {
   "cell_type": "markdown",
   "id": "383869ef",
   "metadata": {},
   "source": [
    "First make sure you have qsprpred installed in your enviroment. Then you can load in the descriptorcalcator object \n",
    "(to calculate the molecule descriptors during reinforcement learning) and the model."
   ]
  },
  {
   "cell_type": "code",
   "execution_count": 9,
   "id": "4997dbe3",
   "metadata": {},
   "outputs": [],
   "source": [
    "from qsprpred.scorers.predictor import Predictor\n",
    "\n",
    "# QSAR model for A1 \n",
    "scorer_a1 = Predictor.fromFile('jupyter/models',  type=\"REG\", name=\"A1\", algorithm='RF', target='P30542', scale=False)\n",
    "\n",
    "# QSAR model for A2\n",
    "scorer_a3 = Predictor.fromFile('jupyter/models',  type=\"REG\", name=\"A3\", algorithm='RF', target='P0DMS8', scale=False)"
   ]
  },
  {
   "cell_type": "markdown",
   "id": "e5d41009",
   "metadata": {},
   "source": [
    "Now it should work as a scorer."
   ]
  },
  {
   "cell_type": "code",
   "execution_count": 10,
   "id": "c1f1d773",
   "metadata": {},
   "outputs": [
    {
     "name": "stderr",
     "output_type": "stream",
     "text": [
      "/home/sohvi/.conda/envs/drugex/lib/python3.9/site-packages/sklearn/base.py:443: UserWarning: X has feature names, but RandomForestRegressor was fitted without feature names\n",
      "  warnings.warn(\n"
     ]
    },
    {
     "name": "stdout",
     "output_type": "stream",
     "text": [
      "[5.92443278]\n",
      "[6.15109]\n"
     ]
    },
    {
     "name": "stderr",
     "output_type": "stream",
     "text": [
      "/home/sohvi/.conda/envs/drugex/lib/python3.9/site-packages/sklearn/base.py:443: UserWarning: X has feature names, but RandomForestRegressor was fitted without feature names\n",
      "  warnings.warn(\n"
     ]
    }
   ],
   "source": [
    "print(scorer_a1([\"CN1C=NC2=C1C(=O)N(C(=O)N2C)C\"]))\n",
    "print(scorer_a3([\"CN1C=NC2=C1C(=O)N(C(=O)N2C)C\"]))"
   ]
  },
  {
   "cell_type": "markdown",
   "id": "80d44482",
   "metadata": {},
   "source": [
    "### Train QSAR model using sklearn"
   ]
  },
  {
   "cell_type": "markdown",
   "id": "a5bf53f1",
   "metadata": {},
   "source": [
    "It is still possible to use other (also non-sklearn) models with drugex, as long as they can be wrapped in the ModelScorer class (see section [Designating Scoring Functions](#scoring)) \n",
    "\n",
    "Since this tutorial is only meant for demonstration purposes, we will not perform any further preprocessing of the data and just build two simple random forest models on the raw data using DrugEx built-in functions and interfaces:"
   ]
  },
  {
   "cell_type": "code",
   "execution_count": 2,
   "id": "b7b8d4a1",
   "metadata": {},
   "outputs": [],
   "source": [
    "from drugex.training.scorers.predictors import Predictor\n",
    "from rdkit import Chem\n",
    "from sklearn.ensemble import RandomForestRegressor\n",
    "\n",
    "def train(df):\n",
    "    df_transformed = [(Chem.MolFromSmiles(x), y) for x, y in zip(df[mol_col], df[activity_col]) if x and type(x) is str]\n",
    "    X = Predictor.calc_physchem([x[0] for x in df_transformed])\n",
    "    y = [x[1] for x in df_transformed]\n",
    "    \n",
    "    rf = RandomForestRegressor(random_state=42)\n",
    "    rf.fit(X, y)\n",
    "    \n",
    "    return rf"
   ]
  },
  {
   "cell_type": "code",
   "execution_count": 3,
   "id": "4225cc2b",
   "metadata": {},
   "outputs": [
    {
     "ename": "NameError",
     "evalue": "name 'df_a1' is not defined",
     "output_type": "error",
     "traceback": [
      "\u001b[0;31m---------------------------------------------------------------------------\u001b[0m",
      "\u001b[0;31mNameError\u001b[0m                                 Traceback (most recent call last)",
      "Cell \u001b[0;32mIn[3], line 1\u001b[0m\n\u001b[0;32m----> 1\u001b[0m rf_a1 \u001b[39m=\u001b[39m train(df_a1)\n\u001b[1;32m      2\u001b[0m rf_a3 \u001b[39m=\u001b[39m train(df_a3)\n",
      "\u001b[0;31mNameError\u001b[0m: name 'df_a1' is not defined"
     ]
    }
   ],
   "source": [
    "rf_a1 = train(df_a1)\n",
    "rf_a3 = train(df_a3)"
   ]
  },
  {
   "cell_type": "markdown",
   "id": "d49bd962",
   "metadata": {},
   "source": [
    "Let's have a look at the performance of our trained models."
   ]
  },
  {
   "cell_type": "markdown",
   "id": "37d02793-fc87-43a4-aae9-709f2050b8bb",
   "metadata": {},
   "source": [
    "<a id='scoring'></a>\n",
    "\n",
    "##### Designating Scoring Functions\n",
    "\n",
    "Now we can wrap the built models in the `ModelScorer` class, which extends the `Scorer` interface to facilitate compound scoring during reinforcement learning:"
   ]
  },
  {
   "cell_type": "code",
   "execution_count": null,
   "id": "f68c7779-1f63-447d-8878-df4dd538fa57",
   "metadata": {},
   "outputs": [],
   "source": [
    "from drugex.training.interfaces import Scorer\n",
    "\n",
    "class ModelScorer(Scorer):\n",
    "    \n",
    "    def __init__(self, model, prefix):\n",
    "        super().__init__()\n",
    "        self.model = model\n",
    "        self.prefix = prefix\n",
    "    \n",
    "    def getScores(self, mols, frags=None):\n",
    "        X = Predictor.calc_physchem(mols)\n",
    "        return self.model.predict(X)\n",
    "    \n",
    "    def getKey(self):\n",
    "        return f\"{self.prefix}_{type(self.model)}\"\n",
    "    \n",
    "scorer_a1 = ModelScorer(rf_a1, 'A1')\n",
    "scorer_a3 = ModelScorer(rf_a3, 'A3')"
   ]
  },
  {
   "cell_type": "markdown",
   "id": "37eeadbf-7f22-4df8-810e-464cb1073807",
   "metadata": {},
   "source": [
    "Instances of this class serve as scoring functions that are used to calculate the rewards in reinforcement learning. We can show how scoring works on a simple example of caffeine:"
   ]
  },
  {
   "cell_type": "code",
   "execution_count": 4,
   "id": "8d516c88-133a-401f-abe6-9ae61e09596f",
   "metadata": {},
   "outputs": [
    {
     "ename": "NameError",
     "evalue": "name 'scorer_a1' is not defined",
     "output_type": "error",
     "traceback": [
      "\u001b[0;31m---------------------------------------------------------------------------\u001b[0m",
      "\u001b[0;31mNameError\u001b[0m                                 Traceback (most recent call last)",
      "Cell \u001b[0;32mIn[4], line 1\u001b[0m\n\u001b[0;32m----> 1\u001b[0m scorer_a1([\u001b[39m\"\u001b[39m\u001b[39mCN1C=NC2=C1C(=O)N(C(=O)N2C)C\u001b[39m\u001b[39m\"\u001b[39m])\n",
      "\u001b[0;31mNameError\u001b[0m: name 'scorer_a1' is not defined"
     ]
    }
   ],
   "source": [
    "scorer_a1([\"CN1C=NC2=C1C(=O)N(C(=O)N2C)C\"])"
   ]
  },
  {
   "cell_type": "code",
   "execution_count": 5,
   "id": "4bca0387-a1a2-4eb3-9f6f-ead50c6a80f4",
   "metadata": {},
   "outputs": [
    {
     "ename": "NameError",
     "evalue": "name 'scorer_a3' is not defined",
     "output_type": "error",
     "traceback": [
      "\u001b[0;31m---------------------------------------------------------------------------\u001b[0m",
      "\u001b[0;31mNameError\u001b[0m                                 Traceback (most recent call last)",
      "Cell \u001b[0;32mIn[5], line 1\u001b[0m\n\u001b[0;32m----> 1\u001b[0m scorer_a3([\u001b[39m\"\u001b[39m\u001b[39mCN1C=NC2=C1C(=O)N(C(=O)N2C)C\u001b[39m\u001b[39m\"\u001b[39m])\n",
      "\u001b[0;31mNameError\u001b[0m: name 'scorer_a3' is not defined"
     ]
    }
   ],
   "source": [
    "scorer_a3([\"CN1C=NC2=C1C(=O)N(C(=O)N2C)C\"])"
   ]
  },
  {
   "cell_type": "markdown",
   "id": "02cb1280-dbe3-46cf-a79a-c5b8eaa38fb4",
   "metadata": {},
   "source": [
    "We can see that indeed our model for A1R might not be ideal in this case because the ChEMBL database actually reports pChEMBL values for caffeine in similar range for both targets (around 4.8).\n",
    "\n",
    "#### Applying Modifiers\n",
    "\n",
    "Next, we need to set proper modifiers for the scoring functions to calculate the correct rewards. You can again envisage different modifiers here that will mean different rewards, but we just use `ClippedScore` here:"
   ]
  },
  {
   "cell_type": "code",
   "execution_count": 18,
   "id": "edc57d67-b7cc-45ea-9583-fdee50ccc77c",
   "metadata": {},
   "outputs": [],
   "source": [
    "from drugex.training.scorers.modifiers import ClippedScore\n",
    "\n",
    "pad = 3.5\n",
    "activity_threshold = 6.5\n",
    "\n",
    "# inactive target\n",
    "scorer_a1.setModifier(ClippedScore(lower_x=activity_threshold + pad, upper_x=activity_threshold))\n",
    "\n",
    "# active target\n",
    "scorer_a3.setModifier(ClippedScore(lower_x=activity_threshold - pad, upper_x=activity_threshold))"
   ]
  },
  {
   "cell_type": "markdown",
   "id": "32226576-27e3-455a-abc4-ac1bcbb8a587",
   "metadata": {},
   "source": [
    "`ClippedScore` will change the previous values as follows:"
   ]
  },
  {
   "cell_type": "code",
   "execution_count": 19,
   "id": "769d012c-1bc2-4af3-9ecf-503d71930b21",
   "metadata": {},
   "outputs": [
    {
     "data": {
      "text/plain": [
       "array([1.])"
      ]
     },
     "execution_count": 19,
     "metadata": {},
     "output_type": "execute_result"
    }
   ],
   "source": [
    "scorer_a1([\"CN1C=NC2=C1C(=O)N(C(=O)N2C)C\"])"
   ]
  },
  {
   "cell_type": "code",
   "execution_count": 20,
   "id": "6402c564-f443-4b7a-a536-b7d682ac60ba",
   "metadata": {},
   "outputs": [
    {
     "data": {
      "text/plain": [
       "array([1.])"
      ]
     },
     "execution_count": 20,
     "metadata": {},
     "output_type": "execute_result"
    }
   ],
   "source": [
    "scorer_a3([\"CN1C=NC2=C1C(=O)N(C(=O)N2C)C\"])"
   ]
  },
  {
   "cell_type": "markdown",
   "id": "be775830-fd29-44fe-be95-11753462e85d",
   "metadata": {},
   "source": [
    "The intent of this modifier becomes clear when we plot the `ClippedScore` function for some example values:"
   ]
  },
  {
   "cell_type": "code",
   "execution_count": 21,
   "id": "933b0273-aa19-4d36-9a3d-9bd8eb8f599f",
   "metadata": {},
   "outputs": [
    {
     "data": {
      "text/plain": [
       "<AxesSubplot: xlabel='Original', ylabel='ClippedScore'>"
      ]
     },
     "execution_count": 21,
     "metadata": {},
     "output_type": "execute_result"
    },
    {
     "data": {
      "image/png": "[encoded data removed]",
      "text/plain": [
       "<Figure size 640x480 with 1 Axes>"
      ]
     },
     "metadata": {},
     "output_type": "display_data"
    }
   ],
   "source": [
    "import numpy as np\n",
    "import pandas as pd\n",
    "\n",
    "def depict_modifier(modifier):\n",
    "    vals = np.arange(0,12, 0.2)\n",
    "    scores = [(x, modifier(x)) for x in vals] # get the A1R modifier for inactivity (the lower the activity, the higher the reward)\n",
    "    scores = pd.DataFrame(scores, columns=['Original', 'ClippedScore'])\n",
    "    return scores.plot.scatter(x = 'Original', y = 'ClippedScore')\n",
    "\n",
    "depict_modifier(scorer_a1.getModifier())"
   ]
  },
  {
   "cell_type": "markdown",
   "id": "4d906b30-c268-4ad7-aad3-ea9d56633f04",
   "metadata": {},
   "source": [
    "Therefore, the score starts to deteriorate gradually as we cross the chosen `activity_threshold` (6.5) and becomes zero at `activity_threshold + pad`. When we show the same for our 'active' scoring function, the relationship is the exact opposite:"
   ]
  },
  {
   "cell_type": "code",
   "execution_count": 22,
   "id": "46e6c79e-001d-4bcb-b54b-bd9e8cd4927f",
   "metadata": {},
   "outputs": [
    {
     "data": {
      "text/plain": [
       "<AxesSubplot: xlabel='Original', ylabel='ClippedScore'>"
      ]
     },
     "execution_count": 22,
     "metadata": {},
     "output_type": "execute_result"
    },
    {
     "data": {
      "image/png": "[encoded data removed]",
      "text/plain": [
       "<Figure size 640x480 with 1 Axes>"
      ]
     },
     "metadata": {},
     "output_type": "display_data"
    }
   ],
   "source": [
    "depict_modifier(scorer_a3.getModifier())"
   ]
  },
  {
   "cell_type": "markdown",
   "id": "cc84a392-b3ad-47ff-9350-9d92ebb6ceea",
   "metadata": {},
   "source": [
    "Therefore, we reward all molecules with a score above `activity_threshold` with 1.0 and all molecules predicted as inactive with scores below `activity_threshold - pad` get no reward.\n",
    "\n",
    "In addition to these scores, we also implement two other scoring functions for a desired `QED` range and synthetic accessibility score (`SA`):"
   ]
  },
  {
   "cell_type": "code",
   "execution_count": 23,
   "id": "b3649d9b-57cb-49c5-a869-8f247ab439b5",
   "metadata": {},
   "outputs": [],
   "source": [
    "from drugex.training.scorers.properties import Property\n",
    "\n",
    "qed = Property(\n",
    "    \"QED\",\n",
    "    modifier=ClippedScore(lower_x=0, upper_x=1.0)\n",
    ")\n",
    "\n",
    "sascore = Property(\n",
    "    \"SA\",\n",
    "    modifier=ClippedScore(lower_x=4.5, upper_x=0)\n",
    ")"
   ]
  },
  {
   "cell_type": "markdown",
   "id": "c44646c9-6776-4e57-a998-ec02a831bbac",
   "metadata": {},
   "source": [
    "This concludes our definition of scoring functions. As the last step, we serialize our QSAR models so that we can use them for predictions on the generated molecules in the [generation tutorial](generation.ipynb): "
   ]
  },
  {
   "cell_type": "code",
   "execution_count": 24,
   "id": "6f5711b7-211d-41bd-83c0-b0193a5a700f",
   "metadata": {},
   "outputs": [],
   "source": [
    "import pickle\n",
    "\n",
    "models_dir = 'data/models/reinforced/graph'\n",
    "os.makedirs(models_dir, exist_ok=True)\n",
    "pickle.dump(scorer_a1, open(f'{models_dir}/scorer_a1.pkg', 'bw'))\n",
    "pickle.dump(scorer_a3, open(f'{models_dir}/scorer_a3.pkg', 'bw'))"
   ]
  },
  {
   "cell_type": "markdown",
   "id": "795d66ad-fffa-41f7-ae7a-e3db2e50078d",
   "metadata": {},
   "source": [
    "## Creating Environment\n",
    "\n",
    "The environment for reinforcement learning has two main ingredients in DrugEx. The scoring functions we created above and thresholds:"
   ]
  },
  {
   "cell_type": "code",
   "execution_count": 25,
   "id": "f91730d3-e98d-49fc-ad12-52e05d32c301",
   "metadata": {},
   "outputs": [],
   "source": [
    "from drugex.training.environment import DrugExEnvironment\n",
    "from drugex.training.rewards import ParetoCrowdingDistance\n",
    "\n",
    "scorers = [\n",
    "    scorer_a1,\n",
    "    scorer_a3,\n",
    "    qed,\n",
    "    sascore\n",
    "]\n",
    "thresholds = [\n",
    "    0.99,\n",
    "    0.99,\n",
    "    0.0,\n",
    "    0.0\n",
    "]\n",
    "\n",
    "environment = DrugExEnvironment(scorers, thresholds, reward_scheme=ParetoCrowdingDistance())"
   ]
  },
  {
   "cell_type": "markdown",
   "id": "35e5cc7a-38dc-414a-8e9c-70e46fb6afaf",
   "metadata": {
    "tags": []
   },
   "source": [
    "The thresholds are applied to the modified scores when the desirablity of the molecules is determined. Molecules with scores below the given thresholds are considered as undesired by DrugEx. This information is used during evaluation of the model and also calculation of some of the rewards (i.e. `drugex.training.rewards.WeightedSum`). However, in this case we will use the `ParetoCrowdingDistance` reward scheme, which calculates rewards based on Pareto ranking of the compounds in the space of objectives using the `NSGA-II` algorithm.\n",
    "\n",
    "Now we have all ingredients to start optimization of our models. We can reuse the same environment for all models within DrugEx. As usual, we start with the graph-based solution:\n",
    "\n",
    "## Graph-Based Model"
   ]
  },
  {
   "cell_type": "code",
   "execution_count": 26,
   "id": "0594f425-9a2e-433a-81af-ac8643f60e19",
   "metadata": {},
   "outputs": [],
   "source": [
    "from drugex.training.models.explorer import GraphExplorer\n",
    "from drugex.training.models.transform import GraphModel\n",
    "from drugex.data.corpus.vocabulary import VocGraph\n",
    "\n",
    "vocabulary = VocGraph.fromFile('jupyter/models/finetuned/graph/ligand_finetuned.vocab')\n",
    "finetuned = GraphModel(voc_trg=vocabulary, use_gpus=GPUS)\n",
    "finetuned.loadStatesFromFile('jupyter/models/finetuned/graph/chembl_ligand.pkg')\n",
    "pretrained = GraphModel(voc_trg=vocabulary, use_gpus=GPUS)\n",
    "pretrained.loadStatesFromFile('jupyter/models/pretrained/graph/chembl27/chembl27_graph.pkg')\n",
    "\n",
    "explorer = GraphExplorer(agent=pretrained, env=environment, mutate=finetuned, epsilon=0.1, use_gpus=GPUS)"
   ]
  },
  {
   "cell_type": "markdown",
   "id": "55cca706-df37-4ca6-ae86-7febcfbc937e",
   "metadata": {},
   "source": [
    "Here we use the pretrained model as the agent for the reinforcement learning and the finetuned network will be our prior, which introduces mutations to the generated structures according to the exploration rate parameter `epsilon` (see [preprint](https://chemrxiv.org/engage/chemrxiv/article-details/61aa8b58bc299c0b30887f80)). \n",
    "\n",
    "We will also need the previously generated training and validation sets for finetuning to run the calculations:"
   ]
  },
  {
   "cell_type": "code",
   "execution_count": 27,
   "id": "38ddc575-9853-4aa6-929a-0da71d95e39f",
   "metadata": {},
   "outputs": [],
   "source": [
    "from drugex.data.datasets import GraphFragDataSet\n",
    "\n",
    "train = GraphFragDataSet('jupyter/data/sets/graph/ligand_train.tsv')\n",
    "test = GraphFragDataSet('jupyter/data/sets/graph/ligand_test.tsv')"
   ]
  },
  {
   "cell_type": "markdown",
   "id": "255c4576-cfaf-411c-a50c-54b1252d5956",
   "metadata": {},
   "source": [
    "After that we can finally start the training loop:"
   ]
  },
  {
   "cell_type": "code",
   "execution_count": 28,
   "id": "18413ac2-dab5-48e5-83fb-c64a0be142ec",
   "metadata": {},
   "outputs": [
    {
     "data": {
      "application/vnd.jupyter.widget-view+json": {
       "model_id": "4ecc1ce7615144ed9713851887dbfbd4",
       "version_major": 2,
       "version_minor": 0
      },
      "text/plain": [
       "Fitting graph explorer:   0%|          | 0/3 [00:00<?, ?it/s]"
      ]
     },
     "metadata": {},
     "output_type": "display_data"
    },
    {
     "data": {
      "application/vnd.jupyter.widget-view+json": {
       "model_id": "af9349e0fdb64ea9abb51cd701c7b520",
       "version_major": 2,
       "version_minor": 0
      },
      "text/plain": [
       "Iterating over training batches:   0%|          | 0/20 [00:00<?, ?it/s]"
      ]
     },
     "metadata": {},
     "output_type": "display_data"
    },
    {
     "data": {
      "application/vnd.jupyter.widget-view+json": {
       "model_id": "035f8ee0a63547689ebb0032ee1ce59c",
       "version_major": 2,
       "version_minor": 0
      },
      "text/plain": [
       "Iterating over validation batches:   0%|          | 0/20 [00:00<?, ?it/s]"
      ]
     },
     "metadata": {},
     "output_type": "display_data"
    },
    {
     "name": "stderr",
     "output_type": "stream",
     "text": [
      "../drugex/training/models/explorer.py:194: UserWarning: Creating a tensor from a list of numpy.ndarrays is extremely slow. Please consider converting the list to a single numpy.ndarray with numpy.array() before converting to a tensor. (Triggered internally at ../torch/csrc/utils/tensor_new.cpp:230.)\n",
      "  reward = torch.Tensor(reward).to(src.device)\n"
     ]
    },
    {
     "data": {
      "application/vnd.jupyter.widget-view+json": {
       "model_id": "8236c2b4e7644aebad7d02cbf0b85605",
       "version_major": 2,
       "version_minor": 0
      },
      "text/plain": [
       "Iterating over training batches:   0%|          | 0/20 [00:00<?, ?it/s]"
      ]
     },
     "metadata": {},
     "output_type": "display_data"
    },
    {
     "data": {
      "application/vnd.jupyter.widget-view+json": {
       "model_id": "51bc916cce664028a18f8262bb662161",
       "version_major": 2,
       "version_minor": 0
      },
      "text/plain": [
       "Iterating over validation batches:   0%|          | 0/20 [00:00<?, ?it/s]"
      ]
     },
     "metadata": {},
     "output_type": "display_data"
    },
    {
     "data": {
      "application/vnd.jupyter.widget-view+json": {
       "model_id": "e3d49d39d77d408986b49c42bf53d205",
       "version_major": 2,
       "version_minor": 0
      },
      "text/plain": [
       "Iterating over training batches:   0%|          | 0/20 [00:00<?, ?it/s]"
      ]
     },
     "metadata": {},
     "output_type": "display_data"
    },
    {
     "data": {
      "application/vnd.jupyter.widget-view+json": {
       "model_id": "cc4e8105f023465abd455ea330e89784",
       "version_major": 2,
       "version_minor": 0
      },
      "text/plain": [
       "Iterating over validation batches:   0%|          | 0/20 [00:00<?, ?it/s]"
      ]
     },
     "metadata": {},
     "output_type": "display_data"
    }
   ],
   "source": [
    "from drugex.training.monitors import FileMonitor\n",
    "\n",
    "monitor = FileMonitor(\"jupyter/models/reinforced/graph/agent\", verbose=True) # we can use the same monitor type for all models in DrugEx\n",
    "explorer.fit(train.asDataLoader(batch_size=128), test.asDataLoader(batch_size=128), monitor=monitor, epochs=EPOCHS)"
   ]
  },
  {
   "cell_type": "markdown",
   "id": "186adfff-e17b-4868-936e-3c5b274620b7",
   "metadata": {},
   "source": [
    "Finally, we just save the used vocabulary again for future reference:"
   ]
  },
  {
   "cell_type": "code",
   "execution_count": 29,
   "id": "7e4cd33f-9daf-44b7-a084-f0bf4d0749f9",
   "metadata": {},
   "outputs": [],
   "source": [
    "vocabulary.toFile('jupyter/models/reinforced/graph/agent.vocab')"
   ]
  },
  {
   "cell_type": "markdown",
   "id": "b2f39591-e88c-4507-95f6-3989432d3188",
   "metadata": {},
   "source": [
    "We can again use the monitor's output to see how our model performed during training and to plot results more easily:"
   ]
  },
  {
   "cell_type": "code",
   "execution_count": 30,
   "id": "11007a1d-ac19-47f9-8393-759b12064cfe",
   "metadata": {},
   "outputs": [
    {
     "data": {
      "text/html": [
       "<div>\n",
       "<style scoped>\n",
       "    .dataframe tbody tr th:only-of-type {\n",
       "        vertical-align: middle;\n",
       "    }\n",
       "\n",
       "    .dataframe tbody tr th {\n",
       "        vertical-align: top;\n",
       "    }\n",
       "\n",
       "    .dataframe thead th {\n",
       "        text-align: right;\n",
       "    }\n",
       "</style>\n",
       "<table border=\"1\" class=\"dataframe\">\n",
       "  <thead>\n",
       "    <tr style=\"text-align: right;\">\n",
       "      <th></th>\n",
       "      <th>epoch</th>\n",
       "      <th>loss_train</th>\n",
       "      <th>loss_valid</th>\n",
       "      <th>valid_ratio</th>\n",
       "      <th>unique_ratio</th>\n",
       "      <th>desire_ratio</th>\n",
       "      <th>mean_train_loss</th>\n",
       "    </tr>\n",
       "  </thead>\n",
       "  <tbody>\n",
       "    <tr>\n",
       "      <th>0</th>\n",
       "      <td>1</td>\n",
       "      <td>NaN</td>\n",
       "      <td>NaN</td>\n",
       "      <td>0.993789</td>\n",
       "      <td>1.000000</td>\n",
       "      <td>0.459627</td>\n",
       "      <td>0.920635</td>\n",
       "    </tr>\n",
       "    <tr>\n",
       "      <th>1</th>\n",
       "      <td>2</td>\n",
       "      <td>NaN</td>\n",
       "      <td>NaN</td>\n",
       "      <td>0.993789</td>\n",
       "      <td>0.993789</td>\n",
       "      <td>0.397516</td>\n",
       "      <td>0.646786</td>\n",
       "    </tr>\n",
       "    <tr>\n",
       "      <th>2</th>\n",
       "      <td>3</td>\n",
       "      <td>NaN</td>\n",
       "      <td>NaN</td>\n",
       "      <td>1.000000</td>\n",
       "      <td>1.000000</td>\n",
       "      <td>0.434783</td>\n",
       "      <td>0.514193</td>\n",
       "    </tr>\n",
       "  </tbody>\n",
       "</table>\n",
       "</div>"
      ],
      "text/plain": [
       "   epoch  loss_train  loss_valid  valid_ratio  unique_ratio  desire_ratio  \\\n",
       "0      1         NaN         NaN     0.993789      1.000000      0.459627   \n",
       "1      2         NaN         NaN     0.993789      0.993789      0.397516   \n",
       "2      3         NaN         NaN     1.000000      1.000000      0.434783   \n",
       "\n",
       "   mean_train_loss  \n",
       "0         0.920635  \n",
       "1         0.646786  \n",
       "2         0.514193  "
      ]
     },
     "execution_count": 30,
     "metadata": {},
     "output_type": "execute_result"
    }
   ],
   "source": [
    "df_info = pd.read_csv('jupyter/models/reinforced/graph/agent_fit.tsv', sep='\\t')\n",
    "df_info"
   ]
  },
  {
   "cell_type": "code",
   "execution_count": 31,
   "id": "d014c1c1-c9f3-420e-956a-81e5000029f3",
   "metadata": {},
   "outputs": [
    {
     "data": {
      "text/plain": [
       "<AxesSubplot: xlabel='epoch'>"
      ]
     },
     "execution_count": 31,
     "metadata": {},
     "output_type": "execute_result"
    },
    {
     "data": {
      "image/png": "[encoded data removed]",
      "text/plain": [
       "<Figure size 640x480 with 1 Axes>"
      ]
     },
     "metadata": {},
     "output_type": "display_data"
    }
   ],
   "source": [
    "df_info.plot.line(x='epoch', y='mean_train_loss')"
   ]
  },
  {
   "cell_type": "markdown",
   "id": "a8bc3669-4216-40e2-a5f0-24799bd2b862",
   "metadata": {},
   "source": [
    "In the detailed output for the molecules generated, we can see that the structures are mostly undesireble, but that was to be expected because we are only training for a small number of epochs with a small data set:"
   ]
  },
  {
   "cell_type": "code",
   "execution_count": 32,
   "id": "c5f872d7-9684-4441-8612-7b8d7a7f2a07",
   "metadata": {},
   "outputs": [
    {
     "data": {
      "text/html": [
       "<div>\n",
       "<style scoped>\n",
       "    .dataframe tbody tr th:only-of-type {\n",
       "        vertical-align: middle;\n",
       "    }\n",
       "\n",
       "    .dataframe tbody tr th {\n",
       "        vertical-align: top;\n",
       "    }\n",
       "\n",
       "    .dataframe thead th {\n",
       "        text-align: right;\n",
       "    }\n",
       "</style>\n",
       "<table border=\"1\" class=\"dataframe\">\n",
       "  <thead>\n",
       "    <tr style=\"text-align: right;\">\n",
       "      <th></th>\n",
       "      <th>Smiles</th>\n",
       "      <th>A1_&lt;class 'sklearn.ensemble._forest.RandomForestRegressor'&gt;</th>\n",
       "      <th>A3_&lt;class 'sklearn.ensemble._forest.RandomForestRegressor'&gt;</th>\n",
       "      <th>QED</th>\n",
       "      <th>SA</th>\n",
       "      <th>DESIRE</th>\n",
       "      <th>VALID</th>\n",
       "      <th>Frag</th>\n",
       "      <th>Epoch</th>\n",
       "    </tr>\n",
       "  </thead>\n",
       "  <tbody>\n",
       "    <tr>\n",
       "      <th>0</th>\n",
       "      <td>COC(=O)c1c(N)sc2c1C(c1ccc3ccccc3c1)CN(C(=O)c1c...</td>\n",
       "      <td>0.879314</td>\n",
       "      <td>1.000000</td>\n",
       "      <td>0.356271</td>\n",
       "      <td>0.310853</td>\n",
       "      <td>0.0</td>\n",
       "      <td>1.0</td>\n",
       "      <td>Clc1ccccc1.Nc1cc2c(s1)CNCC2.c1ccc2ccccc2c1</td>\n",
       "      <td>1</td>\n",
       "    </tr>\n",
       "    <tr>\n",
       "      <th>1</th>\n",
       "      <td>COc1cc(C2CC(NC(=O)C(NC(=O)C(N)CNC(=O)C(C)C3CCC...</td>\n",
       "      <td>0.964857</td>\n",
       "      <td>1.000000</td>\n",
       "      <td>0.201070</td>\n",
       "      <td>0.000000</td>\n",
       "      <td>0.0</td>\n",
       "      <td>1.0</td>\n",
       "      <td>C1CCOC1</td>\n",
       "      <td>1</td>\n",
       "    </tr>\n",
       "    <tr>\n",
       "      <th>2</th>\n",
       "      <td>COc1ccc(-c2c3c(nc(N)n4nc(-c5ccccc5OC)nc34)nn2C...</td>\n",
       "      <td>0.968886</td>\n",
       "      <td>1.000000</td>\n",
       "      <td>0.493460</td>\n",
       "      <td>0.417985</td>\n",
       "      <td>0.0</td>\n",
       "      <td>1.0</td>\n",
       "      <td>Cn1cc2c(nc(N)n3ncnc23)n1</td>\n",
       "      <td>1</td>\n",
       "    </tr>\n",
       "    <tr>\n",
       "      <th>3</th>\n",
       "      <td>CCCCCNC(=O)CNc1cnc(NC(=S)Nc2ccccc2)cn1</td>\n",
       "      <td>0.570457</td>\n",
       "      <td>1.000000</td>\n",
       "      <td>0.397234</td>\n",
       "      <td>0.502647</td>\n",
       "      <td>0.0</td>\n",
       "      <td>1.0</td>\n",
       "      <td>c1ccccc1.c1cnccn1</td>\n",
       "      <td>1</td>\n",
       "    </tr>\n",
       "    <tr>\n",
       "      <th>4</th>\n",
       "      <td>FC(F)(F)F</td>\n",
       "      <td>1.000000</td>\n",
       "      <td>0.909495</td>\n",
       "      <td>0.393167</td>\n",
       "      <td>0.535824</td>\n",
       "      <td>0.0</td>\n",
       "      <td>1.0</td>\n",
       "      <td>FC(F)F</td>\n",
       "      <td>1</td>\n",
       "    </tr>\n",
       "    <tr>\n",
       "      <th>...</th>\n",
       "      <td>...</td>\n",
       "      <td>...</td>\n",
       "      <td>...</td>\n",
       "      <td>...</td>\n",
       "      <td>...</td>\n",
       "      <td>...</td>\n",
       "      <td>...</td>\n",
       "      <td>...</td>\n",
       "      <td>...</td>\n",
       "    </tr>\n",
       "    <tr>\n",
       "      <th>478</th>\n",
       "      <td>COc1cccc(-c2cc(OC(=O)CSCc3ccc(C)o3)ncn2)c1</td>\n",
       "      <td>0.897714</td>\n",
       "      <td>0.982914</td>\n",
       "      <td>0.584070</td>\n",
       "      <td>0.441867</td>\n",
       "      <td>0.0</td>\n",
       "      <td>1.0</td>\n",
       "      <td>Cc1ccco1.c1ccccc1.c1cncnc1</td>\n",
       "      <td>3</td>\n",
       "    </tr>\n",
       "    <tr>\n",
       "      <th>479</th>\n",
       "      <td>O=C(NC1CCNC(Cc2ccco2)C1)c1ccco1</td>\n",
       "      <td>0.978371</td>\n",
       "      <td>1.000000</td>\n",
       "      <td>0.894116</td>\n",
       "      <td>0.270285</td>\n",
       "      <td>0.0</td>\n",
       "      <td>1.0</td>\n",
       "      <td>C1CCNCC1.C=O.Cc1ccco1</td>\n",
       "      <td>3</td>\n",
       "    </tr>\n",
       "    <tr>\n",
       "      <th>480</th>\n",
       "      <td>COC(=O)c1csc(N2CCNC(CCONCc3cc(Cl)ccc3Cl)C2)n1</td>\n",
       "      <td>0.687371</td>\n",
       "      <td>1.000000</td>\n",
       "      <td>0.367461</td>\n",
       "      <td>0.259951</td>\n",
       "      <td>0.0</td>\n",
       "      <td>1.0</td>\n",
       "      <td>C1CNCCN1.Clc1ccc(Cl)cc1</td>\n",
       "      <td>3</td>\n",
       "    </tr>\n",
       "    <tr>\n",
       "      <th>481</th>\n",
       "      <td>Cc1csc(C(=O)c2noc(N3Cc4ccccc43)c2C(=O)C2C=C(SC...</td>\n",
       "      <td>0.983743</td>\n",
       "      <td>1.000000</td>\n",
       "      <td>0.266525</td>\n",
       "      <td>0.000000</td>\n",
       "      <td>0.0</td>\n",
       "      <td>1.0</td>\n",
       "      <td>c1cnoc1</td>\n",
       "      <td>3</td>\n",
       "    </tr>\n",
       "    <tr>\n",
       "      <th>482</th>\n",
       "      <td>C=COC=C1OC=C2C=C(OCCCCOC=C(O)C=C(O)Oc3ccc(o3)C...</td>\n",
       "      <td>1.000000</td>\n",
       "      <td>1.000000</td>\n",
       "      <td>0.033799</td>\n",
       "      <td>0.000000</td>\n",
       "      <td>1.0</td>\n",
       "      <td>1.0</td>\n",
       "      <td>CCN=C(O)S.OC1COCC1O</td>\n",
       "      <td>3</td>\n",
       "    </tr>\n",
       "  </tbody>\n",
       "</table>\n",
       "<p>483 rows × 9 columns</p>\n",
       "</div>"
      ],
      "text/plain": [
       "                                                Smiles  \\\n",
       "0    COC(=O)c1c(N)sc2c1C(c1ccc3ccccc3c1)CN(C(=O)c1c...   \n",
       "1    COc1cc(C2CC(NC(=O)C(NC(=O)C(N)CNC(=O)C(C)C3CCC...   \n",
       "2    COc1ccc(-c2c3c(nc(N)n4nc(-c5ccccc5OC)nc34)nn2C...   \n",
       "3               CCCCCNC(=O)CNc1cnc(NC(=S)Nc2ccccc2)cn1   \n",
       "4                                            FC(F)(F)F   \n",
       "..                                                 ...   \n",
       "478         COc1cccc(-c2cc(OC(=O)CSCc3ccc(C)o3)ncn2)c1   \n",
       "479                    O=C(NC1CCNC(Cc2ccco2)C1)c1ccco1   \n",
       "480      COC(=O)c1csc(N2CCNC(CCONCc3cc(Cl)ccc3Cl)C2)n1   \n",
       "481  Cc1csc(C(=O)c2noc(N3Cc4ccccc43)c2C(=O)C2C=C(SC...   \n",
       "482  C=COC=C1OC=C2C=C(OCCCCOC=C(O)C=C(O)Oc3ccc(o3)C...   \n",
       "\n",
       "     A1_<class 'sklearn.ensemble._forest.RandomForestRegressor'>  \\\n",
       "0                                             0.879314             \n",
       "1                                             0.964857             \n",
       "2                                             0.968886             \n",
       "3                                             0.570457             \n",
       "4                                             1.000000             \n",
       "..                                                 ...             \n",
       "478                                           0.897714             \n",
       "479                                           0.978371             \n",
       "480                                           0.687371             \n",
       "481                                           0.983743             \n",
       "482                                           1.000000             \n",
       "\n",
       "     A3_<class 'sklearn.ensemble._forest.RandomForestRegressor'>       QED  \\\n",
       "0                                             1.000000            0.356271   \n",
       "1                                             1.000000            0.201070   \n",
       "2                                             1.000000            0.493460   \n",
       "3                                             1.000000            0.397234   \n",
       "4                                             0.909495            0.393167   \n",
       "..                                                 ...                 ...   \n",
       "478                                           0.982914            0.584070   \n",
       "479                                           1.000000            0.894116   \n",
       "480                                           1.000000            0.367461   \n",
       "481                                           1.000000            0.266525   \n",
       "482                                           1.000000            0.033799   \n",
       "\n",
       "           SA  DESIRE  VALID                                        Frag  \\\n",
       "0    0.310853     0.0    1.0  Clc1ccccc1.Nc1cc2c(s1)CNCC2.c1ccc2ccccc2c1   \n",
       "1    0.000000     0.0    1.0                                     C1CCOC1   \n",
       "2    0.417985     0.0    1.0                    Cn1cc2c(nc(N)n3ncnc23)n1   \n",
       "3    0.502647     0.0    1.0                           c1ccccc1.c1cnccn1   \n",
       "4    0.535824     0.0    1.0                                      FC(F)F   \n",
       "..        ...     ...    ...                                         ...   \n",
       "478  0.441867     0.0    1.0                  Cc1ccco1.c1ccccc1.c1cncnc1   \n",
       "479  0.270285     0.0    1.0                       C1CCNCC1.C=O.Cc1ccco1   \n",
       "480  0.259951     0.0    1.0                     C1CNCCN1.Clc1ccc(Cl)cc1   \n",
       "481  0.000000     0.0    1.0                                     c1cnoc1   \n",
       "482  0.000000     1.0    1.0                         CCN=C(O)S.OC1COCC1O   \n",
       "\n",
       "     Epoch  \n",
       "0        1  \n",
       "1        1  \n",
       "2        1  \n",
       "3        1  \n",
       "4        1  \n",
       "..     ...  \n",
       "478      3  \n",
       "479      3  \n",
       "480      3  \n",
       "481      3  \n",
       "482      3  \n",
       "\n",
       "[483 rows x 9 columns]"
      ]
     },
     "execution_count": 32,
     "metadata": {},
     "output_type": "execute_result"
    }
   ],
   "source": [
    "df_smiles = pd.read_csv('jupyter/models/reinforced/graph/agent_smiles.tsv', sep='\\t')\n",
    "df_smiles"
   ]
  },
  {
   "cell_type": "code",
   "execution_count": null,
   "id": "d0903326",
   "metadata": {},
   "outputs": [],
   "source": []
  }
 ],
 "metadata": {
  "kernelspec": {
   "display_name": "Python 3.9.10 ('drugex')",
   "language": "python",
   "name": "python3"
  },
  "language_info": {
   "codemirror_mode": {
    "name": "ipython",
    "version": 3
   },
   "file_extension": ".py",
   "mimetype": "text/x-python",
   "name": "python",
   "nbconvert_exporter": "python",
   "pygments_lexer": "ipython3",
   "version": "3.9.0"
  },
  "vscode": {
   "interpreter": {
    "hash": "ef81fe45658a01b36c04e8781b27ee7fe5dfd900e647858145273f3ccfb8752d"
   }
  }
 },
 "nbformat": 4,
 "nbformat_minor": 5
}
