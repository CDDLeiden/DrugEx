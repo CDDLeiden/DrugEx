{
 "cells": [
  {
   "cell_type": "markdown",
   "id": "718d5cf0-6e43-4d02-a59d-c79cbccbc1ed",
   "metadata": {},
   "source": [
    "# Optimization with Reinforcement Learning\n",
    "\n",
    "In this tutorial, we show how different model types within DrugEx can be optimized under the reinforcement learning framework. The models can be taught to generate compounds according to multiple custom rewards and using several optimization strategies. In this tutorial, we review some of the most important scoring functions and optimization strategies on a simple hypothetical example, which will be focused on searching for selective ligands for the adenosine A3 receptor (A3R). In order to do that, we will build two QSAR models that will predict activity on A3R, but also adenosine A1 receptor (A1R). We will then use predictions from these models to generate compounds more selective towards A3R rather than A1R. In practice, this would be a really difficult task because A3R and A1R receptors have very similar binding sites so it would be really hard to use a purely ligand-based approach like this. However, it will serve us well here for the sake of example.\n",
    "\n",
    "\n",
    "## QSAR Models \n",
    "\n",
    "In this section, we create the QSAR models that will serve as the source of rewards in our reinforcement learning framework. They will be built from selected subsets of the `LIGAND` data set (also used in [finetuning](finetuning.ipynb)):"
   ]
  },
  {
   "cell_type": "code",
   "execution_count": 1,
   "id": "48146209-1d24-4ee7-bd5f-b848030cfec5",
   "metadata": {},
   "outputs": [],
   "source": [
    "GPUS = [0]\n",
    "EPOCHS = 3"
   ]
  },
  {
   "cell_type": "code",
   "execution_count": 2,
   "id": "ba004473-3fa1-4aeb-9d34-5870bb21336b",
   "metadata": {},
   "outputs": [
    {
     "data": {
      "text/html": [
       "<div>\n",
       "<style scoped>\n",
       "    .dataframe tbody tr th:only-of-type {\n",
       "        vertical-align: middle;\n",
       "    }\n",
       "\n",
       "    .dataframe tbody tr th {\n",
       "        vertical-align: top;\n",
       "    }\n",
       "\n",
       "    .dataframe thead th {\n",
       "        text-align: right;\n",
       "    }\n",
       "</style>\n",
       "<table border=\"1\" class=\"dataframe\">\n",
       "  <thead>\n",
       "    <tr style=\"text-align: right;\">\n",
       "      <th></th>\n",
       "      <th>Smiles</th>\n",
       "      <th>pChEMBL_Value</th>\n",
       "      <th>Target_ChEMBL_ID</th>\n",
       "    </tr>\n",
       "  </thead>\n",
       "  <tbody>\n",
       "    <tr>\n",
       "      <th>0</th>\n",
       "      <td>CCCCn1cc2c(nc(NC(=O)Nc3ccc(Cl)c(Cl)c3)n3nc(-c4...</td>\n",
       "      <td>8.43</td>\n",
       "      <td>CHEMBL256</td>\n",
       "    </tr>\n",
       "    <tr>\n",
       "      <th>1</th>\n",
       "      <td>O=C(Cc1ccccc1)Nc1nc2nn(CCc3ccccc3)cc2c2nc(-c3c...</td>\n",
       "      <td>7.35</td>\n",
       "      <td>CHEMBL256</td>\n",
       "    </tr>\n",
       "    <tr>\n",
       "      <th>2</th>\n",
       "      <td>O=C(COc1ccccc1)Nc1nc2nn(CCc3ccccc3)cc2c2nc(-c3...</td>\n",
       "      <td>6.52</td>\n",
       "      <td>CHEMBL256</td>\n",
       "    </tr>\n",
       "    <tr>\n",
       "      <th>3</th>\n",
       "      <td>CC(C)(C)NC(=O)Nc1nc2nn(CCCc3ccccc3)cc2c2nc(-c3...</td>\n",
       "      <td>7.19</td>\n",
       "      <td>CHEMBL256</td>\n",
       "    </tr>\n",
       "    <tr>\n",
       "      <th>4</th>\n",
       "      <td>COc1ccc(-n2cc3c(n2)c(N)nc2ccccc23)cc1</td>\n",
       "      <td>7.04</td>\n",
       "      <td>CHEMBL256</td>\n",
       "    </tr>\n",
       "  </tbody>\n",
       "</table>\n",
       "</div>"
      ],
      "text/plain": [
       "                                              Smiles  pChEMBL_Value  \\\n",
       "0  CCCCn1cc2c(nc(NC(=O)Nc3ccc(Cl)c(Cl)c3)n3nc(-c4...           8.43   \n",
       "1  O=C(Cc1ccccc1)Nc1nc2nn(CCc3ccccc3)cc2c2nc(-c3c...           7.35   \n",
       "2  O=C(COc1ccccc1)Nc1nc2nn(CCc3ccccc3)cc2c2nc(-c3...           6.52   \n",
       "3  CC(C)(C)NC(=O)Nc1nc2nn(CCCc3ccccc3)cc2c2nc(-c3...           7.19   \n",
       "4              COc1ccc(-n2cc3c(n2)c(N)nc2ccccc23)cc1           7.04   \n",
       "\n",
       "  Target_ChEMBL_ID  \n",
       "0        CHEMBL256  \n",
       "1        CHEMBL256  \n",
       "2        CHEMBL256  \n",
       "3        CHEMBL256  \n",
       "4        CHEMBL256  "
      ]
     },
     "execution_count": 2,
     "metadata": {},
     "output_type": "execute_result"
    }
   ],
   "source": [
    "import pandas as pd\n",
    "\n",
    "mol_col = 'Smiles'\n",
    "activity_col = 'pChEMBL_Value'\n",
    "target_col = 'Target_ChEMBL_ID'\n",
    "columns = (mol_col, activity_col, target_col)\n",
    "\n",
    "df = pd.read_csv(\n",
    "    'jupyter/data/LIGAND_RAW_small.tsv', \n",
    "    na_values=('NA', 'nan', 'NaN'), \n",
    "    header=0, \n",
    "    sep='\\t', \n",
    "    usecols=columns\n",
    ")\n",
    "df.dropna(subset=[activity_col, target_col], inplace=True)\n",
    "df.head()"
   ]
  },
  {
   "cell_type": "code",
   "execution_count": 3,
   "id": "b6e6918f-fa98-490c-b9aa-795352a6562a",
   "metadata": {},
   "outputs": [
    {
     "data": {
      "text/plain": [
       "(266, 3)"
      ]
     },
     "execution_count": 3,
     "metadata": {},
     "output_type": "execute_result"
    }
   ],
   "source": [
    "df.shape"
   ]
  },
  {
   "cell_type": "markdown",
   "id": "5872d8c6-7dfb-4ea8-9627-2aca82d7d66d",
   "metadata": {},
   "source": [
    "We have data for quite a few adenosine receptor subtypes in this set:"
   ]
  },
  {
   "cell_type": "code",
   "execution_count": 4,
   "id": "00c9e895-6d54-45db-9c35-c4129637c116",
   "metadata": {},
   "outputs": [
    {
     "data": {
      "text/plain": [
       "CHEMBL318     60\n",
       "CHEMBL256     55\n",
       "CHEMBL226     45\n",
       "CHEMBL251     44\n",
       "CHEMBL302     44\n",
       "CHEMBL255     16\n",
       "CHEMBL3360     1\n",
       "CHEMBL2592     1\n",
       "Name: Target_ChEMBL_ID, dtype: int64"
      ]
     },
     "execution_count": 4,
     "metadata": {},
     "output_type": "execute_result"
    }
   ],
   "source": [
    "df[target_col].value_counts()"
   ]
  },
  {
   "cell_type": "markdown",
   "id": "f3b70b20-0e07-4b75-87c6-22eb287c802f",
   "metadata": {},
   "source": [
    "However, we will only use data for A1R (ID=`CHEMBL318`) and A3R (ID=`CHEMBL256`).\n",
    "Here we create two QSARdataset objects, which is a class to prepare the dataset for QSAR training."
   ]
  },
  {
   "cell_type": "code",
   "execution_count": 5,
   "id": "121045cf-ad1a-45cb-a25a-0a7293651a93",
   "metadata": {},
   "outputs": [
    {
     "name": "stdout",
     "output_type": "stream",
     "text": [
      "A1R train set shape is: X: (54, 2067), y: (54,)\n",
      "A1R test set shape is: X: (6, 2067), y: (6,)\n",
      "A3R train set shape is: (48, 2067), y: (48,)\n",
      "A3R test set shape is: (6, 2067), y: (6,)\n"
     ]
    }
   ],
   "source": [
    "from drugex.environment.data import QSARDataset\n",
    "\n",
    "# Create dataset for A1R regression model\n",
    "df_a1 = QSARDataset(input_df=df,\n",
    "                    smilescol=mol_col,\n",
    "                    targetcol=target_col,\n",
    "                    valuecol=activity_col,\n",
    "                    target=\"CHEMBL318\",\n",
    "                    keep_low_quality=True,\n",
    "                    reg=True)\n",
    "\n",
    "# create dataset with default settings (random train/test split 90%/10%)\n",
    "df_a1.splitDataset()\n",
    "\n",
    "# Minmax scaling\n",
    "df_a1.X, df_a1.X_ind = df_a1.dataStandardization(df_a1.X, df_a1.X_ind)\n",
    "\n",
    "print(f'A1R train set shape is: X: {df_a1.X.shape}, y: {df_a1.y.shape}')\n",
    "print(f'A1R test set shape is: X: {df_a1.X_ind.shape}, y: {df_a1.y_ind.shape}')\n",
    "\n",
    "# Create dataset for A3R regression model\n",
    "df_a3 = QSARDataset(input_df=df,\n",
    "                    smilescol=mol_col,\n",
    "                    targetcol=target_col,\n",
    "                    valuecol=activity_col,\n",
    "                    target=\"CHEMBL256\",\n",
    "                    keep_low_quality=True,\n",
    "                    reg=True)\n",
    "\n",
    "# create dataset with default settings (random train/test split 90%/10%)\n",
    "df_a3.splitDataset()\n",
    "\n",
    "# Minmax scaling\n",
    "df_a3.X, df_a3.X_ind = df_a3.dataStandardization(df_a3.X, df_a3.X_ind)\n",
    "\n",
    "print(f'A3R train set shape is: {df_a3.X.shape}, y: {df_a3.y.shape}')\n",
    "print(f'A3R test set shape is: {df_a3.X_ind.shape}, y: {df_a3.y_ind.shape}')\n"
   ]
  },
  {
   "cell_type": "markdown",
   "id": "9b14abcc-edaa-4581-86f7-7d2f0aa25fb7",
   "metadata": {},
   "source": [
    "### Building the Models\n",
    "\n",
    "Since this tutorial is only meant for demonstration purposes, we will not perform any further preprocessing of the data and just build two simple k-nearest neighbor models on the raw data using DrugEx built-in functions and interfaces:\n",
    "This is of course not the proper way of doing things, but a more complex machine learning worflow could be envisaged here."
   ]
  },
  {
   "cell_type": "markdown",
   "id": "a5bf53f1",
   "metadata": {},
   "source": [
    "Now we will train two KNN regression models. First we will run bayes optimization for some of the hyperparameters.\n",
    "Subsequently, we will run cross-validation for model evaluation and finally we will train the model on the\n",
    "entire dataset for use in the reinforcement learning optimization."
   ]
  },
  {
   "cell_type": "code",
   "execution_count": 6,
   "id": "c28e0745-e9d0-4a0a-b9f9-f9d7a2ec2388",
   "metadata": {},
   "outputs": [
    {
     "name": "stderr",
     "output_type": "stream",
     "text": [
      "\u001b[32m[I 2022-11-23 16:54:44,940]\u001b[0m A new study created in memory with name: no-name-21015fed-db2f-455d-b9ac-ccfbbfbe1da2\u001b[0m\n",
      "\u001b[32m[I 2022-11-23 16:54:45,000]\u001b[0m Trial 0 finished with value: -0.16388267821875724 and parameters: {'n_neighbors': 10, 'weights': 'distance', 'metric': 'manhattan'}. Best is trial 0 with value: -0.16388267821875724.\u001b[0m\n",
      "\u001b[32m[I 2022-11-23 16:54:45,014]\u001b[0m Trial 1 finished with value: -0.22589530846327377 and parameters: {'n_neighbors': 8, 'weights': 'distance', 'metric': 'euclidean'}. Best is trial 0 with value: -0.16388267821875724.\u001b[0m\n",
      "\u001b[32m[I 2022-11-23 16:54:45,033]\u001b[0m Trial 2 finished with value: -0.12536838775735482 and parameters: {'n_neighbors': 10, 'weights': 'distance', 'metric': 'chebyshev'}. Best is trial 2 with value: -0.12536838775735482.\u001b[0m\n",
      "\u001b[32m[I 2022-11-23 16:54:45,052]\u001b[0m Trial 3 finished with value: -0.04829207558547566 and parameters: {'n_neighbors': 6, 'weights': 'uniform', 'metric': 'chebyshev'}. Best is trial 3 with value: -0.04829207558547566.\u001b[0m\n",
      "\u001b[32m[I 2022-11-23 16:54:45,064]\u001b[0m Trial 4 finished with value: -0.14135562236100285 and parameters: {'n_neighbors': 6, 'weights': 'uniform', 'metric': 'euclidean'}. Best is trial 3 with value: -0.04829207558547566.\u001b[0m\n",
      "\u001b[32m[I 2022-11-23 16:54:45,066]\u001b[0m A new study created in memory with name: no-name-8e9a31c1-c4a7-4dbf-b292-a9e00cf5924b\u001b[0m\n",
      "\u001b[32m[I 2022-11-23 16:54:45,085]\u001b[0m Trial 0 finished with value: 0.17801475920204768 and parameters: {'n_neighbors': 7, 'weights': 'uniform', 'metric': 'manhattan'}. Best is trial 0 with value: 0.17801475920204768.\u001b[0m\n",
      "\u001b[32m[I 2022-11-23 16:54:45,094]\u001b[0m Trial 1 finished with value: 0.20778038854426883 and parameters: {'n_neighbors': 5, 'weights': 'uniform', 'metric': 'euclidean'}. Best is trial 1 with value: 0.20778038854426883.\u001b[0m\n",
      "\u001b[32m[I 2022-11-23 16:54:45,109]\u001b[0m Trial 2 finished with value: -0.05223543163117128 and parameters: {'n_neighbors': 7, 'weights': 'uniform', 'metric': 'chebyshev'}. Best is trial 1 with value: 0.20778038854426883.\u001b[0m\n",
      "\u001b[32m[I 2022-11-23 16:54:45,125]\u001b[0m Trial 3 finished with value: -0.01790344465639615 and parameters: {'n_neighbors': 10, 'weights': 'uniform', 'metric': 'chebyshev'}. Best is trial 1 with value: 0.20778038854426883.\u001b[0m\n",
      "\u001b[32m[I 2022-11-23 16:54:45,141]\u001b[0m Trial 4 finished with value: -0.18121869974075588 and parameters: {'n_neighbors': 6, 'weights': 'distance', 'metric': 'chebyshev'}. Best is trial 1 with value: 0.20778038854426883.\u001b[0m\n"
     ]
    },
    {
     "name": "stdout",
     "output_type": "stream",
     "text": [
      "Bayesian optimization can take a while for some hyperparameter combinations\n",
      "{'n_neighbors': 10, 'weights': 'distance', 'metric': 'manhattan'}\n",
      "{'n_neighbors': 8, 'weights': 'distance', 'metric': 'euclidean'}\n",
      "{'n_neighbors': 10, 'weights': 'distance', 'metric': 'chebyshev'}\n",
      "{'n_neighbors': 6, 'weights': 'uniform', 'metric': 'chebyshev'}\n",
      "{'n_neighbors': 6, 'weights': 'uniform', 'metric': 'euclidean'}\n",
      "Bayesian optimization can take a while for some hyperparameter combinations\n",
      "{'n_neighbors': 7, 'weights': 'uniform', 'metric': 'manhattan'}\n",
      "{'n_neighbors': 5, 'weights': 'uniform', 'metric': 'euclidean'}\n",
      "{'n_neighbors': 7, 'weights': 'uniform', 'metric': 'chebyshev'}\n",
      "{'n_neighbors': 10, 'weights': 'uniform', 'metric': 'chebyshev'}\n",
      "{'n_neighbors': 6, 'weights': 'distance', 'metric': 'chebyshev'}\n"
     ]
    },
    {
     "data": {
      "text/plain": [
       "array([6.378, 6.182, 7.858, 7.398, 7.552, 6.694, 6.32 , 6.21 , 6.182,\n",
       "       7.188, 6.088, 6.704, 6.41 , 6.78 , 6.502, 6.48 , 7.756, 6.968,\n",
       "       7.756, 7.756, 7.644, 7.124, 7.146, 6.064, 7.544, 7.544, 7.544,\n",
       "       7.368, 7.544, 7.146, 7.09 , 7.09 , 6.49 , 6.714, 6.884, 6.634,\n",
       "       6.962, 6.342, 7.44 , 6.714, 7.03 , 5.844, 7.03 , 7.536, 7.3  ,\n",
       "       6.856, 7.04 , 7.17 ])"
      ]
     },
     "execution_count": 6,
     "metadata": {},
     "output_type": "execute_result"
    }
   ],
   "source": [
    "from sklearn.neighbors import KNeighborsClassifier, KNeighborsRegressor\n",
    "from drugex.environment.models import QSARsklearn\n",
    "import os\n",
    "\n",
    "# make output directory\n",
    "if not os.path.isdir(\"envs\"):\n",
    "    os.mkdir(\"envs\")\n",
    "\n",
    "alg_name = \"KNN\" # Will be prefix of model save file\n",
    "\n",
    "knn_a1 = QSARsklearn(base_dir = '.', data=df_a1, alg = KNeighborsRegressor(), alg_name=alg_name)\n",
    "knn_a3 = QSARsklearn(base_dir = '.', data=df_a3, alg = KNeighborsRegressor(), alg_name=alg_name)\n",
    "\n",
    "# search space can also be read in from json file using function QSARsklearn.loadParamsGrid(fname, \"bayes\", alg_name)\n",
    "search_space_bs = {\"n_neighbors\": [\"int\", 5, 10],\n",
    "                   \"weights\": [\"categorical\", [\"uniform\", \"distance\"]],\n",
    "                   \"metric\": [\"categorical\", [\"euclidean\",\"manhattan\", \"chebyshev\",\"minkowski\"]]}\n",
    "\n",
    "# n_trials=5 for example, but for thorough search should be higher\n",
    "# if save_m = True model will be refit with the best parameters on all data, same as calling fit() after optimzation\n",
    "knn_a1.bayesOptimization(search_space_bs=search_space_bs, n_trials=5)\n",
    "knn_a3.bayesOptimization(search_space_bs=search_space_bs, n_trials=5)\n",
    "\n",
    "#cross validation\n",
    "knn_a1.evaluate()\n",
    "knn_a3.evaluate()"
   ]
  },
  {
   "cell_type": "markdown",
   "id": "af7222c0",
   "metadata": {},
   "source": [
    "Alternative sklearn algorithms that have been tested with the QSARsklearn class are: RandomForestClassifier, RandomForestRegressor, KNeighborsClassifier, KNeighborsRegressor, PLSRegression, GaussianNB, SVC, SVR. Xgboost's XGBRegressor and XGBClassifier also work with this class. Other sklearn models might not work. However, it is still possible to use other (also non-sklearn) models with drugex, as long as they can be wrapped in the ModelScorer class (see section [Designating Scoring Functions](#scoring))"
   ]
  },
  {
   "cell_type": "markdown",
   "id": "d49bd962",
   "metadata": {},
   "source": [
    "Let's have a look at the performance of our trained models."
   ]
  },
  {
   "cell_type": "code",
   "execution_count": 7,
   "id": "1777e348",
   "metadata": {},
   "outputs": [
    {
     "data": {
      "image/png": "[encoded data removed]",
      "text/plain": [
       "<Figure size 1440x1440 with 2 Axes>"
      ]
     },
     "metadata": {
      "needs_background": "light"
     },
     "output_type": "display_data"
    }
   ],
   "source": [
    "from matplotlib import pyplot as plt\n",
    "from sklearn import metrics\n",
    "\n",
    "def QSAR_REG_scatterplot(infolder, targets, models, out=None):\n",
    "    \"\"\"\n",
    "    Function to plot the results of regression models. Plot predicted pX vs real pX. \n",
    "    \"\"\"\n",
    "    plt.figure(figsize=(20, 20))\n",
    "    for i, target in enumerate(targets):\n",
    "        cate = ['cv', 'ind']\n",
    "        for m, model in enumerate(models):\n",
    "            plt.subplot(len(targets),len(models),1 + i*len(models) + m)\n",
    "            for j, legend in enumerate(['Cross Validation', 'Independent Test']):\n",
    "                df = pd.read_table('%s/%s_REG_%s.%s.tsv' % (infolder, model, target, cate[j]))\n",
    "                plt.scatter(df.Label, df.Score, s=10, label=legend)\n",
    "                coef = metrics.r2_score(df.Label, df.Score)\n",
    "                rmse = metrics.mean_squared_error(df.Label, df.Score, squared=False)\n",
    "                plt.annotate('%s:(R^2=%.2f, RMSE=%.2f)' % (legend,coef, rmse), xy=[3.7,10-0.4*j],fontsize=30)\n",
    "\n",
    "            plt.title('%s %s' % (model,target))\n",
    "            plt.xlim([3.5, 10.5])\n",
    "            plt.ylim([3.5, 10.5])\n",
    "            plt.xlabel('Real pX')\n",
    "            plt.ylabel('Predicted pX')\n",
    "            plt.plot([0, 11], [0, 11], color='black', lw=2, linestyle='--')\n",
    "    plt.legend(loc='lower right')\n",
    "    plt.tight_layout()\n",
    "    plt.subplots_adjust(wspace = 0.3, hspace = 0.5) \n",
    "    if out is None:\n",
    "        plt.show()\n",
    "    else:\n",
    "        plt.savefig(\"%s.pdf\" % out, dpi=300)\n",
    "\n",
    "QSAR_REG_scatterplot(infolder='envs', targets=['CHEMBL318', 'CHEMBL256'], models=['KNN'])"
   ]
  },
  {
   "cell_type": "markdown",
   "id": "37d02793-fc87-43a4-aae9-709f2050b8bb",
   "metadata": {},
   "source": [
    "<a id='scoring'></a>\n",
    "\n",
    "### Designating Scoring Functions\n",
    "\n",
    "Now we can wrap the built models in the `ModelScorer` class, which extends the `Scorer` interface to facilitate compound scoring during reinforcement learning:"
   ]
  },
  {
   "cell_type": "code",
   "execution_count": 8,
   "id": "f68c7779-1f63-447d-8878-df4dd538fa57",
   "metadata": {},
   "outputs": [],
   "source": [
    "from drugex.training.scorers.predictors import Predictor\n",
    "from drugex.training.interfaces import Scorer\n",
    "\n",
    "class ModelScorer(Scorer):\n",
    "    \n",
    "    def __init__(self, model, prefix):\n",
    "        super().__init__()\n",
    "        self.model = model\n",
    "        self.prefix = prefix\n",
    "    \n",
    "    def getScores(self, mols, frags=None):\n",
    "        X = Predictor.calculateDescriptors(mols)\n",
    "        return self.model.predict(X)\n",
    "    \n",
    "    def getKey(self):\n",
    "        return f\"{self.prefix}_{type(self.model)}\"\n",
    "    \n",
    "scorer_a1 = ModelScorer(knn_a1.model, 'A1')\n",
    "scorer_a3 = ModelScorer(knn_a3.model, 'A3')"
   ]
  },
  {
   "cell_type": "markdown",
   "id": "37eeadbf-7f22-4df8-810e-464cb1073807",
   "metadata": {},
   "source": [
    "Instances of this class serve as scoring functions that are used to calculate the rewards in reinforcement learning. We can show how scoring works on a simple example of caffeine:"
   ]
  },
  {
   "cell_type": "code",
   "execution_count": 9,
   "id": "8d516c88-133a-401f-abe6-9ae61e09596f",
   "metadata": {},
   "outputs": [
    {
     "data": {
      "text/plain": [
       "array([6.19166667])"
      ]
     },
     "execution_count": 9,
     "metadata": {},
     "output_type": "execute_result"
    }
   ],
   "source": [
    "scorer_a1([\"CN1C=NC2=C1C(=O)N(C(=O)N2C)C\"])"
   ]
  },
  {
   "cell_type": "code",
   "execution_count": 10,
   "id": "4bca0387-a1a2-4eb3-9f6f-ead50c6a80f4",
   "metadata": {},
   "outputs": [
    {
     "data": {
      "text/plain": [
       "array([6.418])"
      ]
     },
     "execution_count": 10,
     "metadata": {},
     "output_type": "execute_result"
    }
   ],
   "source": [
    "scorer_a3([\"CN1C=NC2=C1C(=O)N(C(=O)N2C)C\"])"
   ]
  },
  {
   "cell_type": "markdown",
   "id": "02cb1280-dbe3-46cf-a79a-c5b8eaa38fb4",
   "metadata": {},
   "source": [
    "We can see that indeed our model for A1R might not be ideal in this case because the ChEMBL database actually reports pChEMBL values for caffeine in similar range for both targets (around 4.8).\n",
    "\n",
    "#### Applying Modifiers\n",
    "\n",
    "Next, we need to set proper modifiers for the scoring functions to calculate the correct rewards. You can again envisage different modifiers here that will mean different rewards, but we just use `ClippedScore` here:"
   ]
  },
  {
   "cell_type": "code",
   "execution_count": 11,
   "id": "edc57d67-b7cc-45ea-9583-fdee50ccc77c",
   "metadata": {},
   "outputs": [],
   "source": [
    "from drugex.training.scorers.modifiers import ClippedScore\n",
    "\n",
    "pad = 3.5\n",
    "activity_threshold = 6.5\n",
    "\n",
    "# inactive target\n",
    "scorer_a1.setModifier(ClippedScore(lower_x=activity_threshold + pad, upper_x=activity_threshold))\n",
    "\n",
    "# active target\n",
    "scorer_a3.setModifier(ClippedScore(lower_x=activity_threshold - pad, upper_x=activity_threshold))"
   ]
  },
  {
   "cell_type": "markdown",
   "id": "32226576-27e3-455a-abc4-ac1bcbb8a587",
   "metadata": {},
   "source": [
    "`ClippedScore` will change the previous values as follows:"
   ]
  },
  {
   "cell_type": "code",
   "execution_count": 12,
   "id": "769d012c-1bc2-4af3-9ecf-503d71930b21",
   "metadata": {},
   "outputs": [
    {
     "data": {
      "text/plain": [
       "array([1.])"
      ]
     },
     "execution_count": 12,
     "metadata": {},
     "output_type": "execute_result"
    }
   ],
   "source": [
    "scorer_a1([\"CN1C=NC2=C1C(=O)N(C(=O)N2C)C\"])"
   ]
  },
  {
   "cell_type": "code",
   "execution_count": 13,
   "id": "6402c564-f443-4b7a-a536-b7d682ac60ba",
   "metadata": {},
   "outputs": [
    {
     "data": {
      "text/plain": [
       "array([0.97657143])"
      ]
     },
     "execution_count": 13,
     "metadata": {},
     "output_type": "execute_result"
    }
   ],
   "source": [
    "scorer_a3([\"CN1C=NC2=C1C(=O)N(C(=O)N2C)C\"])"
   ]
  },
  {
   "cell_type": "markdown",
   "id": "be775830-fd29-44fe-be95-11753462e85d",
   "metadata": {},
   "source": [
    "The intent of this modifier becomes clear when we plot the `ClippedScore` function for some example values:"
   ]
  },
  {
   "cell_type": "code",
   "execution_count": 14,
   "id": "933b0273-aa19-4d36-9a3d-9bd8eb8f599f",
   "metadata": {},
   "outputs": [
    {
     "data": {
      "text/plain": [
       "<AxesSubplot:xlabel='Original', ylabel='ClippedScore'>"
      ]
     },
     "execution_count": 14,
     "metadata": {},
     "output_type": "execute_result"
    },
    {
     "data": {
      "image/png": "[encoded data removed]",
      "text/plain": [
       "<Figure size 432x288 with 1 Axes>"
      ]
     },
     "metadata": {
      "needs_background": "light"
     },
     "output_type": "display_data"
    }
   ],
   "source": [
    "import numpy as np\n",
    "\n",
    "def depict_modifier(modifier):\n",
    "    vals = np.arange(0,12, 0.2)\n",
    "    scores = [(x, modifier(x)) for x in vals] # get the A1R modifier for inactivity (the lower the activity, the higher the reward)\n",
    "    scores = pd.DataFrame(scores, columns=['Original', 'ClippedScore'])\n",
    "    return scores.plot.scatter(x = 'Original', y = 'ClippedScore')\n",
    "\n",
    "depict_modifier(scorer_a1.getModifier())"
   ]
  },
  {
   "cell_type": "markdown",
   "id": "4d906b30-c268-4ad7-aad3-ea9d56633f04",
   "metadata": {},
   "source": [
    "Therefore, the score starts to deteriorate gradually as we cross the chosen `activity_threshold` (6.5) and becomes zero at `activity_threshold + pad`. When we show the same for our 'active' scoring function, the relationship is the exact opposite:"
   ]
  },
  {
   "cell_type": "code",
   "execution_count": 15,
   "id": "46e6c79e-001d-4bcb-b54b-bd9e8cd4927f",
   "metadata": {},
   "outputs": [
    {
     "data": {
      "text/plain": [
       "<AxesSubplot:xlabel='Original', ylabel='ClippedScore'>"
      ]
     },
     "execution_count": 15,
     "metadata": {},
     "output_type": "execute_result"
    },
    {
     "data": {
      "image/png": "[encoded data removed]",
      "text/plain": [
       "<Figure size 432x288 with 1 Axes>"
      ]
     },
     "metadata": {
      "needs_background": "light"
     },
     "output_type": "display_data"
    }
   ],
   "source": [
    "depict_modifier(scorer_a3.getModifier())"
   ]
  },
  {
   "cell_type": "markdown",
   "id": "cc84a392-b3ad-47ff-9350-9d92ebb6ceea",
   "metadata": {},
   "source": [
    "Therefore, we reward all molecules with a score above `activity_threshold` with 1.0 and all molecules predicted as inactive with scores below `activity_threshold - pad` get no reward.\n",
    "\n",
    "In addition to these scores, we also implement two other scoring functions for a desired `QED` range and synthetic accessibility score (`SA`):"
   ]
  },
  {
   "cell_type": "code",
   "execution_count": 16,
   "id": "b3649d9b-57cb-49c5-a869-8f247ab439b5",
   "metadata": {},
   "outputs": [],
   "source": [
    "from drugex.training.scorers.properties import Property\n",
    "\n",
    "qed = Property(\n",
    "    \"QED\",\n",
    "    modifier=ClippedScore(lower_x=0, upper_x=1.0)\n",
    ")\n",
    "\n",
    "sascore = Property(\n",
    "    \"SA\",\n",
    "    modifier=ClippedScore(lower_x=4.5, upper_x=0)\n",
    ")"
   ]
  },
  {
   "cell_type": "markdown",
   "id": "c44646c9-6776-4e57-a998-ec02a831bbac",
   "metadata": {},
   "source": [
    "This concludes our definition of scoring functions. As the last step, we serialize our QSAR models so that we can use them for predictions on the generated molecules in the [generation tutorial](generation.ipynb): "
   ]
  },
  {
   "cell_type": "code",
   "execution_count": 17,
   "id": "6f5711b7-211d-41bd-83c0-b0193a5a700f",
   "metadata": {},
   "outputs": [],
   "source": [
    "import pickle\n",
    "\n",
    "models_dir = 'data/models/reinforced/graph'\n",
    "os.makedirs(models_dir, exist_ok=True)\n",
    "pickle.dump(scorer_a1, open(f'{models_dir}/scorer_a1.pkg', 'bw'))\n",
    "pickle.dump(scorer_a3, open(f'{models_dir}/scorer_a3.pkg', 'bw'))"
   ]
  },
  {
   "cell_type": "markdown",
   "id": "795d66ad-fffa-41f7-ae7a-e3db2e50078d",
   "metadata": {},
   "source": [
    "## Creating Environment\n",
    "\n",
    "The environment for reinforcement learning has two main ingredients in DrugEx. The scoring functions we created above and thresholds:"
   ]
  },
  {
   "cell_type": "code",
   "execution_count": 18,
   "id": "f91730d3-e98d-49fc-ad12-52e05d32c301",
   "metadata": {},
   "outputs": [],
   "source": [
    "from drugex.training.environment import DrugExEnvironment\n",
    "from drugex.training.rewards import ParetoCrowdingDistance\n",
    "\n",
    "scorers = [\n",
    "    scorer_a1,\n",
    "    scorer_a3,\n",
    "    qed,\n",
    "    sascore\n",
    "]\n",
    "thresholds = [\n",
    "    0.99,\n",
    "    0.99,\n",
    "    0.0,\n",
    "    0.0\n",
    "]\n",
    "\n",
    "environment = DrugExEnvironment(scorers, thresholds, reward_scheme=ParetoCrowdingDistance())"
   ]
  },
  {
   "cell_type": "markdown",
   "id": "35e5cc7a-38dc-414a-8e9c-70e46fb6afaf",
   "metadata": {
    "tags": []
   },
   "source": [
    "The thresholds are applied to the modified scores when the desirablity of the molecules is determined. Molecules with scores below the given thresholds are considered as undesired by DrugEx. This information is used during evaluation of the model and also calculation of some of the rewards (i.e. `drugex.training.rewards.WeightedSum`). However, in this case we will use the `ParetoCrowdingDistance` reward scheme, which calculates rewards based on Pareto ranking of the compounds in the space of objectives using the `NSGA-II` algorithm.\n",
    "\n",
    "Now we have all ingredients to start optimization of our models. We can reuse the same environment for all models within DrugEx. As usual, we start with the graph-based solution:\n",
    "\n",
    "## Graph-Based Model"
   ]
  },
  {
   "cell_type": "code",
   "execution_count": 19,
   "id": "0594f425-9a2e-433a-81af-ac8643f60e19",
   "metadata": {},
   "outputs": [],
   "source": [
    "from drugex.training.models.explorer import GraphExplorer\n",
    "from drugex.training.models.transform import GraphModel\n",
    "from drugex.data.corpus.vocabulary import VocGraph\n",
    "\n",
    "vocabulary = VocGraph.fromFile('data/models/finetuned/graph/ligand_finetuned.vocab')\n",
    "finetuned = GraphModel(voc_trg=vocabulary, use_gpus=GPUS)\n",
    "finetuned.loadStatesFromFile('data/models/finetuned/graph/chembl_ligand.pkg')\n",
    "pretrained = GraphModel(voc_trg=vocabulary, use_gpus=GPUS)\n",
    "pretrained.loadStatesFromFile('jupyter/models/pretrained/graph/chembl27/chembl27_graph.pkg')\n",
    "\n",
    "explorer = GraphExplorer(agent=pretrained, env=environment, mutate=finetuned, epsilon=0.1, use_gpus=GPUS)"
   ]
  },
  {
   "cell_type": "markdown",
   "id": "55cca706-df37-4ca6-ae86-7febcfbc937e",
   "metadata": {},
   "source": [
    "Here we use the pretrained model as the agent for the reinforcement learning and the finetuned network will be our prior, which introduces mutations to the generated structures according to the exploration rate parameter `epsilon` (see [preprint](https://chemrxiv.org/engage/chemrxiv/article-details/61aa8b58bc299c0b30887f80)). \n",
    "\n",
    "We will also need the previously generated training and validation sets for finetuning to run the calculations:"
   ]
  },
  {
   "cell_type": "code",
   "execution_count": 20,
   "id": "38ddc575-9853-4aa6-929a-0da71d95e39f",
   "metadata": {},
   "outputs": [],
   "source": [
    "from drugex.data.datasets import GraphFragDataSet\n",
    "\n",
    "train = GraphFragDataSet('data/sets/graph/ligand_train.tsv')\n",
    "test = GraphFragDataSet('data/sets/graph/ligand_test.tsv')"
   ]
  },
  {
   "cell_type": "markdown",
   "id": "255c4576-cfaf-411c-a50c-54b1252d5956",
   "metadata": {},
   "source": [
    "After that we can finally start the training loop:"
   ]
  },
  {
   "cell_type": "code",
   "execution_count": 21,
   "id": "18413ac2-dab5-48e5-83fb-c64a0be142ec",
   "metadata": {},
   "outputs": [
    {
     "data": {
      "application/vnd.jupyter.widget-view+json": {
       "model_id": "efba73dff42740a1a9e6c2079044a683",
       "version_major": 2,
       "version_minor": 0
      },
      "text/plain": [
       "Fitting graph explorer:   0%|          | 0/3 [00:00<?, ?it/s]"
      ]
     },
     "metadata": {},
     "output_type": "display_data"
    },
    {
     "data": {
      "application/vnd.jupyter.widget-view+json": {
       "model_id": "",
       "version_major": 2,
       "version_minor": 0
      },
      "text/plain": [
       "Iterating over training batches:   0%|          | 0/19 [00:00<?, ?it/s]"
      ]
     },
     "metadata": {},
     "output_type": "display_data"
    },
    {
     "data": {
      "application/vnd.jupyter.widget-view+json": {
       "model_id": "",
       "version_major": 2,
       "version_minor": 0
      },
      "text/plain": [
       "Iterating over validation batches:   0%|          | 0/19 [00:00<?, ?it/s]"
      ]
     },
     "metadata": {},
     "output_type": "display_data"
    },
    {
     "name": "stderr",
     "output_type": "stream",
     "text": [
      "/home/sichom/projects/DrugEx/drugex/training/models/explorer.py:194: UserWarning: Creating a tensor from a list of numpy.ndarrays is extremely slow. Please consider converting the list to a single numpy.ndarray with numpy.array() before converting to a tensor. (Triggered internally at  ../torch/csrc/utils/tensor_new.cpp:210.)\n",
      "  reward = torch.Tensor(reward).to(src.device)\n"
     ]
    },
    {
     "data": {
      "application/vnd.jupyter.widget-view+json": {
       "model_id": "",
       "version_major": 2,
       "version_minor": 0
      },
      "text/plain": [
       "Iterating over training batches:   0%|          | 0/19 [00:00<?, ?it/s]"
      ]
     },
     "metadata": {},
     "output_type": "display_data"
    },
    {
     "data": {
      "application/vnd.jupyter.widget-view+json": {
       "model_id": "",
       "version_major": 2,
       "version_minor": 0
      },
      "text/plain": [
       "Iterating over validation batches:   0%|          | 0/19 [00:00<?, ?it/s]"
      ]
     },
     "metadata": {},
     "output_type": "display_data"
    },
    {
     "data": {
      "application/vnd.jupyter.widget-view+json": {
       "model_id": "",
       "version_major": 2,
       "version_minor": 0
      },
      "text/plain": [
       "Iterating over training batches:   0%|          | 0/19 [00:00<?, ?it/s]"
      ]
     },
     "metadata": {},
     "output_type": "display_data"
    },
    {
     "data": {
      "application/vnd.jupyter.widget-view+json": {
       "model_id": "",
       "version_major": 2,
       "version_minor": 0
      },
      "text/plain": [
       "Iterating over validation batches:   0%|          | 0/19 [00:00<?, ?it/s]"
      ]
     },
     "metadata": {},
     "output_type": "display_data"
    }
   ],
   "source": [
    "from drugex.training.monitors import FileMonitor\n",
    "\n",
    "monitor = FileMonitor(\"data/models/reinforced/graph/agent\", verbose=True) # we can use the same monitor type for all models in DrugEx\n",
    "explorer.fit(train.asDataLoader(batch_size=128), test.asDataLoader(batch_size=128), monitor=monitor, epochs=EPOCHS)"
   ]
  },
  {
   "cell_type": "markdown",
   "id": "186adfff-e17b-4868-936e-3c5b274620b7",
   "metadata": {},
   "source": [
    "Finally, we just save the used vocabulary again for future reference:"
   ]
  },
  {
   "cell_type": "code",
   "execution_count": 22,
   "id": "7e4cd33f-9daf-44b7-a084-f0bf4d0749f9",
   "metadata": {},
   "outputs": [],
   "source": [
    "vocabulary.toFile('data/models/reinforced/graph/agent.vocab')"
   ]
  },
  {
   "cell_type": "markdown",
   "id": "b2f39591-e88c-4507-95f6-3989432d3188",
   "metadata": {},
   "source": [
    "We can again use the monitor's output to see how our model performed during training and to plot results more easily:"
   ]
  },
  {
   "cell_type": "code",
   "execution_count": 23,
   "id": "11007a1d-ac19-47f9-8393-759b12064cfe",
   "metadata": {},
   "outputs": [
    {
     "data": {
      "text/html": [
       "<div>\n",
       "<style scoped>\n",
       "    .dataframe tbody tr th:only-of-type {\n",
       "        vertical-align: middle;\n",
       "    }\n",
       "\n",
       "    .dataframe tbody tr th {\n",
       "        vertical-align: top;\n",
       "    }\n",
       "\n",
       "    .dataframe thead th {\n",
       "        text-align: right;\n",
       "    }\n",
       "</style>\n",
       "<table border=\"1\" class=\"dataframe\">\n",
       "  <thead>\n",
       "    <tr style=\"text-align: right;\">\n",
       "      <th></th>\n",
       "      <th>epoch</th>\n",
       "      <th>loss_valid</th>\n",
       "      <th>valid_ratio</th>\n",
       "      <th>unique_ratio</th>\n",
       "      <th>desire_ratio</th>\n",
       "      <th>mean_train_loss</th>\n",
       "    </tr>\n",
       "  </thead>\n",
       "  <tbody>\n",
       "    <tr>\n",
       "      <th>0</th>\n",
       "      <td>1</td>\n",
       "      <td>NaN</td>\n",
       "      <td>1.0</td>\n",
       "      <td>1.0</td>\n",
       "      <td>1.0</td>\n",
       "      <td>0.865075</td>\n",
       "    </tr>\n",
       "    <tr>\n",
       "      <th>1</th>\n",
       "      <td>2</td>\n",
       "      <td>NaN</td>\n",
       "      <td>1.0</td>\n",
       "      <td>1.0</td>\n",
       "      <td>1.0</td>\n",
       "      <td>0.624897</td>\n",
       "    </tr>\n",
       "    <tr>\n",
       "      <th>2</th>\n",
       "      <td>3</td>\n",
       "      <td>NaN</td>\n",
       "      <td>1.0</td>\n",
       "      <td>1.0</td>\n",
       "      <td>1.0</td>\n",
       "      <td>0.476756</td>\n",
       "    </tr>\n",
       "  </tbody>\n",
       "</table>\n",
       "</div>"
      ],
      "text/plain": [
       "   epoch  loss_valid  valid_ratio  unique_ratio  desire_ratio  mean_train_loss\n",
       "0      1         NaN          1.0           1.0           1.0         0.865075\n",
       "1      2         NaN          1.0           1.0           1.0         0.624897\n",
       "2      3         NaN          1.0           1.0           1.0         0.476756"
      ]
     },
     "execution_count": 23,
     "metadata": {},
     "output_type": "execute_result"
    }
   ],
   "source": [
    "df_info = pd.read_csv('data/models/reinforced/graph/agent_fit.tsv', sep='\\t')\n",
    "df_info"
   ]
  },
  {
   "cell_type": "code",
   "execution_count": 24,
   "id": "d014c1c1-c9f3-420e-956a-81e5000029f3",
   "metadata": {},
   "outputs": [
    {
     "data": {
      "text/plain": [
       "<AxesSubplot:xlabel='epoch'>"
      ]
     },
     "execution_count": 24,
     "metadata": {},
     "output_type": "execute_result"
    },
    {
     "data": {
      "image/png": "[encoded data removed]",
      "text/plain": [
       "<Figure size 432x288 with 1 Axes>"
      ]
     },
     "metadata": {
      "needs_background": "light"
     },
     "output_type": "display_data"
    }
   ],
   "source": [
    "df_info.plot.line(x='epoch', y='mean_train_loss')"
   ]
  },
  {
   "cell_type": "markdown",
   "id": "a8bc3669-4216-40e2-a5f0-24799bd2b862",
   "metadata": {},
   "source": [
    "In the detailed output for the molecules generated, we can see that the structures are mostly undesireble, but that was to be expected because we are only training for a small number of epochs with a small data set:"
   ]
  },
  {
   "cell_type": "code",
   "execution_count": 25,
   "id": "c5f872d7-9684-4441-8612-7b8d7a7f2a07",
   "metadata": {},
   "outputs": [
    {
     "data": {
      "text/html": [
       "<div>\n",
       "<style scoped>\n",
       "    .dataframe tbody tr th:only-of-type {\n",
       "        vertical-align: middle;\n",
       "    }\n",
       "\n",
       "    .dataframe tbody tr th {\n",
       "        vertical-align: top;\n",
       "    }\n",
       "\n",
       "    .dataframe thead th {\n",
       "        text-align: right;\n",
       "    }\n",
       "</style>\n",
       "<table border=\"1\" class=\"dataframe\">\n",
       "  <thead>\n",
       "    <tr style=\"text-align: right;\">\n",
       "      <th></th>\n",
       "      <th>Smiles</th>\n",
       "      <th>A1_&lt;class 'sklearn.neighbors._regression.KNeighborsRegressor'&gt;</th>\n",
       "      <th>A3_&lt;class 'sklearn.neighbors._regression.KNeighborsRegressor'&gt;</th>\n",
       "      <th>QED</th>\n",
       "      <th>SA</th>\n",
       "      <th>DESIRE</th>\n",
       "      <th>VALID</th>\n",
       "      <th>Frag</th>\n",
       "      <th>Epoch</th>\n",
       "    </tr>\n",
       "  </thead>\n",
       "  <tbody>\n",
       "    <tr>\n",
       "      <th>0</th>\n",
       "      <td>CCC(O)C(c1cccc(N2CCC(c3ccncc3)C2)c1)c1nc(-c2cc...</td>\n",
       "      <td>1.0</td>\n",
       "      <td>1.0</td>\n",
       "      <td>0.337392</td>\n",
       "      <td>0.112274</td>\n",
       "      <td>1.0</td>\n",
       "      <td>1.0</td>\n",
       "      <td>CCC.c1ccncc1</td>\n",
       "      <td>1</td>\n",
       "    </tr>\n",
       "    <tr>\n",
       "      <th>1</th>\n",
       "      <td>CNc1nc(OCC2CC2)nc(C2CCN(C(=O)c3ccnn3C)C2)n1</td>\n",
       "      <td>1.0</td>\n",
       "      <td>1.0</td>\n",
       "      <td>0.825392</td>\n",
       "      <td>0.265718</td>\n",
       "      <td>1.0</td>\n",
       "      <td>1.0</td>\n",
       "      <td>Cn1cccn1</td>\n",
       "      <td>1</td>\n",
       "    </tr>\n",
       "    <tr>\n",
       "      <th>2</th>\n",
       "      <td>Cc1ccc(C)c(CN(CCc2ccc(Cl)cc2)Cc2ccccc2)c1</td>\n",
       "      <td>1.0</td>\n",
       "      <td>1.0</td>\n",
       "      <td>0.482538</td>\n",
       "      <td>0.590344</td>\n",
       "      <td>1.0</td>\n",
       "      <td>1.0</td>\n",
       "      <td>Clc1ccccc1</td>\n",
       "      <td>1</td>\n",
       "    </tr>\n",
       "    <tr>\n",
       "      <th>3</th>\n",
       "      <td>Nc1sc2c(c1C(=O)Nc1ccc(I)c3ccccc13)CCNC2</td>\n",
       "      <td>1.0</td>\n",
       "      <td>1.0</td>\n",
       "      <td>0.518855</td>\n",
       "      <td>0.417650</td>\n",
       "      <td>1.0</td>\n",
       "      <td>1.0</td>\n",
       "      <td>C=O.Ic1cccc2ccccc12.Nc1cc2c(s1)CNCC2</td>\n",
       "      <td>1</td>\n",
       "    </tr>\n",
       "    <tr>\n",
       "      <th>4</th>\n",
       "      <td>Nc1nc(SCN2CCN3CCCC3C2)nc2nc(-c3ccco3)nn12</td>\n",
       "      <td>1.0</td>\n",
       "      <td>1.0</td>\n",
       "      <td>0.676593</td>\n",
       "      <td>0.242222</td>\n",
       "      <td>1.0</td>\n",
       "      <td>1.0</td>\n",
       "      <td>C1CC2CNCCN2C1.Nc1ncnc2ncnn12.c1ccoc1</td>\n",
       "      <td>1</td>\n",
       "    </tr>\n",
       "    <tr>\n",
       "      <th>...</th>\n",
       "      <td>...</td>\n",
       "      <td>...</td>\n",
       "      <td>...</td>\n",
       "      <td>...</td>\n",
       "      <td>...</td>\n",
       "      <td>...</td>\n",
       "      <td>...</td>\n",
       "      <td>...</td>\n",
       "      <td>...</td>\n",
       "    </tr>\n",
       "    <tr>\n",
       "      <th>970</th>\n",
       "      <td>NN=c1cc2ccoc2cn1CC1C=CCC1</td>\n",
       "      <td>1.0</td>\n",
       "      <td>1.0</td>\n",
       "      <td>0.486041</td>\n",
       "      <td>0.084555</td>\n",
       "      <td>1.0</td>\n",
       "      <td>1.0</td>\n",
       "      <td>C1=CCCC1</td>\n",
       "      <td>3</td>\n",
       "    </tr>\n",
       "    <tr>\n",
       "      <th>971</th>\n",
       "      <td>CC=CP(=O)(NC(=O)C(CC1NC(=O)NC1=O)c1ccncc1)OCC1...</td>\n",
       "      <td>1.0</td>\n",
       "      <td>1.0</td>\n",
       "      <td>0.274470</td>\n",
       "      <td>0.000000</td>\n",
       "      <td>1.0</td>\n",
       "      <td>1.0</td>\n",
       "      <td>OC1COCC1O</td>\n",
       "      <td>3</td>\n",
       "    </tr>\n",
       "    <tr>\n",
       "      <th>972</th>\n",
       "      <td>O=c1c2c(-c3ccc(Cl)cc3)noc2ccn1CCCc1ccccc1</td>\n",
       "      <td>1.0</td>\n",
       "      <td>1.0</td>\n",
       "      <td>0.503455</td>\n",
       "      <td>0.512422</td>\n",
       "      <td>1.0</td>\n",
       "      <td>1.0</td>\n",
       "      <td>Clc1ccccc1</td>\n",
       "      <td>3</td>\n",
       "    </tr>\n",
       "    <tr>\n",
       "      <th>973</th>\n",
       "      <td>CCCCC1C(=COc2cccnc2)CCC=C2C(=O)C(Nc3cccc(C(F)F...</td>\n",
       "      <td>1.0</td>\n",
       "      <td>1.0</td>\n",
       "      <td>0.473686</td>\n",
       "      <td>0.107033</td>\n",
       "      <td>1.0</td>\n",
       "      <td>1.0</td>\n",
       "      <td>CCC.c1ccncc1</td>\n",
       "      <td>3</td>\n",
       "    </tr>\n",
       "    <tr>\n",
       "      <th>974</th>\n",
       "      <td>OCC1OC(NCSCCCCC2=CCCCC2)C(O)C1O</td>\n",
       "      <td>1.0</td>\n",
       "      <td>1.0</td>\n",
       "      <td>0.290256</td>\n",
       "      <td>0.078890</td>\n",
       "      <td>1.0</td>\n",
       "      <td>1.0</td>\n",
       "      <td>OC1COCC1O</td>\n",
       "      <td>3</td>\n",
       "    </tr>\n",
       "  </tbody>\n",
       "</table>\n",
       "<p>975 rows × 9 columns</p>\n",
       "</div>"
      ],
      "text/plain": [
       "                                                Smiles  \\\n",
       "0    CCC(O)C(c1cccc(N2CCC(c3ccncc3)C2)c1)c1nc(-c2cc...   \n",
       "1          CNc1nc(OCC2CC2)nc(C2CCN(C(=O)c3ccnn3C)C2)n1   \n",
       "2            Cc1ccc(C)c(CN(CCc2ccc(Cl)cc2)Cc2ccccc2)c1   \n",
       "3              Nc1sc2c(c1C(=O)Nc1ccc(I)c3ccccc13)CCNC2   \n",
       "4            Nc1nc(SCN2CCN3CCCC3C2)nc2nc(-c3ccco3)nn12   \n",
       "..                                                 ...   \n",
       "970                          NN=c1cc2ccoc2cn1CC1C=CCC1   \n",
       "971  CC=CP(=O)(NC(=O)C(CC1NC(=O)NC1=O)c1ccncc1)OCC1...   \n",
       "972          O=c1c2c(-c3ccc(Cl)cc3)noc2ccn1CCCc1ccccc1   \n",
       "973  CCCCC1C(=COc2cccnc2)CCC=C2C(=O)C(Nc3cccc(C(F)F...   \n",
       "974                    OCC1OC(NCSCCCCC2=CCCCC2)C(O)C1O   \n",
       "\n",
       "     A1_<class 'sklearn.neighbors._regression.KNeighborsRegressor'>  \\\n",
       "0                                                  1.0                \n",
       "1                                                  1.0                \n",
       "2                                                  1.0                \n",
       "3                                                  1.0                \n",
       "4                                                  1.0                \n",
       "..                                                 ...                \n",
       "970                                                1.0                \n",
       "971                                                1.0                \n",
       "972                                                1.0                \n",
       "973                                                1.0                \n",
       "974                                                1.0                \n",
       "\n",
       "     A3_<class 'sklearn.neighbors._regression.KNeighborsRegressor'>       QED  \\\n",
       "0                                                  1.0               0.337392   \n",
       "1                                                  1.0               0.825392   \n",
       "2                                                  1.0               0.482538   \n",
       "3                                                  1.0               0.518855   \n",
       "4                                                  1.0               0.676593   \n",
       "..                                                 ...                    ...   \n",
       "970                                                1.0               0.486041   \n",
       "971                                                1.0               0.274470   \n",
       "972                                                1.0               0.503455   \n",
       "973                                                1.0               0.473686   \n",
       "974                                                1.0               0.290256   \n",
       "\n",
       "           SA  DESIRE  VALID                                  Frag  Epoch  \n",
       "0    0.112274     1.0    1.0                          CCC.c1ccncc1      1  \n",
       "1    0.265718     1.0    1.0                              Cn1cccn1      1  \n",
       "2    0.590344     1.0    1.0                            Clc1ccccc1      1  \n",
       "3    0.417650     1.0    1.0  C=O.Ic1cccc2ccccc12.Nc1cc2c(s1)CNCC2      1  \n",
       "4    0.242222     1.0    1.0  C1CC2CNCCN2C1.Nc1ncnc2ncnn12.c1ccoc1      1  \n",
       "..        ...     ...    ...                                   ...    ...  \n",
       "970  0.084555     1.0    1.0                              C1=CCCC1      3  \n",
       "971  0.000000     1.0    1.0                             OC1COCC1O      3  \n",
       "972  0.512422     1.0    1.0                            Clc1ccccc1      3  \n",
       "973  0.107033     1.0    1.0                          CCC.c1ccncc1      3  \n",
       "974  0.078890     1.0    1.0                             OC1COCC1O      3  \n",
       "\n",
       "[975 rows x 9 columns]"
      ]
     },
     "execution_count": 25,
     "metadata": {},
     "output_type": "execute_result"
    }
   ],
   "source": [
    "df_smiles = pd.read_csv('data/models/reinforced/graph/agent_smiles.tsv', sep='\\t')\n",
    "df_smiles"
   ]
  }
 ],
 "metadata": {
  "kernelspec": {
   "display_name": "Python 3 (ipykernel)",
   "language": "python",
   "name": "python3"
  },
  "language_info": {
   "codemirror_mode": {
    "name": "ipython",
    "version": 3
   },
   "file_extension": ".py",
   "mimetype": "text/x-python",
   "name": "python",
   "nbconvert_exporter": "python",
   "pygments_lexer": "ipython3",
   "version": "3.9.12"
  },
  "vscode": {
   "interpreter": {
    "hash": "198949b18dbe1398e4c1e163754b04b8782204695e30d26123ca73588ddf332c"
   }
  }
 },
 "nbformat": 4,
 "nbformat_minor": 5
}
