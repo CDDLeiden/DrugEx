{
 "cells": [
  {
   "cell_type": "markdown",
   "id": "718d5cf0-6e43-4d02-a59d-c79cbccbc1ed",
   "metadata": {},
   "source": [
    "# Optimization with Reinforcement Learning\n",
    "\n",
    "In this tutorial, we show how different model types within DrugEx can be optimized under the reinforcement learning framework. The models can be taught to generate compounds according to multiple custom rewards and using several optimization strategies. In this tutorial, we review some of the most important scoring functions and optimization strategies on a simple hypothetical example, which will be focused on searching for selective ligands for the adenosine A3 receptor (A3R). In order to do that, we will build two QSAR models that will predict activity on A3R, but also adenosine A1 receptor (A1R). We will then use predictions from these models to generate compounds more selective towards A3R rather than A1R. In practice, this would be a really difficult task because A3R and A1R receptors have very similar binding sites so it would be really hard to use a purely ligand-based approach like this. However, it will serve us well here for the sake of example.\n",
    "\n",
    "\n",
    "## QSAR Models \n",
    "\n",
    "In this section, we create the QSAR models that will serve as the source of rewards in our reinforcement learning framework. They will be built from selected subsets of the `LIGAND` data set (also used in [finetuning](finetuning.ipynb)):"
   ]
  },
  {
   "cell_type": "code",
   "execution_count": 39,
   "id": "48146209-1d24-4ee7-bd5f-b848030cfec5",
   "metadata": {},
   "outputs": [],
   "source": [
    "GPUS = [0]\n",
    "EPOCHS = 3"
   ]
  },
  {
   "cell_type": "code",
   "execution_count": 40,
   "id": "ba004473-3fa1-4aeb-9d34-5870bb21336b",
   "metadata": {},
   "outputs": [
    {
     "data": {
      "text/html": [
       "<div>\n",
       "<style scoped>\n",
       "    .dataframe tbody tr th:only-of-type {\n",
       "        vertical-align: middle;\n",
       "    }\n",
       "\n",
       "    .dataframe tbody tr th {\n",
       "        vertical-align: top;\n",
       "    }\n",
       "\n",
       "    .dataframe thead th {\n",
       "        text-align: right;\n",
       "    }\n",
       "</style>\n",
       "<table border=\"1\" class=\"dataframe\">\n",
       "  <thead>\n",
       "    <tr style=\"text-align: right;\">\n",
       "      <th></th>\n",
       "      <th>Smiles</th>\n",
       "      <th>pChEMBL_Value</th>\n",
       "      <th>Target_ChEMBL_ID</th>\n",
       "    </tr>\n",
       "  </thead>\n",
       "  <tbody>\n",
       "    <tr>\n",
       "      <th>0</th>\n",
       "      <td>CCCCn1cc2c(nc(NC(=O)Nc3ccc(Cl)c(Cl)c3)n3nc(-c4...</td>\n",
       "      <td>8.43</td>\n",
       "      <td>CHEMBL256</td>\n",
       "    </tr>\n",
       "    <tr>\n",
       "      <th>1</th>\n",
       "      <td>O=C(Cc1ccccc1)Nc1nc2nn(CCc3ccccc3)cc2c2nc(-c3c...</td>\n",
       "      <td>7.35</td>\n",
       "      <td>CHEMBL256</td>\n",
       "    </tr>\n",
       "    <tr>\n",
       "      <th>2</th>\n",
       "      <td>O=C(COc1ccccc1)Nc1nc2nn(CCc3ccccc3)cc2c2nc(-c3...</td>\n",
       "      <td>6.52</td>\n",
       "      <td>CHEMBL256</td>\n",
       "    </tr>\n",
       "    <tr>\n",
       "      <th>3</th>\n",
       "      <td>CC(C)(C)NC(=O)Nc1nc2nn(CCCc3ccccc3)cc2c2nc(-c3...</td>\n",
       "      <td>7.19</td>\n",
       "      <td>CHEMBL256</td>\n",
       "    </tr>\n",
       "    <tr>\n",
       "      <th>4</th>\n",
       "      <td>COc1ccc(-n2cc3c(n2)c(N)nc2ccccc23)cc1</td>\n",
       "      <td>7.04</td>\n",
       "      <td>CHEMBL256</td>\n",
       "    </tr>\n",
       "  </tbody>\n",
       "</table>\n",
       "</div>"
      ],
      "text/plain": [
       "                                              Smiles  pChEMBL_Value  \\\n",
       "0  CCCCn1cc2c(nc(NC(=O)Nc3ccc(Cl)c(Cl)c3)n3nc(-c4...           8.43   \n",
       "1  O=C(Cc1ccccc1)Nc1nc2nn(CCc3ccccc3)cc2c2nc(-c3c...           7.35   \n",
       "2  O=C(COc1ccccc1)Nc1nc2nn(CCc3ccccc3)cc2c2nc(-c3...           6.52   \n",
       "3  CC(C)(C)NC(=O)Nc1nc2nn(CCCc3ccccc3)cc2c2nc(-c3...           7.19   \n",
       "4              COc1ccc(-n2cc3c(n2)c(N)nc2ccccc23)cc1           7.04   \n",
       "\n",
       "  Target_ChEMBL_ID  \n",
       "0        CHEMBL256  \n",
       "1        CHEMBL256  \n",
       "2        CHEMBL256  \n",
       "3        CHEMBL256  \n",
       "4        CHEMBL256  "
      ]
     },
     "execution_count": 40,
     "metadata": {},
     "output_type": "execute_result"
    }
   ],
   "source": [
    "import pandas as pd\n",
    "\n",
    "mol_col = 'Smiles'\n",
    "activity_col = 'pChEMBL_Value'\n",
    "target_col = 'Target_ChEMBL_ID'\n",
    "columns = (mol_col, activity_col, target_col)\n",
    "\n",
    "df = pd.read_csv(\n",
    "    'jupyter/data/LIGAND_RAW_small.tsv', \n",
    "    na_values=('NA', 'nan', 'NaN'), \n",
    "    header=0, \n",
    "    sep='\\t', \n",
    "    usecols=columns\n",
    ")\n",
    "df.dropna(subset=[activity_col, target_col], inplace=True)\n",
    "df.head()"
   ]
  },
  {
   "cell_type": "code",
   "execution_count": 41,
   "id": "68802923",
   "metadata": {},
   "outputs": [
    {
     "data": {
      "text/plain": [
       "(266, 3)"
      ]
     },
     "execution_count": 41,
     "metadata": {},
     "output_type": "execute_result"
    }
   ],
   "source": [
    "df.shape"
   ]
  },
  {
   "cell_type": "markdown",
   "id": "8aa2cace",
   "metadata": {},
   "source": [
    "We have data for quite a few adenosine receptor subtypes in this set:"
   ]
  },
  {
   "cell_type": "code",
   "execution_count": 42,
   "id": "00c9e895-6d54-45db-9c35-c4129637c116",
   "metadata": {},
   "outputs": [
    {
     "data": {
      "text/plain": [
       "CHEMBL318     60\n",
       "CHEMBL256     55\n",
       "CHEMBL226     45\n",
       "CHEMBL251     44\n",
       "CHEMBL302     44\n",
       "CHEMBL255     16\n",
       "CHEMBL3360     1\n",
       "CHEMBL2592     1\n",
       "Name: Target_ChEMBL_ID, dtype: int64"
      ]
     },
     "execution_count": 42,
     "metadata": {},
     "output_type": "execute_result"
    }
   ],
   "source": [
    "df[target_col].value_counts()"
   ]
  },
  {
   "cell_type": "markdown",
   "id": "f3b70b20-0e07-4b75-87c6-22eb287c802f",
   "metadata": {},
   "source": [
    "However, we will only use data for A1R (ID=`CHEMBL318`) and A3R (ID=`CHEMBL256`).\n",
    "Here we create two QSARdataset objects, which is a class to prepare the dataset for QSAR training."
   ]
  },
  {
   "cell_type": "code",
   "execution_count": 43,
   "id": "38bc5183",
   "metadata": {},
   "outputs": [],
   "source": [
    "df_a1 = df[df[target_col] == \"CHEMBL318\"]\n",
    "df_a3 = df[df[target_col] == \"CHEMBL256\"]"
   ]
  },
  {
   "cell_type": "code",
   "execution_count": 44,
   "id": "13dc5789",
   "metadata": {},
   "outputs": [
    {
     "data": {
      "text/html": [
       "<div>\n",
       "<style scoped>\n",
       "    .dataframe tbody tr th:only-of-type {\n",
       "        vertical-align: middle;\n",
       "    }\n",
       "\n",
       "    .dataframe tbody tr th {\n",
       "        vertical-align: top;\n",
       "    }\n",
       "\n",
       "    .dataframe thead th {\n",
       "        text-align: right;\n",
       "    }\n",
       "</style>\n",
       "<table border=\"1\" class=\"dataframe\">\n",
       "  <thead>\n",
       "    <tr style=\"text-align: right;\">\n",
       "      <th></th>\n",
       "      <th>Smiles</th>\n",
       "      <th>pChEMBL_Value</th>\n",
       "      <th>Target_ChEMBL_ID</th>\n",
       "    </tr>\n",
       "  </thead>\n",
       "  <tbody>\n",
       "    <tr>\n",
       "      <th>54</th>\n",
       "      <td>CCCn1c(=O)n(C)c(=O)c2[nH]c(-c3cccnc3)nc21</td>\n",
       "      <td>7.14</td>\n",
       "      <td>CHEMBL318</td>\n",
       "    </tr>\n",
       "    <tr>\n",
       "      <th>56</th>\n",
       "      <td>CC(C)Cn1c(N)nc2c1c(=O)n(CC1CC1)c(=O)n2CC1CC1</td>\n",
       "      <td>5.46</td>\n",
       "      <td>CHEMBL318</td>\n",
       "    </tr>\n",
       "    <tr>\n",
       "      <th>65</th>\n",
       "      <td>CCCn1c(=O)c2nc(C34CC5CC(CC3C5)C4)[nH]c2n(CCC)c1=O</td>\n",
       "      <td>9.72</td>\n",
       "      <td>CHEMBL318</td>\n",
       "    </tr>\n",
       "    <tr>\n",
       "      <th>70</th>\n",
       "      <td>Nc1nc(OCCc2cccc(Cl)c2)nc2c1ncn2C1O[C@H](CO)[C@...</td>\n",
       "      <td>6.60</td>\n",
       "      <td>CHEMBL318</td>\n",
       "    </tr>\n",
       "    <tr>\n",
       "      <th>71</th>\n",
       "      <td>NCCCCCCC(=O)Nc1nc2ccc(Cl)cc2c2nc(-c3ccco3)nn12</td>\n",
       "      <td>6.94</td>\n",
       "      <td>CHEMBL318</td>\n",
       "    </tr>\n",
       "  </tbody>\n",
       "</table>\n",
       "</div>"
      ],
      "text/plain": [
       "                                               Smiles  pChEMBL_Value  \\\n",
       "54          CCCn1c(=O)n(C)c(=O)c2[nH]c(-c3cccnc3)nc21           7.14   \n",
       "56       CC(C)Cn1c(N)nc2c1c(=O)n(CC1CC1)c(=O)n2CC1CC1           5.46   \n",
       "65  CCCn1c(=O)c2nc(C34CC5CC(CC3C5)C4)[nH]c2n(CCC)c1=O           9.72   \n",
       "70  Nc1nc(OCCc2cccc(Cl)c2)nc2c1ncn2C1O[C@H](CO)[C@...           6.60   \n",
       "71     NCCCCCCC(=O)Nc1nc2ccc(Cl)cc2c2nc(-c3ccco3)nn12           6.94   \n",
       "\n",
       "   Target_ChEMBL_ID  \n",
       "54        CHEMBL318  \n",
       "56        CHEMBL318  \n",
       "65        CHEMBL318  \n",
       "70        CHEMBL318  \n",
       "71        CHEMBL318  "
      ]
     },
     "execution_count": 44,
     "metadata": {},
     "output_type": "execute_result"
    }
   ],
   "source": [
    "df_a1.head()"
   ]
  },
  {
   "cell_type": "code",
   "execution_count": 45,
   "id": "cc0212ca",
   "metadata": {},
   "outputs": [
    {
     "data": {
      "text/html": [
       "<div>\n",
       "<style scoped>\n",
       "    .dataframe tbody tr th:only-of-type {\n",
       "        vertical-align: middle;\n",
       "    }\n",
       "\n",
       "    .dataframe tbody tr th {\n",
       "        vertical-align: top;\n",
       "    }\n",
       "\n",
       "    .dataframe thead th {\n",
       "        text-align: right;\n",
       "    }\n",
       "</style>\n",
       "<table border=\"1\" class=\"dataframe\">\n",
       "  <thead>\n",
       "    <tr style=\"text-align: right;\">\n",
       "      <th></th>\n",
       "      <th>Smiles</th>\n",
       "      <th>pChEMBL_Value</th>\n",
       "      <th>Target_ChEMBL_ID</th>\n",
       "    </tr>\n",
       "  </thead>\n",
       "  <tbody>\n",
       "    <tr>\n",
       "      <th>0</th>\n",
       "      <td>CCCCn1cc2c(nc(NC(=O)Nc3ccc(Cl)c(Cl)c3)n3nc(-c4...</td>\n",
       "      <td>8.43</td>\n",
       "      <td>CHEMBL256</td>\n",
       "    </tr>\n",
       "    <tr>\n",
       "      <th>1</th>\n",
       "      <td>O=C(Cc1ccccc1)Nc1nc2nn(CCc3ccccc3)cc2c2nc(-c3c...</td>\n",
       "      <td>7.35</td>\n",
       "      <td>CHEMBL256</td>\n",
       "    </tr>\n",
       "    <tr>\n",
       "      <th>2</th>\n",
       "      <td>O=C(COc1ccccc1)Nc1nc2nn(CCc3ccccc3)cc2c2nc(-c3...</td>\n",
       "      <td>6.52</td>\n",
       "      <td>CHEMBL256</td>\n",
       "    </tr>\n",
       "    <tr>\n",
       "      <th>3</th>\n",
       "      <td>CC(C)(C)NC(=O)Nc1nc2nn(CCCc3ccccc3)cc2c2nc(-c3...</td>\n",
       "      <td>7.19</td>\n",
       "      <td>CHEMBL256</td>\n",
       "    </tr>\n",
       "    <tr>\n",
       "      <th>4</th>\n",
       "      <td>COc1ccc(-n2cc3c(n2)c(N)nc2ccccc23)cc1</td>\n",
       "      <td>7.04</td>\n",
       "      <td>CHEMBL256</td>\n",
       "    </tr>\n",
       "  </tbody>\n",
       "</table>\n",
       "</div>"
      ],
      "text/plain": [
       "                                              Smiles  pChEMBL_Value  \\\n",
       "0  CCCCn1cc2c(nc(NC(=O)Nc3ccc(Cl)c(Cl)c3)n3nc(-c4...           8.43   \n",
       "1  O=C(Cc1ccccc1)Nc1nc2nn(CCc3ccccc3)cc2c2nc(-c3c...           7.35   \n",
       "2  O=C(COc1ccccc1)Nc1nc2nn(CCc3ccccc3)cc2c2nc(-c3...           6.52   \n",
       "3  CC(C)(C)NC(=O)Nc1nc2nn(CCCc3ccccc3)cc2c2nc(-c3...           7.19   \n",
       "4              COc1ccc(-n2cc3c(n2)c(N)nc2ccccc23)cc1           7.04   \n",
       "\n",
       "  Target_ChEMBL_ID  \n",
       "0        CHEMBL256  \n",
       "1        CHEMBL256  \n",
       "2        CHEMBL256  \n",
       "3        CHEMBL256  \n",
       "4        CHEMBL256  "
      ]
     },
     "execution_count": 45,
     "metadata": {},
     "output_type": "execute_result"
    }
   ],
   "source": [
    "df_a3.head()"
   ]
  },
  {
   "cell_type": "markdown",
   "id": "9b14abcc-edaa-4581-86f7-7d2f0aa25fb7",
   "metadata": {},
   "source": [
    "# Building the Models\n",
    "\n",
    "Since this tutorial is only meant for demonstration purposes, we will not perform any further preprocessing of the data and just build two simple Random forest models on the raw data using DrugEx built-in functions and interfaces:\n",
    "This is of course not the proper way of doing things, but a more complex machine learning worflow could be envisaged here.\n",
    "A seperate package ([QSPRpred](https://gitlab.services.universiteitleiden.nl/cdd/QSPRpred)) provides functionality to train QSAR models compatible with DrugEx.\n",
    "\n",
    "Below we show 2 options, to either train QSAR model [without QSPRpred](#train-qsar-model-using-sklearn) and how to load in a QSAR model trained [with QSPRpred](#)."
   ]
  },
  {
   "cell_type": "markdown",
   "id": "14d3f6f7",
   "metadata": {},
   "source": [
    "#### Load in QSAR model with QSPRpred"
   ]
  },
  {
   "cell_type": "markdown",
   "id": "383869ef",
   "metadata": {},
   "source": [
    "First make sure you have qsprpred installed in your enviroment. Then you can load in the descriptorcalcator object \n",
    "(to calculate the molecule descriptors during reinforcement learning) and the model."
   ]
  },
  {
   "cell_type": "code",
   "execution_count": 46,
   "id": "4997dbe3",
   "metadata": {},
   "outputs": [],
   "source": [
    "from drugex.training.scorers.predictors import Predictor\n",
    "from qsprpred.data.utils.descriptorcalculator import descriptorsCalculator\n",
    "\n",
    "# Note: make sure the same version of joblib is used as was used for saving the model!\n",
    "feature_calc = descriptorsCalculator.fromFile('jupyter/models/qsprmodels/REG_PCHEMBL_VALUE_DescCalc.json')\n",
    "scorer_a1 = Predictor.fromFile('jupyter/models/qsprmodels/PLS_REG_PCHEMBL_VALUE.pkg', feature_calc, type=\"REG\")\n",
    "\n",
    "feature_calc = descriptorsCalculator.fromFile('jupyter/models/qsprmodels/REG_PCHEMBL_VALUE_DescCalc.json')\n",
    "scorer_a3 = Predictor.fromFile('jupyter/models/qsprmodels/PLS_REG_PCHEMBL_VALUE.pkg', feature_calc, type=\"REG\")"
   ]
  },
  {
   "cell_type": "markdown",
   "id": "e5d41009",
   "metadata": {},
   "source": [
    "Now it should work as a scorer."
   ]
  },
  {
   "cell_type": "code",
   "execution_count": 47,
   "id": "c1f1d773",
   "metadata": {},
   "outputs": [
    {
     "name": "stdout",
     "output_type": "stream",
     "text": [
      "[[7.01669515]]\n",
      "[[7.01669515]]\n"
     ]
    }
   ],
   "source": [
    "print(scorer_a1([\"CN1C=NC2=C1C(=O)N(C(=O)N2C)C\"]))\n",
    "print(scorer_a3([\"CN1C=NC2=C1C(=O)N(C(=O)N2C)C\"]))"
   ]
  },
  {
   "cell_type": "markdown",
   "id": "80d44482",
   "metadata": {},
   "source": [
    "### Train QSAR model using sklearn"
   ]
  },
  {
   "cell_type": "markdown",
   "id": "a5bf53f1",
   "metadata": {},
   "source": [
    "It is still possible to use other (also non-sklearn) models with drugex, as long as they can be wrapped in the ModelScorer class (see section [Designating Scoring Functions](#scoring)) \n",
    "\n",
    "Since this tutorial is only meant for demonstration purposes, we will not perform any further preprocessing of the data and just build two simple random forest models on the raw data using DrugEx built-in functions and interfaces:"
   ]
  },
  {
   "cell_type": "code",
   "execution_count": 48,
   "id": "b7b8d4a1",
   "metadata": {},
   "outputs": [],
   "source": [
    "from drugex.training.scorers.predictors import Predictor\n",
    "from rdkit import Chem\n",
    "from sklearn.ensemble import RandomForestRegressor\n",
    "from sklearn.model_selection import train_test_split\n",
    "\n",
    "def train(df):\n",
    "    df_transformed = [(Chem.MolFromSmiles(x), y) for x, y in zip(df[mol_col], df[activity_col]) if x and type(x) is str]\n",
    "    X = Predictor.calc_physchem([x[0] for x in df_transformed])\n",
    "    y = [x[1] for x in df_transformed]\n",
    "    \n",
    "    rf = RandomForestRegressor(random_state=42)\n",
    "    rf.fit(X, y)\n",
    "    \n",
    "    return rf"
   ]
  },
  {
   "cell_type": "code",
   "execution_count": 49,
   "id": "4225cc2b",
   "metadata": {},
   "outputs": [],
   "source": [
    "rf_a1 = train(df_a1)\n",
    "rf_a3 = train(df_a3)"
   ]
  },
  {
   "cell_type": "markdown",
   "id": "d49bd962",
   "metadata": {},
   "source": [
    "Let's have a look at the performance of our trained models."
   ]
  },
  {
   "cell_type": "markdown",
   "id": "37d02793-fc87-43a4-aae9-709f2050b8bb",
   "metadata": {},
   "source": [
    "<a id='scoring'></a>\n",
    "\n",
    "##### Designating Scoring Functions\n",
    "\n",
    "Now we can wrap the built models in the `ModelScorer` class, which extends the `Scorer` interface to facilitate compound scoring during reinforcement learning:"
   ]
  },
  {
   "cell_type": "code",
   "execution_count": 50,
   "id": "f68c7779-1f63-447d-8878-df4dd538fa57",
   "metadata": {},
   "outputs": [],
   "source": [
    "from drugex.training.interfaces import Scorer\n",
    "\n",
    "class ModelScorer(Scorer):\n",
    "    \n",
    "    def __init__(self, model, prefix):\n",
    "        super().__init__()\n",
    "        self.model = model\n",
    "        self.prefix = prefix\n",
    "    \n",
    "    def getScores(self, mols, frags=None):\n",
    "        X = Predictor.calc_physchem(mols)\n",
    "        return self.model.predict(X)\n",
    "    \n",
    "    def getKey(self):\n",
    "        return f\"{self.prefix}_{type(self.model)}\"\n",
    "    \n",
    "scorer_a1 = ModelScorer(rf_a1, 'A1')\n",
    "scorer_a3 = ModelScorer(rf_a3, 'A3')"
   ]
  },
  {
   "cell_type": "markdown",
   "id": "37eeadbf-7f22-4df8-810e-464cb1073807",
   "metadata": {},
   "source": [
    "Instances of this class serve as scoring functions that are used to calculate the rewards in reinforcement learning. We can show how scoring works on a simple example of caffeine:"
   ]
  },
  {
   "cell_type": "code",
   "execution_count": 51,
   "id": "8d516c88-133a-401f-abe6-9ae61e09596f",
   "metadata": {},
   "outputs": [
    {
     "data": {
      "text/plain": [
       "array([5.5019])"
      ]
     },
     "execution_count": 51,
     "metadata": {},
     "output_type": "execute_result"
    }
   ],
   "source": [
    "scorer_a1([\"CN1C=NC2=C1C(=O)N(C(=O)N2C)C\"])"
   ]
  },
  {
   "cell_type": "code",
   "execution_count": 52,
   "id": "4bca0387-a1a2-4eb3-9f6f-ead50c6a80f4",
   "metadata": {},
   "outputs": [
    {
     "data": {
      "text/plain": [
       "array([6.7119])"
      ]
     },
     "execution_count": 52,
     "metadata": {},
     "output_type": "execute_result"
    }
   ],
   "source": [
    "scorer_a3([\"CN1C=NC2=C1C(=O)N(C(=O)N2C)C\"])"
   ]
  },
  {
   "cell_type": "markdown",
   "id": "02cb1280-dbe3-46cf-a79a-c5b8eaa38fb4",
   "metadata": {},
   "source": [
    "We can see that indeed our model for A1R might not be ideal in this case because the ChEMBL database actually reports pChEMBL values for caffeine in similar range for both targets (around 4.8).\n",
    "\n",
    "#### Applying Modifiers\n",
    "\n",
    "Next, we need to set proper modifiers for the scoring functions to calculate the correct rewards. You can again envisage different modifiers here that will mean different rewards, but we just use `ClippedScore` here:"
   ]
  },
  {
   "cell_type": "code",
   "execution_count": 53,
   "id": "edc57d67-b7cc-45ea-9583-fdee50ccc77c",
   "metadata": {},
   "outputs": [],
   "source": [
    "from drugex.training.scorers.modifiers import ClippedScore\n",
    "\n",
    "pad = 3.5\n",
    "activity_threshold = 6.5\n",
    "\n",
    "# inactive target\n",
    "scorer_a1.setModifier(ClippedScore(lower_x=activity_threshold + pad, upper_x=activity_threshold))\n",
    "\n",
    "# active target\n",
    "scorer_a3.setModifier(ClippedScore(lower_x=activity_threshold - pad, upper_x=activity_threshold))"
   ]
  },
  {
   "cell_type": "markdown",
   "id": "32226576-27e3-455a-abc4-ac1bcbb8a587",
   "metadata": {},
   "source": [
    "`ClippedScore` will change the previous values as follows:"
   ]
  },
  {
   "cell_type": "code",
   "execution_count": 54,
   "id": "769d012c-1bc2-4af3-9ecf-503d71930b21",
   "metadata": {},
   "outputs": [
    {
     "data": {
      "text/plain": [
       "array([1.])"
      ]
     },
     "execution_count": 54,
     "metadata": {},
     "output_type": "execute_result"
    }
   ],
   "source": [
    "scorer_a1([\"CN1C=NC2=C1C(=O)N(C(=O)N2C)C\"])"
   ]
  },
  {
   "cell_type": "code",
   "execution_count": 55,
   "id": "6402c564-f443-4b7a-a536-b7d682ac60ba",
   "metadata": {},
   "outputs": [
    {
     "data": {
      "text/plain": [
       "array([1.])"
      ]
     },
     "execution_count": 55,
     "metadata": {},
     "output_type": "execute_result"
    }
   ],
   "source": [
    "scorer_a3([\"CN1C=NC2=C1C(=O)N(C(=O)N2C)C\"])"
   ]
  },
  {
   "cell_type": "markdown",
   "id": "be775830-fd29-44fe-be95-11753462e85d",
   "metadata": {},
   "source": [
    "The intent of this modifier becomes clear when we plot the `ClippedScore` function for some example values:"
   ]
  },
  {
   "cell_type": "code",
   "execution_count": 56,
   "id": "933b0273-aa19-4d36-9a3d-9bd8eb8f599f",
   "metadata": {},
   "outputs": [
    {
     "data": {
      "text/plain": [
       "<AxesSubplot: xlabel='Original', ylabel='ClippedScore'>"
      ]
     },
     "execution_count": 56,
     "metadata": {},
     "output_type": "execute_result"
    },
    {
     "data": {
      "image/png": "[encoded data removed]",
      "text/plain": [
       "<Figure size 640x480 with 1 Axes>"
      ]
     },
     "metadata": {},
     "output_type": "display_data"
    }
   ],
   "source": [
    "import numpy as np\n",
    "import pandas as pd\n",
    "\n",
    "def depict_modifier(modifier):\n",
    "    vals = np.arange(0,12, 0.2)\n",
    "    scores = [(x, modifier(x)) for x in vals] # get the A1R modifier for inactivity (the lower the activity, the higher the reward)\n",
    "    scores = pd.DataFrame(scores, columns=['Original', 'ClippedScore'])\n",
    "    return scores.plot.scatter(x = 'Original', y = 'ClippedScore')\n",
    "\n",
    "depict_modifier(scorer_a1.getModifier())"
   ]
  },
  {
   "cell_type": "markdown",
   "id": "4d906b30-c268-4ad7-aad3-ea9d56633f04",
   "metadata": {},
   "source": [
    "Therefore, the score starts to deteriorate gradually as we cross the chosen `activity_threshold` (6.5) and becomes zero at `activity_threshold + pad`. When we show the same for our 'active' scoring function, the relationship is the exact opposite:"
   ]
  },
  {
   "cell_type": "code",
   "execution_count": 57,
   "id": "46e6c79e-001d-4bcb-b54b-bd9e8cd4927f",
   "metadata": {},
   "outputs": [
    {
     "data": {
      "text/plain": [
       "<AxesSubplot: xlabel='Original', ylabel='ClippedScore'>"
      ]
     },
     "execution_count": 57,
     "metadata": {},
     "output_type": "execute_result"
    },
    {
     "data": {
      "image/png": "[encoded data removed]",
      "text/plain": [
       "<Figure size 640x480 with 1 Axes>"
      ]
     },
     "metadata": {},
     "output_type": "display_data"
    }
   ],
   "source": [
    "depict_modifier(scorer_a3.getModifier())"
   ]
  },
  {
   "cell_type": "markdown",
   "id": "cc84a392-b3ad-47ff-9350-9d92ebb6ceea",
   "metadata": {},
   "source": [
    "Therefore, we reward all molecules with a score above `activity_threshold` with 1.0 and all molecules predicted as inactive with scores below `activity_threshold - pad` get no reward.\n",
    "\n",
    "In addition to these scores, we also implement two other scoring functions for a desired `QED` range and synthetic accessibility score (`SA`):"
   ]
  },
  {
   "cell_type": "code",
   "execution_count": 58,
   "id": "b3649d9b-57cb-49c5-a869-8f247ab439b5",
   "metadata": {},
   "outputs": [],
   "source": [
    "from drugex.training.scorers.properties import Property\n",
    "\n",
    "qed = Property(\n",
    "    \"QED\",\n",
    "    modifier=ClippedScore(lower_x=0, upper_x=1.0)\n",
    ")\n",
    "\n",
    "sascore = Property(\n",
    "    \"SA\",\n",
    "    modifier=ClippedScore(lower_x=4.5, upper_x=0)\n",
    ")"
   ]
  },
  {
   "cell_type": "markdown",
   "id": "c44646c9-6776-4e57-a998-ec02a831bbac",
   "metadata": {},
   "source": [
    "This concludes our definition of scoring functions. As the last step, we serialize our QSAR models so that we can use them for predictions on the generated molecules in the [generation tutorial](generation.ipynb): "
   ]
  },
  {
   "cell_type": "code",
   "execution_count": 59,
   "id": "6f5711b7-211d-41bd-83c0-b0193a5a700f",
   "metadata": {},
   "outputs": [],
   "source": [
    "import pickle\n",
    "\n",
    "models_dir = 'data/models/reinforced/graph'\n",
    "os.makedirs(models_dir, exist_ok=True)\n",
    "pickle.dump(scorer_a1, open(f'{models_dir}/scorer_a1.pkg', 'bw'))\n",
    "pickle.dump(scorer_a3, open(f'{models_dir}/scorer_a3.pkg', 'bw'))"
   ]
  },
  {
   "cell_type": "markdown",
   "id": "795d66ad-fffa-41f7-ae7a-e3db2e50078d",
   "metadata": {},
   "source": [
    "## Creating Environment\n",
    "\n",
    "The environment for reinforcement learning has two main ingredients in DrugEx. The scoring functions we created above and thresholds:"
   ]
  },
  {
   "cell_type": "code",
   "execution_count": 60,
   "id": "f91730d3-e98d-49fc-ad12-52e05d32c301",
   "metadata": {},
   "outputs": [],
   "source": [
    "from drugex.training.environment import DrugExEnvironment\n",
    "from drugex.training.rewards import ParetoCrowdingDistance\n",
    "\n",
    "scorers = [\n",
    "    scorer_a1,\n",
    "    scorer_a3,\n",
    "    qed,\n",
    "    sascore\n",
    "]\n",
    "thresholds = [\n",
    "    0.99,\n",
    "    0.99,\n",
    "    0.0,\n",
    "    0.0\n",
    "]\n",
    "\n",
    "environment = DrugExEnvironment(scorers, thresholds, reward_scheme=ParetoCrowdingDistance())"
   ]
  },
  {
   "cell_type": "markdown",
   "id": "35e5cc7a-38dc-414a-8e9c-70e46fb6afaf",
   "metadata": {
    "tags": []
   },
   "source": [
    "The thresholds are applied to the modified scores when the desirablity of the molecules is determined. Molecules with scores below the given thresholds are considered as undesired by DrugEx. This information is used during evaluation of the model and also calculation of some of the rewards (i.e. `drugex.training.rewards.WeightedSum`). However, in this case we will use the `ParetoCrowdingDistance` reward scheme, which calculates rewards based on Pareto ranking of the compounds in the space of objectives using the `NSGA-II` algorithm.\n",
    "\n",
    "Now we have all ingredients to start optimization of our models. We can reuse the same environment for all models within DrugEx. As usual, we start with the graph-based solution:\n",
    "\n",
    "## Graph-Based Model"
   ]
  },
  {
   "cell_type": "code",
   "execution_count": 61,
   "id": "0594f425-9a2e-433a-81af-ac8643f60e19",
   "metadata": {},
   "outputs": [],
   "source": [
    "from drugex.training.models.explorer import GraphExplorer\n",
    "from drugex.training.models.transform import GraphModel\n",
    "from drugex.data.corpus.vocabulary import VocGraph\n",
    "\n",
    "vocabulary = VocGraph.fromFile('jupyter/models/finetuned/graph/ligand_finetuned.vocab')\n",
    "finetuned = GraphModel(voc_trg=vocabulary, use_gpus=GPUS)\n",
    "finetuned.loadStatesFromFile('jupyter/models/finetuned/graph/chembl_ligand.pkg')\n",
    "pretrained = GraphModel(voc_trg=vocabulary, use_gpus=GPUS)\n",
    "pretrained.loadStatesFromFile('jupyter/models/pretrained/graph/chembl27/chembl27_graph.pkg')\n",
    "\n",
    "explorer = GraphExplorer(agent=pretrained, env=environment, mutate=finetuned, epsilon=0.1, use_gpus=GPUS)"
   ]
  },
  {
   "cell_type": "markdown",
   "id": "55cca706-df37-4ca6-ae86-7febcfbc937e",
   "metadata": {},
   "source": [
    "Here we use the pretrained model as the agent for the reinforcement learning and the finetuned network will be our prior, which introduces mutations to the generated structures according to the exploration rate parameter `epsilon` (see [preprint](https://chemrxiv.org/engage/chemrxiv/article-details/61aa8b58bc299c0b30887f80)). \n",
    "\n",
    "We will also need the previously generated training and validation sets for finetuning to run the calculations:"
   ]
  },
  {
   "cell_type": "code",
   "execution_count": 63,
   "id": "38ddc575-9853-4aa6-929a-0da71d95e39f",
   "metadata": {},
   "outputs": [],
   "source": [
    "from drugex.data.datasets import GraphFragDataSet\n",
    "\n",
    "train = GraphFragDataSet('jupyter/data/sets/graph/ligand_train.tsv')\n",
    "test = GraphFragDataSet('jupyter/data/sets/graph/ligand_test.tsv')"
   ]
  },
  {
   "cell_type": "markdown",
   "id": "255c4576-cfaf-411c-a50c-54b1252d5956",
   "metadata": {},
   "source": [
    "After that we can finally start the training loop:"
   ]
  },
  {
   "cell_type": "code",
   "execution_count": 64,
   "id": "18413ac2-dab5-48e5-83fb-c64a0be142ec",
   "metadata": {},
   "outputs": [
    {
     "name": "stderr",
     "output_type": "stream",
     "text": [
      "Fitting graph explorer:   0%|          | 0/3 [00:00<?, ?it/s]/zfsdata/data/sohvi/DrugEx/drugex/training/models/explorer.py:194: UserWarning: Creating a tensor from a list of numpy.ndarrays is extremely slow. Please consider converting the list to a single numpy.ndarray with numpy.array() before converting to a tensor. (Triggered internally at ../torch/csrc/utils/tensor_new.cpp:230.)\n",
      "  reward = torch.Tensor(reward).to(src.device)\n",
      "Fitting graph explorer: 100%|██████████| 3/3 [06:05<00:00, 121.96s/it]\n"
     ]
    }
   ],
   "source": [
    "from drugex.training.monitors import FileMonitor\n",
    "\n",
    "monitor = FileMonitor(\"jupyter/models/reinforced/graph/agent\", verbose=True) # we can use the same monitor type for all models in DrugEx\n",
    "explorer.fit(train.asDataLoader(batch_size=128), test.asDataLoader(batch_size=128), monitor=monitor, epochs=EPOCHS)"
   ]
  },
  {
   "cell_type": "markdown",
   "id": "186adfff-e17b-4868-936e-3c5b274620b7",
   "metadata": {},
   "source": [
    "Finally, we just save the used vocabulary again for future reference:"
   ]
  },
  {
   "cell_type": "code",
   "execution_count": 65,
   "id": "7e4cd33f-9daf-44b7-a084-f0bf4d0749f9",
   "metadata": {},
   "outputs": [],
   "source": [
    "vocabulary.toFile('jupyter/models/reinforced/graph/agent.vocab')"
   ]
  },
  {
   "cell_type": "markdown",
   "id": "b2f39591-e88c-4507-95f6-3989432d3188",
   "metadata": {},
   "source": [
    "We can again use the monitor's output to see how our model performed during training and to plot results more easily:"
   ]
  },
  {
   "cell_type": "code",
   "execution_count": 66,
   "id": "11007a1d-ac19-47f9-8393-759b12064cfe",
   "metadata": {},
   "outputs": [
    {
     "data": {
      "text/html": [
       "<div>\n",
       "<style scoped>\n",
       "    .dataframe tbody tr th:only-of-type {\n",
       "        vertical-align: middle;\n",
       "    }\n",
       "\n",
       "    .dataframe tbody tr th {\n",
       "        vertical-align: top;\n",
       "    }\n",
       "\n",
       "    .dataframe thead th {\n",
       "        text-align: right;\n",
       "    }\n",
       "</style>\n",
       "<table border=\"1\" class=\"dataframe\">\n",
       "  <thead>\n",
       "    <tr style=\"text-align: right;\">\n",
       "      <th></th>\n",
       "      <th>epoch</th>\n",
       "      <th>loss_train</th>\n",
       "      <th>loss_valid</th>\n",
       "      <th>valid_ratio</th>\n",
       "      <th>unique_ratio</th>\n",
       "      <th>desire_ratio</th>\n",
       "      <th>mean_train_loss</th>\n",
       "    </tr>\n",
       "  </thead>\n",
       "  <tbody>\n",
       "    <tr>\n",
       "      <th>0</th>\n",
       "      <td>1</td>\n",
       "      <td>NaN</td>\n",
       "      <td>NaN</td>\n",
       "      <td>0.995215</td>\n",
       "      <td>1.0</td>\n",
       "      <td>0.468900</td>\n",
       "      <td>0.922443</td>\n",
       "    </tr>\n",
       "    <tr>\n",
       "      <th>1</th>\n",
       "      <td>2</td>\n",
       "      <td>NaN</td>\n",
       "      <td>NaN</td>\n",
       "      <td>0.990431</td>\n",
       "      <td>1.0</td>\n",
       "      <td>0.483254</td>\n",
       "      <td>0.660730</td>\n",
       "    </tr>\n",
       "    <tr>\n",
       "      <th>2</th>\n",
       "      <td>3</td>\n",
       "      <td>NaN</td>\n",
       "      <td>NaN</td>\n",
       "      <td>0.990431</td>\n",
       "      <td>1.0</td>\n",
       "      <td>0.468900</td>\n",
       "      <td>0.527590</td>\n",
       "    </tr>\n",
       "  </tbody>\n",
       "</table>\n",
       "</div>"
      ],
      "text/plain": [
       "   epoch  loss_train  loss_valid  valid_ratio  unique_ratio  desire_ratio  \\\n",
       "0      1         NaN         NaN     0.995215           1.0      0.468900   \n",
       "1      2         NaN         NaN     0.990431           1.0      0.483254   \n",
       "2      3         NaN         NaN     0.990431           1.0      0.468900   \n",
       "\n",
       "   mean_train_loss  \n",
       "0         0.922443  \n",
       "1         0.660730  \n",
       "2         0.527590  "
      ]
     },
     "execution_count": 66,
     "metadata": {},
     "output_type": "execute_result"
    }
   ],
   "source": [
    "df_info = pd.read_csv('jupyter/models/reinforced/graph/agent_fit.tsv', sep='\\t')\n",
    "df_info"
   ]
  },
  {
   "cell_type": "code",
   "execution_count": 68,
   "id": "d014c1c1-c9f3-420e-956a-81e5000029f3",
   "metadata": {},
   "outputs": [
    {
     "data": {
      "text/plain": [
       "<AxesSubplot: xlabel='epoch'>"
      ]
     },
     "execution_count": 68,
     "metadata": {},
     "output_type": "execute_result"
    },
    {
     "data": {
      "image/png": "[encoded data removed]",
      "text/plain": [
       "<Figure size 640x480 with 1 Axes>"
      ]
     },
     "metadata": {},
     "output_type": "display_data"
    }
   ],
   "source": [
    "df_info.plot.line(x='epoch', y='mean_train_loss')"
   ]
  },
  {
   "cell_type": "markdown",
   "id": "a8bc3669-4216-40e2-a5f0-24799bd2b862",
   "metadata": {},
   "source": [
    "In the detailed output for the molecules generated, we can see that the structures are mostly undesireble, but that was to be expected because we are only training for a small number of epochs with a small data set:"
   ]
  },
  {
   "cell_type": "code",
   "execution_count": 69,
   "id": "c5f872d7-9684-4441-8612-7b8d7a7f2a07",
   "metadata": {},
   "outputs": [
    {
     "data": {
      "text/html": [
       "<div>\n",
       "<style scoped>\n",
       "    .dataframe tbody tr th:only-of-type {\n",
       "        vertical-align: middle;\n",
       "    }\n",
       "\n",
       "    .dataframe tbody tr th {\n",
       "        vertical-align: top;\n",
       "    }\n",
       "\n",
       "    .dataframe thead th {\n",
       "        text-align: right;\n",
       "    }\n",
       "</style>\n",
       "<table border=\"1\" class=\"dataframe\">\n",
       "  <thead>\n",
       "    <tr style=\"text-align: right;\">\n",
       "      <th></th>\n",
       "      <th>Smiles</th>\n",
       "      <th>A1_&lt;class 'sklearn.ensemble._forest.RandomForestRegressor'&gt;</th>\n",
       "      <th>A3_&lt;class 'sklearn.ensemble._forest.RandomForestRegressor'&gt;</th>\n",
       "      <th>QED</th>\n",
       "      <th>SA</th>\n",
       "      <th>DESIRE</th>\n",
       "      <th>VALID</th>\n",
       "      <th>Frag</th>\n",
       "      <th>Epoch</th>\n",
       "    </tr>\n",
       "  </thead>\n",
       "  <tbody>\n",
       "    <tr>\n",
       "      <th>0</th>\n",
       "      <td>Cc1ccc2c(O)c(Nc3ccc(O)c(C(=O)O)c3)c(-c3cccc(Cl...</td>\n",
       "      <td>0.866600</td>\n",
       "      <td>1.000000</td>\n",
       "      <td>0.338129</td>\n",
       "      <td>0.428711</td>\n",
       "      <td>0.0</td>\n",
       "      <td>1.0</td>\n",
       "      <td>Cc1ccc2c(O)ccnc2n1</td>\n",
       "      <td>1</td>\n",
       "    </tr>\n",
       "    <tr>\n",
       "      <th>1</th>\n",
       "      <td>O=C(Nc1ccc(F)c(Cl)c1)N1CCN(CC2(F)CCCNC2)CC1</td>\n",
       "      <td>0.986200</td>\n",
       "      <td>1.000000</td>\n",
       "      <td>0.857305</td>\n",
       "      <td>0.315461</td>\n",
       "      <td>0.0</td>\n",
       "      <td>1.0</td>\n",
       "      <td>C1CNCCN1.C=O.Fc1ccccc1Cl</td>\n",
       "      <td>1</td>\n",
       "    </tr>\n",
       "    <tr>\n",
       "      <th>2</th>\n",
       "      <td>CC=C(N)c1ccccc1N1N=C(c2c(Cc3ccccc3OC)ccn2C)N2C...</td>\n",
       "      <td>0.947400</td>\n",
       "      <td>1.000000</td>\n",
       "      <td>0.615670</td>\n",
       "      <td>0.193660</td>\n",
       "      <td>0.0</td>\n",
       "      <td>1.0</td>\n",
       "      <td>CO.c1ccccc1</td>\n",
       "      <td>1</td>\n",
       "    </tr>\n",
       "    <tr>\n",
       "      <th>3</th>\n",
       "      <td>O=C(Nc1ccc(C2=NOC3C=CC=C(c4[nH]ncc4C(=O)O)C=C2...</td>\n",
       "      <td>1.000000</td>\n",
       "      <td>1.000000</td>\n",
       "      <td>0.382844</td>\n",
       "      <td>0.171480</td>\n",
       "      <td>1.0</td>\n",
       "      <td>1.0</td>\n",
       "      <td>Clc1ccccc1</td>\n",
       "      <td>1</td>\n",
       "    </tr>\n",
       "    <tr>\n",
       "      <th>4</th>\n",
       "      <td>CCN(CC)C(=O)C1C2(C=CSC(N3NC(C)=NC3C)=N2)C(C(=O...</td>\n",
       "      <td>0.994371</td>\n",
       "      <td>1.000000</td>\n",
       "      <td>0.503088</td>\n",
       "      <td>0.000000</td>\n",
       "      <td>1.0</td>\n",
       "      <td>1.0</td>\n",
       "      <td>C=O.c1ccccc1</td>\n",
       "      <td>1</td>\n",
       "    </tr>\n",
       "    <tr>\n",
       "      <th>...</th>\n",
       "      <td>...</td>\n",
       "      <td>...</td>\n",
       "      <td>...</td>\n",
       "      <td>...</td>\n",
       "      <td>...</td>\n",
       "      <td>...</td>\n",
       "      <td>...</td>\n",
       "      <td>...</td>\n",
       "      <td>...</td>\n",
       "    </tr>\n",
       "    <tr>\n",
       "      <th>622</th>\n",
       "      <td>C=C1C2=CC3C(=C(N4CCNCC4)C(=O)c4cc(sc4N)C(=O)C4...</td>\n",
       "      <td>0.775200</td>\n",
       "      <td>1.000000</td>\n",
       "      <td>0.593432</td>\n",
       "      <td>0.000000</td>\n",
       "      <td>0.0</td>\n",
       "      <td>1.0</td>\n",
       "      <td>C1CNCCN1.Nc1cccs1</td>\n",
       "      <td>3</td>\n",
       "    </tr>\n",
       "    <tr>\n",
       "      <th>623</th>\n",
       "      <td>COc1c(CNOC(=O)c2ccccc2)cc2cc1CC(C(C)O)CC2=C1C=...</td>\n",
       "      <td>1.000000</td>\n",
       "      <td>1.000000</td>\n",
       "      <td>0.604221</td>\n",
       "      <td>0.000000</td>\n",
       "      <td>1.0</td>\n",
       "      <td>1.0</td>\n",
       "      <td>C=O.c1ccccc1</td>\n",
       "      <td>3</td>\n",
       "    </tr>\n",
       "    <tr>\n",
       "      <th>624</th>\n",
       "      <td>COc1cc(C23CCCC(C2)OC3)ccc1CO</td>\n",
       "      <td>1.000000</td>\n",
       "      <td>1.000000</td>\n",
       "      <td>0.892359</td>\n",
       "      <td>0.044845</td>\n",
       "      <td>1.0</td>\n",
       "      <td>1.0</td>\n",
       "      <td>CO.c1ccccc1</td>\n",
       "      <td>3</td>\n",
       "    </tr>\n",
       "    <tr>\n",
       "      <th>625</th>\n",
       "      <td>Cc1cc(C2OC3COC(C)(C)OC3C2(C)C)c2c(O)c(-c3ccccc...</td>\n",
       "      <td>0.885029</td>\n",
       "      <td>1.000000</td>\n",
       "      <td>0.633784</td>\n",
       "      <td>0.090610</td>\n",
       "      <td>0.0</td>\n",
       "      <td>1.0</td>\n",
       "      <td>Cc1ccc2c(O)ccnc2n1</td>\n",
       "      <td>3</td>\n",
       "    </tr>\n",
       "    <tr>\n",
       "      <th>626</th>\n",
       "      <td>NC(=O)NC1OC(=O)C2C3CON(OC(=O)CCC4CCC(O)C5C6CN(...</td>\n",
       "      <td>1.000000</td>\n",
       "      <td>0.833389</td>\n",
       "      <td>0.061425</td>\n",
       "      <td>0.000000</td>\n",
       "      <td>0.0</td>\n",
       "      <td>1.0</td>\n",
       "      <td>CCCCCC=O.OC1COCC1O</td>\n",
       "      <td>3</td>\n",
       "    </tr>\n",
       "  </tbody>\n",
       "</table>\n",
       "<p>627 rows × 9 columns</p>\n",
       "</div>"
      ],
      "text/plain": [
       "                                                Smiles  \\\n",
       "0    Cc1ccc2c(O)c(Nc3ccc(O)c(C(=O)O)c3)c(-c3cccc(Cl...   \n",
       "1          O=C(Nc1ccc(F)c(Cl)c1)N1CCN(CC2(F)CCCNC2)CC1   \n",
       "2    CC=C(N)c1ccccc1N1N=C(c2c(Cc3ccccc3OC)ccn2C)N2C...   \n",
       "3    O=C(Nc1ccc(C2=NOC3C=CC=C(c4[nH]ncc4C(=O)O)C=C2...   \n",
       "4    CCN(CC)C(=O)C1C2(C=CSC(N3NC(C)=NC3C)=N2)C(C(=O...   \n",
       "..                                                 ...   \n",
       "622  C=C1C2=CC3C(=C(N4CCNCC4)C(=O)c4cc(sc4N)C(=O)C4...   \n",
       "623  COc1c(CNOC(=O)c2ccccc2)cc2cc1CC(C(C)O)CC2=C1C=...   \n",
       "624                       COc1cc(C23CCCC(C2)OC3)ccc1CO   \n",
       "625  Cc1cc(C2OC3COC(C)(C)OC3C2(C)C)c2c(O)c(-c3ccccc...   \n",
       "626  NC(=O)NC1OC(=O)C2C3CON(OC(=O)CCC4CCC(O)C5C6CN(...   \n",
       "\n",
       "     A1_<class 'sklearn.ensemble._forest.RandomForestRegressor'>  \\\n",
       "0                                             0.866600             \n",
       "1                                             0.986200             \n",
       "2                                             0.947400             \n",
       "3                                             1.000000             \n",
       "4                                             0.994371             \n",
       "..                                                 ...             \n",
       "622                                           0.775200             \n",
       "623                                           1.000000             \n",
       "624                                           1.000000             \n",
       "625                                           0.885029             \n",
       "626                                           1.000000             \n",
       "\n",
       "     A3_<class 'sklearn.ensemble._forest.RandomForestRegressor'>       QED  \\\n",
       "0                                             1.000000            0.338129   \n",
       "1                                             1.000000            0.857305   \n",
       "2                                             1.000000            0.615670   \n",
       "3                                             1.000000            0.382844   \n",
       "4                                             1.000000            0.503088   \n",
       "..                                                 ...                 ...   \n",
       "622                                           1.000000            0.593432   \n",
       "623                                           1.000000            0.604221   \n",
       "624                                           1.000000            0.892359   \n",
       "625                                           1.000000            0.633784   \n",
       "626                                           0.833389            0.061425   \n",
       "\n",
       "           SA  DESIRE  VALID                      Frag  Epoch  \n",
       "0    0.428711     0.0    1.0        Cc1ccc2c(O)ccnc2n1      1  \n",
       "1    0.315461     0.0    1.0  C1CNCCN1.C=O.Fc1ccccc1Cl      1  \n",
       "2    0.193660     0.0    1.0               CO.c1ccccc1      1  \n",
       "3    0.171480     1.0    1.0                Clc1ccccc1      1  \n",
       "4    0.000000     1.0    1.0              C=O.c1ccccc1      1  \n",
       "..        ...     ...    ...                       ...    ...  \n",
       "622  0.000000     0.0    1.0         C1CNCCN1.Nc1cccs1      3  \n",
       "623  0.000000     1.0    1.0              C=O.c1ccccc1      3  \n",
       "624  0.044845     1.0    1.0               CO.c1ccccc1      3  \n",
       "625  0.090610     0.0    1.0        Cc1ccc2c(O)ccnc2n1      3  \n",
       "626  0.000000     0.0    1.0        CCCCCC=O.OC1COCC1O      3  \n",
       "\n",
       "[627 rows x 9 columns]"
      ]
     },
     "execution_count": 69,
     "metadata": {},
     "output_type": "execute_result"
    }
   ],
   "source": [
    "df_smiles = pd.read_csv('jupyter/models/reinforced/graph/agent_smiles.tsv', sep='\\t')\n",
    "df_smiles"
   ]
  },
  {
   "cell_type": "code",
   "execution_count": null,
   "id": "d0903326",
   "metadata": {},
   "outputs": [],
   "source": []
  }
 ],
 "metadata": {
  "kernelspec": {
   "display_name": "Python 3.9.10 ('drugex')",
   "language": "python",
   "name": "python3"
  },
  "language_info": {
   "codemirror_mode": {
    "name": "ipython",
    "version": 3
   },
   "file_extension": ".py",
   "mimetype": "text/x-python",
   "name": "python",
   "nbconvert_exporter": "python",
   "pygments_lexer": "ipython3",
   "version": "3.9.10"
  },
  "vscode": {
   "interpreter": {
    "hash": "ef81fe45658a01b36c04e8781b27ee7fe5dfd900e647858145273f3ccfb8752d"
   }
  }
 },
 "nbformat": 4,
 "nbformat_minor": 5
}
