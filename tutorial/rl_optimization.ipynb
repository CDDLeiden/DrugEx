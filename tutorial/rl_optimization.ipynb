{
 "cells": [
  {
   "cell_type": "markdown",
   "id": "718d5cf0-6e43-4d02-a59d-c79cbccbc1ed",
   "metadata": {},
   "source": [
    "# Optimization with Reinforcement Learning\n",
    "\n",
    "In this tutorial, we show how different model types within DrugEx can be optimized under the reinforcement learning framework. The models can be taught to generate compounds according to multiple custom rewards and using several optimization strategies. In this tutorial, we review some of the most important scoring functions and optimization strategies on a simple hypothetical example, which will be focused on searching for selective ligands for the adenosine A3 receptor (A3R). In order to do that, we will build two QSAR models that will predict activity on A3R, but also adenosine A1 receptor (A1R). We will then use predictions from these models to generate compounds more selective towards A3R rather than A1R. In practice, this would be a really difficult task because A3R and A1R receptors have very similar binding sites so it would be really hard to use a purely ligand-based approach like this. However, it will serve us well here for the sake of example.\n",
    "\n",
    "\n",
    "## QSAR Models \n",
    "\n",
    "In this section, we create the QSAR models that will serve as the source of rewards in our reinforcement learning framework. They will be built from selected subsets of the `LIGAND` data set (also used in [finetuning](finetuning.ipynb)):"
   ]
  },
  {
   "cell_type": "code",
   "execution_count": 1,
   "id": "ba004473-3fa1-4aeb-9d34-5870bb21336b",
   "metadata": {},
   "outputs": [
    {
     "data": {
      "text/html": [
       "<div>\n",
       "<style scoped>\n",
       "    .dataframe tbody tr th:only-of-type {\n",
       "        vertical-align: middle;\n",
       "    }\n",
       "\n",
       "    .dataframe tbody tr th {\n",
       "        vertical-align: top;\n",
       "    }\n",
       "\n",
       "    .dataframe thead th {\n",
       "        text-align: right;\n",
       "    }\n",
       "</style>\n",
       "<table border=\"1\" class=\"dataframe\">\n",
       "  <thead>\n",
       "    <tr style=\"text-align: right;\">\n",
       "      <th></th>\n",
       "      <th>Smiles</th>\n",
       "      <th>pChEMBL_Value</th>\n",
       "      <th>Target_ChEMBL_ID</th>\n",
       "    </tr>\n",
       "  </thead>\n",
       "  <tbody>\n",
       "    <tr>\n",
       "      <th>0</th>\n",
       "      <td>CCCCn1cc2c(nc(NC(=O)Nc3ccc(Cl)c(Cl)c3)n3nc(-c4...</td>\n",
       "      <td>8.43</td>\n",
       "      <td>CHEMBL256</td>\n",
       "    </tr>\n",
       "    <tr>\n",
       "      <th>1</th>\n",
       "      <td>O=C(Cc1ccccc1)Nc1nc2nn(CCc3ccccc3)cc2c2nc(-c3c...</td>\n",
       "      <td>7.35</td>\n",
       "      <td>CHEMBL256</td>\n",
       "    </tr>\n",
       "    <tr>\n",
       "      <th>2</th>\n",
       "      <td>O=C(COc1ccccc1)Nc1nc2nn(CCc3ccccc3)cc2c2nc(-c3...</td>\n",
       "      <td>6.52</td>\n",
       "      <td>CHEMBL256</td>\n",
       "    </tr>\n",
       "    <tr>\n",
       "      <th>3</th>\n",
       "      <td>CC(C)(C)NC(=O)Nc1nc2nn(CCCc3ccccc3)cc2c2nc(-c3...</td>\n",
       "      <td>7.19</td>\n",
       "      <td>CHEMBL256</td>\n",
       "    </tr>\n",
       "    <tr>\n",
       "      <th>4</th>\n",
       "      <td>COc1ccc(-n2cc3c(n2)c(N)nc2ccccc23)cc1</td>\n",
       "      <td>7.04</td>\n",
       "      <td>CHEMBL256</td>\n",
       "    </tr>\n",
       "  </tbody>\n",
       "</table>\n",
       "</div>"
      ],
      "text/plain": [
       "                                              Smiles  pChEMBL_Value  \\\n",
       "0  CCCCn1cc2c(nc(NC(=O)Nc3ccc(Cl)c(Cl)c3)n3nc(-c4...           8.43   \n",
       "1  O=C(Cc1ccccc1)Nc1nc2nn(CCc3ccccc3)cc2c2nc(-c3c...           7.35   \n",
       "2  O=C(COc1ccccc1)Nc1nc2nn(CCc3ccccc3)cc2c2nc(-c3...           6.52   \n",
       "3  CC(C)(C)NC(=O)Nc1nc2nn(CCCc3ccccc3)cc2c2nc(-c3...           7.19   \n",
       "4              COc1ccc(-n2cc3c(n2)c(N)nc2ccccc23)cc1           7.04   \n",
       "\n",
       "  Target_ChEMBL_ID  \n",
       "0        CHEMBL256  \n",
       "1        CHEMBL256  \n",
       "2        CHEMBL256  \n",
       "3        CHEMBL256  \n",
       "4        CHEMBL256  "
      ]
     },
     "execution_count": 1,
     "metadata": {},
     "output_type": "execute_result"
    }
   ],
   "source": [
    "import pandas as pd\n",
    "\n",
    "mol_col = 'Smiles'\n",
    "activity_col = 'pChEMBL_Value'\n",
    "target_col = 'Target_ChEMBL_ID'\n",
    "columns = (mol_col, activity_col, target_col)\n",
    "\n",
    "df = pd.read_csv(\n",
    "    'jupyter/data/LIGAND_RAW.tsv', \n",
    "    na_values=('NA', 'nan', 'NaN'), \n",
    "    header=0, \n",
    "    sep='\\t', \n",
    "    usecols=columns\n",
    ")\n",
    "df.dropna(subset=[activity_col, target_col], inplace=True)\n",
    "df.head()"
   ]
  },
  {
   "cell_type": "code",
   "execution_count": 2,
   "id": "b6e6918f-fa98-490c-b9aa-795352a6562a",
   "metadata": {},
   "outputs": [
    {
     "data": {
      "text/plain": [
       "(34575, 3)"
      ]
     },
     "execution_count": 2,
     "metadata": {},
     "output_type": "execute_result"
    }
   ],
   "source": [
    "df.shape"
   ]
  },
  {
   "cell_type": "markdown",
   "id": "5872d8c6-7dfb-4ea8-9627-2aca82d7d66d",
   "metadata": {},
   "source": [
    "We have data for quite a few adenosine receptor subtypes in this set:"
   ]
  },
  {
   "cell_type": "code",
   "execution_count": 3,
   "id": "00c9e895-6d54-45db-9c35-c4129637c116",
   "metadata": {},
   "outputs": [
    {
     "data": {
      "text/plain": [
       "CHEMBL240     8915\n",
       "CHEMBL251     5851\n",
       "CHEMBL256     5496\n",
       "CHEMBL226     5069\n",
       "CHEMBL318     3927\n",
       "CHEMBL255     2670\n",
       "CHEMBL302     2113\n",
       "CHEMBL3360     479\n",
       "CHEMBL2592      55\n",
       "Name: Target_ChEMBL_ID, dtype: int64"
      ]
     },
     "execution_count": 3,
     "metadata": {},
     "output_type": "execute_result"
    }
   ],
   "source": [
    "df[target_col].value_counts()"
   ]
  },
  {
   "cell_type": "markdown",
   "id": "f3b70b20-0e07-4b75-87c6-22eb287c802f",
   "metadata": {},
   "source": [
    "However, we will only use data for A1R (ID=`CHEMBL318`) and A3R (ID=`CHEMBL256`)"
   ]
  },
  {
   "cell_type": "code",
   "execution_count": 4,
   "id": "121045cf-ad1a-45cb-a25a-0a7293651a93",
   "metadata": {},
   "outputs": [],
   "source": [
    "df_a1 = df[df[target_col] == \"CHEMBL318\"]\n",
    "df_a3 = df[df[target_col] == \"CHEMBL256\"]"
   ]
  },
  {
   "cell_type": "code",
   "execution_count": 5,
   "id": "c28e0745-e9d0-4a0a-b9f9-f9d7a2ec2388",
   "metadata": {},
   "outputs": [
    {
     "data": {
      "text/html": [
       "<div>\n",
       "<style scoped>\n",
       "    .dataframe tbody tr th:only-of-type {\n",
       "        vertical-align: middle;\n",
       "    }\n",
       "\n",
       "    .dataframe tbody tr th {\n",
       "        vertical-align: top;\n",
       "    }\n",
       "\n",
       "    .dataframe thead th {\n",
       "        text-align: right;\n",
       "    }\n",
       "</style>\n",
       "<table border=\"1\" class=\"dataframe\">\n",
       "  <thead>\n",
       "    <tr style=\"text-align: right;\">\n",
       "      <th></th>\n",
       "      <th>Smiles</th>\n",
       "      <th>pChEMBL_Value</th>\n",
       "      <th>Target_ChEMBL_ID</th>\n",
       "    </tr>\n",
       "  </thead>\n",
       "  <tbody>\n",
       "    <tr>\n",
       "      <th>54</th>\n",
       "      <td>CCCn1c(=O)n(C)c(=O)c2[nH]c(-c3cccnc3)nc21</td>\n",
       "      <td>7.14</td>\n",
       "      <td>CHEMBL318</td>\n",
       "    </tr>\n",
       "    <tr>\n",
       "      <th>56</th>\n",
       "      <td>CC(C)Cn1c(N)nc2c1c(=O)n(CC1CC1)c(=O)n2CC1CC1</td>\n",
       "      <td>5.46</td>\n",
       "      <td>CHEMBL318</td>\n",
       "    </tr>\n",
       "    <tr>\n",
       "      <th>65</th>\n",
       "      <td>CCCn1c(=O)c2nc(C34CC5CC(CC3C5)C4)[nH]c2n(CCC)c1=O</td>\n",
       "      <td>9.72</td>\n",
       "      <td>CHEMBL318</td>\n",
       "    </tr>\n",
       "    <tr>\n",
       "      <th>70</th>\n",
       "      <td>Nc1nc(OCCc2cccc(Cl)c2)nc2c1ncn2C1O[C@H](CO)[C@...</td>\n",
       "      <td>6.60</td>\n",
       "      <td>CHEMBL318</td>\n",
       "    </tr>\n",
       "    <tr>\n",
       "      <th>71</th>\n",
       "      <td>NCCCCCCC(=O)Nc1nc2ccc(Cl)cc2c2nc(-c3ccco3)nn12</td>\n",
       "      <td>6.94</td>\n",
       "      <td>CHEMBL318</td>\n",
       "    </tr>\n",
       "  </tbody>\n",
       "</table>\n",
       "</div>"
      ],
      "text/plain": [
       "                                               Smiles  pChEMBL_Value  \\\n",
       "54          CCCn1c(=O)n(C)c(=O)c2[nH]c(-c3cccnc3)nc21           7.14   \n",
       "56       CC(C)Cn1c(N)nc2c1c(=O)n(CC1CC1)c(=O)n2CC1CC1           5.46   \n",
       "65  CCCn1c(=O)c2nc(C34CC5CC(CC3C5)C4)[nH]c2n(CCC)c1=O           9.72   \n",
       "70  Nc1nc(OCCc2cccc(Cl)c2)nc2c1ncn2C1O[C@H](CO)[C@...           6.60   \n",
       "71     NCCCCCCC(=O)Nc1nc2ccc(Cl)cc2c2nc(-c3ccco3)nn12           6.94   \n",
       "\n",
       "   Target_ChEMBL_ID  \n",
       "54        CHEMBL318  \n",
       "56        CHEMBL318  \n",
       "65        CHEMBL318  \n",
       "70        CHEMBL318  \n",
       "71        CHEMBL318  "
      ]
     },
     "execution_count": 5,
     "metadata": {},
     "output_type": "execute_result"
    }
   ],
   "source": [
    "df_a1.head()"
   ]
  },
  {
   "cell_type": "code",
   "execution_count": 6,
   "id": "f6f99aa3-0bf0-4542-a461-8e38cf0851f0",
   "metadata": {},
   "outputs": [
    {
     "data": {
      "text/html": [
       "<div>\n",
       "<style scoped>\n",
       "    .dataframe tbody tr th:only-of-type {\n",
       "        vertical-align: middle;\n",
       "    }\n",
       "\n",
       "    .dataframe tbody tr th {\n",
       "        vertical-align: top;\n",
       "    }\n",
       "\n",
       "    .dataframe thead th {\n",
       "        text-align: right;\n",
       "    }\n",
       "</style>\n",
       "<table border=\"1\" class=\"dataframe\">\n",
       "  <thead>\n",
       "    <tr style=\"text-align: right;\">\n",
       "      <th></th>\n",
       "      <th>Smiles</th>\n",
       "      <th>pChEMBL_Value</th>\n",
       "      <th>Target_ChEMBL_ID</th>\n",
       "    </tr>\n",
       "  </thead>\n",
       "  <tbody>\n",
       "    <tr>\n",
       "      <th>0</th>\n",
       "      <td>CCCCn1cc2c(nc(NC(=O)Nc3ccc(Cl)c(Cl)c3)n3nc(-c4...</td>\n",
       "      <td>8.43</td>\n",
       "      <td>CHEMBL256</td>\n",
       "    </tr>\n",
       "    <tr>\n",
       "      <th>1</th>\n",
       "      <td>O=C(Cc1ccccc1)Nc1nc2nn(CCc3ccccc3)cc2c2nc(-c3c...</td>\n",
       "      <td>7.35</td>\n",
       "      <td>CHEMBL256</td>\n",
       "    </tr>\n",
       "    <tr>\n",
       "      <th>2</th>\n",
       "      <td>O=C(COc1ccccc1)Nc1nc2nn(CCc3ccccc3)cc2c2nc(-c3...</td>\n",
       "      <td>6.52</td>\n",
       "      <td>CHEMBL256</td>\n",
       "    </tr>\n",
       "    <tr>\n",
       "      <th>3</th>\n",
       "      <td>CC(C)(C)NC(=O)Nc1nc2nn(CCCc3ccccc3)cc2c2nc(-c3...</td>\n",
       "      <td>7.19</td>\n",
       "      <td>CHEMBL256</td>\n",
       "    </tr>\n",
       "    <tr>\n",
       "      <th>4</th>\n",
       "      <td>COc1ccc(-n2cc3c(n2)c(N)nc2ccccc23)cc1</td>\n",
       "      <td>7.04</td>\n",
       "      <td>CHEMBL256</td>\n",
       "    </tr>\n",
       "  </tbody>\n",
       "</table>\n",
       "</div>"
      ],
      "text/plain": [
       "                                              Smiles  pChEMBL_Value  \\\n",
       "0  CCCCn1cc2c(nc(NC(=O)Nc3ccc(Cl)c(Cl)c3)n3nc(-c4...           8.43   \n",
       "1  O=C(Cc1ccccc1)Nc1nc2nn(CCc3ccccc3)cc2c2nc(-c3c...           7.35   \n",
       "2  O=C(COc1ccccc1)Nc1nc2nn(CCc3ccccc3)cc2c2nc(-c3...           6.52   \n",
       "3  CC(C)(C)NC(=O)Nc1nc2nn(CCCc3ccccc3)cc2c2nc(-c3...           7.19   \n",
       "4              COc1ccc(-n2cc3c(n2)c(N)nc2ccccc23)cc1           7.04   \n",
       "\n",
       "  Target_ChEMBL_ID  \n",
       "0        CHEMBL256  \n",
       "1        CHEMBL256  \n",
       "2        CHEMBL256  \n",
       "3        CHEMBL256  \n",
       "4        CHEMBL256  "
      ]
     },
     "execution_count": 6,
     "metadata": {},
     "output_type": "execute_result"
    }
   ],
   "source": [
    "df_a3.head()"
   ]
  },
  {
   "cell_type": "markdown",
   "id": "9b14abcc-edaa-4581-86f7-7d2f0aa25fb7",
   "metadata": {},
   "source": [
    "### Building the Models\n",
    "\n",
    "Since this tutorial is only meant for demonstration purposes, we will not perform any further preprocessing of the data and just build two simple random forest models on the raw data:"
   ]
  },
  {
   "cell_type": "code",
   "execution_count": 7,
   "id": "e6fcff52-c57f-452d-b819-c2e80313e58e",
   "metadata": {},
   "outputs": [
    {
     "name": "stderr",
     "output_type": "stream",
     "text": [
      "/home/sichom/software/miniconda/envs/drugex-sandbox/lib/python3.9/site-packages/tqdm/auto.py:22: TqdmWarning: IProgress not found. Please update jupyter and ipywidgets. See https://ipywidgets.readthedocs.io/en/stable/user_install.html\n",
      "  from .autonotebook import tqdm as notebook_tqdm\n"
     ]
    }
   ],
   "source": [
    "from drugex.training.scorers.predictors import Predictor\n",
    "from rdkit import Chem\n",
    "from sklearn.ensemble import RandomForestRegressor\n",
    "from sklearn.model_selection import train_test_split\n",
    "\n",
    "def train(df):\n",
    "    df_transformed = [(Chem.MolFromSmiles(x), y) for x, y in zip(df[mol_col], df[activity_col]) if x and type(x) is str]\n",
    "    X = Predictor.calc_physchem([x[0] for x in df_transformed])\n",
    "    y = [x[1] for x in df_transformed]\n",
    "    \n",
    "    rf = RandomForestRegressor(random_state=42)\n",
    "    rf.fit(X, y)\n",
    "    \n",
    "    return rf"
   ]
  },
  {
   "cell_type": "code",
   "execution_count": 8,
   "id": "116fa73c-ff07-405f-8c38-daa0282e9826",
   "metadata": {},
   "outputs": [],
   "source": [
    "rf_a1 = train(df_a1)\n",
    "rf_a3 = train(df_a3)"
   ]
  },
  {
   "cell_type": "markdown",
   "id": "37d02793-fc87-43a4-aae9-709f2050b8bb",
   "metadata": {},
   "source": [
    "This is of course not the proper way of doing things, but a much more complex machine learning worflow could be envisaged here.\n",
    "\n",
    "### Designating Scoring Functions\n",
    "\n",
    "Since we now have our models, we can directly wrap them in the `ModelScorer` class, which extends the `Scorer` interface:"
   ]
  },
  {
   "cell_type": "code",
   "execution_count": 9,
   "id": "f68c7779-1f63-447d-8878-df4dd538fa57",
   "metadata": {},
   "outputs": [],
   "source": [
    "from drugex.training.interfaces import Scorer\n",
    "\n",
    "class ModelScorer(Scorer):\n",
    "    \n",
    "    def __init__(self, model, prefix):\n",
    "        super().__init__()\n",
    "        self.model = model\n",
    "        self.prefix = prefix\n",
    "    \n",
    "    def getScores(self, mols, frags=None):\n",
    "        X = Predictor.calc_physchem(mols)\n",
    "        return self.model.predict(X)\n",
    "    \n",
    "    def getKey(self):\n",
    "        return f\"{self.prefix}_{type(self.model)}\"\n",
    "    \n",
    "scorer_a1 = ModelScorer(rf_a1, 'A1')\n",
    "scorer_a3 = ModelScorer(rf_a3, 'A2')"
   ]
  },
  {
   "cell_type": "markdown",
   "id": "37eeadbf-7f22-4df8-810e-464cb1073807",
   "metadata": {},
   "source": [
    "Instances of this class serve as scoring functions that are used to calculate the rewards in reinforcement learning. We can show how scoring works on a simple example of caffeine:"
   ]
  },
  {
   "cell_type": "code",
   "execution_count": 10,
   "id": "8d516c88-133a-401f-abe6-9ae61e09596f",
   "metadata": {},
   "outputs": [
    {
     "data": {
      "text/plain": [
       "array([5.93931476])"
      ]
     },
     "execution_count": 10,
     "metadata": {},
     "output_type": "execute_result"
    }
   ],
   "source": [
    "scorer_a1([\"CN1C=NC2=C1C(=O)N(C(=O)N2C)C\"])"
   ]
  },
  {
   "cell_type": "code",
   "execution_count": 11,
   "id": "4bca0387-a1a2-4eb3-9f6f-ead50c6a80f4",
   "metadata": {},
   "outputs": [
    {
     "data": {
      "text/plain": [
       "array([4.82655833])"
      ]
     },
     "execution_count": 11,
     "metadata": {},
     "output_type": "execute_result"
    }
   ],
   "source": [
    "scorer_a3([\"CN1C=NC2=C1C(=O)N(C(=O)N2C)C\"])"
   ]
  },
  {
   "cell_type": "markdown",
   "id": "02cb1280-dbe3-46cf-a79a-c5b8eaa38fb4",
   "metadata": {},
   "source": [
    "We can see that indeed our model for A1R might not be ideal in this case because ChEMBL reports pChEMBL values for caffeine in similar range as for A3R (that is around 4.8).\n",
    "\n",
    "#### Applying Modifiers\n",
    "\n",
    "Next, we need to set proper modifiers for the scoring functions to calculate the correct rewards:"
   ]
  },
  {
   "cell_type": "code",
   "execution_count": 12,
   "id": "edc57d67-b7cc-45ea-9583-fdee50ccc77c",
   "metadata": {},
   "outputs": [],
   "source": [
    "from drugex.training.scorers.modifiers import ClippedScore\n",
    "\n",
    "pad = 3.5\n",
    "activity_threshold = 6.5\n",
    "\n",
    "# inactive target\n",
    "scorer_a1.setModifier(ClippedScore(lower_x=activity_threshold + pad, upper_x=activity_threshold))\n",
    "\n",
    "# active target\n",
    "scorer_a3.setModifier(ClippedScore(lower_x=activity_threshold - pad, upper_x=activity_threshold))"
   ]
  },
  {
   "cell_type": "markdown",
   "id": "32226576-27e3-455a-abc4-ac1bcbb8a587",
   "metadata": {},
   "source": [
    "In this case we choose the `ClippedScore` function as a modifier. It will change the previous values as follows:"
   ]
  },
  {
   "cell_type": "code",
   "execution_count": 13,
   "id": "769d012c-1bc2-4af3-9ecf-503d71930b21",
   "metadata": {},
   "outputs": [
    {
     "data": {
      "text/plain": [
       "array([1.])"
      ]
     },
     "execution_count": 13,
     "metadata": {},
     "output_type": "execute_result"
    }
   ],
   "source": [
    "scorer_a1([\"CN1C=NC2=C1C(=O)N(C(=O)N2C)C\"])"
   ]
  },
  {
   "cell_type": "code",
   "execution_count": 14,
   "id": "6402c564-f443-4b7a-a536-b7d682ac60ba",
   "metadata": {},
   "outputs": [
    {
     "data": {
      "text/plain": [
       "array([0.52187381])"
      ]
     },
     "execution_count": 14,
     "metadata": {},
     "output_type": "execute_result"
    }
   ],
   "source": [
    "scorer_a3([\"CN1C=NC2=C1C(=O)N(C(=O)N2C)C\"])"
   ]
  },
  {
   "cell_type": "markdown",
   "id": "be775830-fd29-44fe-be95-11753462e85d",
   "metadata": {},
   "source": [
    "The intent of the modifier becomes clear when we plot the `ClippedScore` function for some example values:"
   ]
  },
  {
   "cell_type": "code",
   "execution_count": 15,
   "id": "933b0273-aa19-4d36-9a3d-9bd8eb8f599f",
   "metadata": {},
   "outputs": [
    {
     "data": {
      "text/plain": [
       "<AxesSubplot:xlabel='Original', ylabel='ClippedScore'>"
      ]
     },
     "execution_count": 15,
     "metadata": {},
     "output_type": "execute_result"
    },
    {
     "data": {
      "image/png": "[encoded data removed]",
      "text/plain": [
       "<Figure size 432x288 with 1 Axes>"
      ]
     },
     "metadata": {
      "needs_background": "light"
     },
     "output_type": "display_data"
    }
   ],
   "source": [
    "import numpy as np\n",
    "\n",
    "def depict_modifier(modifier):\n",
    "    vals = np.arange(0,12, 0.2)\n",
    "    scores = [(x, modifier(x)) for x in vals] # get the A1R modifier for inactivity (the lower the activity, the higher the reward)\n",
    "    scores = pd.DataFrame(scores, columns=['Original', 'ClippedScore'])\n",
    "    return scores.plot.scatter(x = 'Original', y = 'ClippedScore')\n",
    "\n",
    "depict_modifier(scorer_a1.getModifier())"
   ]
  },
  {
   "cell_type": "markdown",
   "id": "4d906b30-c268-4ad7-aad3-ea9d56633f04",
   "metadata": {},
   "source": [
    "Theregore, the score starts to deteriorate grafually as we cross the chosen `activity_threshold` above and becomes zero at `activity_threshold + pad`. When we show the same for our 'active' scoring function, the relationship is the exact opposite:"
   ]
  },
  {
   "cell_type": "code",
   "execution_count": 16,
   "id": "46e6c79e-001d-4bcb-b54b-bd9e8cd4927f",
   "metadata": {},
   "outputs": [
    {
     "data": {
      "text/plain": [
       "<AxesSubplot:xlabel='Original', ylabel='ClippedScore'>"
      ]
     },
     "execution_count": 16,
     "metadata": {},
     "output_type": "execute_result"
    },
    {
     "data": {
      "image/png": "[encoded data removed]",
      "text/plain": [
       "<Figure size 432x288 with 1 Axes>"
      ]
     },
     "metadata": {
      "needs_background": "light"
     },
     "output_type": "display_data"
    }
   ],
   "source": [
    "depict_modifier(scorer_a3.getModifier())"
   ]
  },
  {
   "cell_type": "markdown",
   "id": "cc84a392-b3ad-47ff-9350-9d92ebb6ceea",
   "metadata": {},
   "source": [
    "Therefore, we reward all molecules with a score above `activity_threshold` with 1.0 and all molecules predicted as inactive with scores below `activity_threshold - pad` get no reward.\n",
    "\n",
    "In addition to these scores, we also implement two other scoring functions for a desired `logP` range and molecular weight (`MW`):"
   ]
  },
  {
   "cell_type": "code",
   "execution_count": 17,
   "id": "b3649d9b-57cb-49c5-a869-8f247ab439b5",
   "metadata": {},
   "outputs": [],
   "source": [
    "from drugex.training.scorers.properties import Property\n",
    "\n",
    "logP = Property(\n",
    "    \"logP\",\n",
    "    modifier=ClippedScore(lower_x=6, upper_x=4)\n",
    ")\n",
    "\n",
    "mw = Property(\n",
    "    \"MW\",\n",
    "    modifier=ClippedScore(lower_x=1000, upper_x=500)\n",
    ")"
   ]
  },
  {
   "cell_type": "markdown",
   "id": "795d66ad-fffa-41f7-ae7a-e3db2e50078d",
   "metadata": {},
   "source": [
    "## Creating Environment\n",
    "\n",
    "The environment for reinforcement learning has two main ingredients in DrugEx. The scoring functions we created above and thresholds:"
   ]
  },
  {
   "cell_type": "code",
   "execution_count": 18,
   "id": "f91730d3-e98d-49fc-ad12-52e05d32c301",
   "metadata": {},
   "outputs": [],
   "source": [
    "from drugex.training.environment import DrugExEnvironment\n",
    "from drugex.training.rewards import ParetoCrowdingDistance\n",
    "\n",
    "scorers = [\n",
    "    scorer_a1,\n",
    "    scorer_a3,\n",
    "    logP,\n",
    "    mw\n",
    "]\n",
    "thresholds = [\n",
    "    0.99,\n",
    "    0.99,\n",
    "    0.5,\n",
    "    0.5\n",
    "]\n",
    "\n",
    "environment = DrugExEnvironment(scorers, thresholds, reward_scheme=ParetoCrowdingDistance())"
   ]
  },
  {
   "cell_type": "markdown",
   "id": "35e5cc7a-38dc-414a-8e9c-70e46fb6afaf",
   "metadata": {},
   "source": [
    "The thresholds are applied to the modified scores when the desirablity of the molecules is assessed. Molecules with scores below the given thresholds are considered as undesired by DrugEx, which is used during evaluation of the model and also in calculation of some rewards (i.e. `drugex.training.rewards.WeightedSum`). However, in this case we will use the `ParetoCrowdingDistance` reward scheme, which calculates rewards based on Pareto ranking of the compounds in the space of objectives using the `NSGA-II` algorithm.\n",
    "\n",
    "## Graph-Based Model\n",
    "\n",
    "Now we have all ingredients to start optimization of our model. As usual, we start with the graph-based solution:"
   ]
  },
  {
   "cell_type": "code",
   "execution_count": 19,
   "id": "0594f425-9a2e-433a-81af-ac8643f60e19",
   "metadata": {},
   "outputs": [],
   "source": [
    "from drugex.training.models.explorer import GraphExplorer\n",
    "from drugex.training.models.transform import GraphModel\n",
    "from drugex.data.corpus.vocabulary import VocGraph\n",
    "\n",
    "vocabulary = VocGraph.fromFile('data/models/finetuned/ligand_finetuned.vocab')\n",
    "finetuned = GraphModel(voc_trg=vocabulary)\n",
    "finetuned.loadStatesFromFile('data/models/finetuned/ligand_finetuned.pkg')\n",
    "pretrained = GraphModel(voc_trg=vocabulary)\n",
    "pretrained.loadStatesFromFile('jupyter/models/pretrained/graph/chembl27/chembl27_graph.pkg')\n",
    "\n",
    "explorer = GraphExplorer(agent=pretrained, env=environment, mutate=finetuned, epsilon=0.1)"
   ]
  },
  {
   "cell_type": "markdown",
   "id": "55cca706-df37-4ca6-ae86-7febcfbc937e",
   "metadata": {},
   "source": [
    "Here we use the pretrained model as the agent for the reinforcement learning and the finetuned network will be our prior, which introduces mutations to the generated structures according to the exploration rate parameter `epsilon` (see [preprint](https://chemrxiv.org/engage/chemrxiv/article-details/61aa8b58bc299c0b30887f80)). \n",
    "\n",
    "We will also need the previously generated training and validation sets to run the calculations:"
   ]
  },
  {
   "cell_type": "code",
   "execution_count": 20,
   "id": "38ddc575-9853-4aa6-929a-0da71d95e39f",
   "metadata": {},
   "outputs": [],
   "source": [
    "from drugex.data.datasets import GraphFragDataSet\n",
    "\n",
    "train = GraphFragDataSet('train')\n",
    "train.fromFile('data/model_inputs/graph/ligand_train.tsv')\n",
    "test = GraphFragDataSet('test')\n",
    "test.fromFile('data/model_inputs/graph/ligand_test.tsv')"
   ]
  },
  {
   "cell_type": "markdown",
   "id": "255c4576-cfaf-411c-a50c-54b1252d5956",
   "metadata": {},
   "source": [
    "After that we can finally start the training loop:"
   ]
  },
  {
   "cell_type": "code",
   "execution_count": 21,
   "id": "18413ac2-dab5-48e5-83fb-c64a0be142ec",
   "metadata": {},
   "outputs": [
    {
     "name": "stderr",
     "output_type": "stream",
     "text": [
      "100%|█████████████████████████████████████████████████████████████████████| 10/10 [15:07<00:00, 90.74s/it]\n"
     ]
    }
   ],
   "source": [
    "from drugex.training.trainers import Reinforcer\n",
    "from drugex.training.monitors import FileMonitor\n",
    "\n",
    "reinforcer = Reinforcer(explorer, gpus=(0,)) # we can choose more GPUs if we have them\n",
    "monitor = FileMonitor(\"data/models/reinforced/graph/agent\")\n",
    "reinforcer.fit(train.asDataLoader(batch_size=128), test.asDataLoader(batch_size=128), monitor=monitor, epochs=10)"
   ]
  },
  {
   "cell_type": "markdown",
   "id": "186adfff-e17b-4868-936e-3c5b274620b7",
   "metadata": {},
   "source": [
    "Finally, we just save the used vocabulary again for consistency:"
   ]
  },
  {
   "cell_type": "code",
   "execution_count": 23,
   "id": "7e4cd33f-9daf-44b7-a084-f0bf4d0749f9",
   "metadata": {},
   "outputs": [],
   "source": [
    "vocabulary.toFile('data/models/reinforced/graph/agent.vocab')"
   ]
  },
  {
   "cell_type": "markdown",
   "id": "b2f39591-e88c-4507-95f6-3989432d3188",
   "metadata": {},
   "source": [
    "We can also use the monitor to get an overview of the model's performance on the validation data:"
   ]
  },
  {
   "cell_type": "code",
   "execution_count": 25,
   "id": "11007a1d-ac19-47f9-8393-759b12064cfe",
   "metadata": {},
   "outputs": [
    {
     "data": {
      "text/html": [
       "<div>\n",
       "<style scoped>\n",
       "    .dataframe tbody tr th:only-of-type {\n",
       "        vertical-align: middle;\n",
       "    }\n",
       "\n",
       "    .dataframe tbody tr th {\n",
       "        vertical-align: top;\n",
       "    }\n",
       "\n",
       "    .dataframe thead th {\n",
       "        text-align: right;\n",
       "    }\n",
       "</style>\n",
       "<table border=\"1\" class=\"dataframe\">\n",
       "  <thead>\n",
       "    <tr style=\"text-align: right;\">\n",
       "      <th></th>\n",
       "      <th>epoch</th>\n",
       "      <th>valid_ratio</th>\n",
       "      <th>unique_ratio</th>\n",
       "      <th>desire_ratio</th>\n",
       "      <th>mean_train_loss</th>\n",
       "    </tr>\n",
       "  </thead>\n",
       "  <tbody>\n",
       "    <tr>\n",
       "      <th>0</th>\n",
       "      <td>1</td>\n",
       "      <td>0.993976</td>\n",
       "      <td>1.0</td>\n",
       "      <td>0.132530</td>\n",
       "      <td>0.999033</td>\n",
       "    </tr>\n",
       "    <tr>\n",
       "      <th>1</th>\n",
       "      <td>2</td>\n",
       "      <td>1.000000</td>\n",
       "      <td>1.0</td>\n",
       "      <td>0.192771</td>\n",
       "      <td>0.919181</td>\n",
       "    </tr>\n",
       "    <tr>\n",
       "      <th>2</th>\n",
       "      <td>3</td>\n",
       "      <td>1.000000</td>\n",
       "      <td>1.0</td>\n",
       "      <td>0.144578</td>\n",
       "      <td>0.772775</td>\n",
       "    </tr>\n",
       "    <tr>\n",
       "      <th>3</th>\n",
       "      <td>4</td>\n",
       "      <td>0.987952</td>\n",
       "      <td>1.0</td>\n",
       "      <td>0.168675</td>\n",
       "      <td>0.685129</td>\n",
       "    </tr>\n",
       "    <tr>\n",
       "      <th>4</th>\n",
       "      <td>5</td>\n",
       "      <td>1.000000</td>\n",
       "      <td>1.0</td>\n",
       "      <td>0.138554</td>\n",
       "      <td>0.598006</td>\n",
       "    </tr>\n",
       "    <tr>\n",
       "      <th>5</th>\n",
       "      <td>6</td>\n",
       "      <td>1.000000</td>\n",
       "      <td>1.0</td>\n",
       "      <td>0.120482</td>\n",
       "      <td>0.562597</td>\n",
       "    </tr>\n",
       "    <tr>\n",
       "      <th>6</th>\n",
       "      <td>7</td>\n",
       "      <td>1.000000</td>\n",
       "      <td>1.0</td>\n",
       "      <td>0.198795</td>\n",
       "      <td>0.536563</td>\n",
       "    </tr>\n",
       "    <tr>\n",
       "      <th>7</th>\n",
       "      <td>8</td>\n",
       "      <td>0.993976</td>\n",
       "      <td>1.0</td>\n",
       "      <td>0.198795</td>\n",
       "      <td>0.529313</td>\n",
       "    </tr>\n",
       "    <tr>\n",
       "      <th>8</th>\n",
       "      <td>9</td>\n",
       "      <td>1.000000</td>\n",
       "      <td>1.0</td>\n",
       "      <td>0.259036</td>\n",
       "      <td>0.465343</td>\n",
       "    </tr>\n",
       "    <tr>\n",
       "      <th>9</th>\n",
       "      <td>10</td>\n",
       "      <td>0.993976</td>\n",
       "      <td>1.0</td>\n",
       "      <td>0.192771</td>\n",
       "      <td>0.406166</td>\n",
       "    </tr>\n",
       "  </tbody>\n",
       "</table>\n",
       "</div>"
      ],
      "text/plain": [
       "   epoch  valid_ratio  unique_ratio  desire_ratio  mean_train_loss\n",
       "0      1     0.993976           1.0      0.132530         0.999033\n",
       "1      2     1.000000           1.0      0.192771         0.919181\n",
       "2      3     1.000000           1.0      0.144578         0.772775\n",
       "3      4     0.987952           1.0      0.168675         0.685129\n",
       "4      5     1.000000           1.0      0.138554         0.598006\n",
       "5      6     1.000000           1.0      0.120482         0.562597\n",
       "6      7     1.000000           1.0      0.198795         0.536563\n",
       "7      8     0.993976           1.0      0.198795         0.529313\n",
       "8      9     1.000000           1.0      0.259036         0.465343\n",
       "9     10     0.993976           1.0      0.192771         0.406166"
      ]
     },
     "execution_count": 25,
     "metadata": {},
     "output_type": "execute_result"
    }
   ],
   "source": [
    "df_perf = monitor.asDataFrame()\n",
    "df_perf"
   ]
  },
  {
   "cell_type": "markdown",
   "id": "0c030b05-203e-4876-91b7-964a571eaaf1",
   "metadata": {},
   "source": [
    "So we can easily plot the mean training loss for each epoch, for example:"
   ]
  },
  {
   "cell_type": "code",
   "execution_count": 34,
   "id": "3e83c55f-b0fc-4e31-86bd-2ab9a29efa88",
   "metadata": {},
   "outputs": [
    {
     "data": {
      "text/plain": [
       "<AxesSubplot:xlabel='epoch', ylabel='mean_train_loss'>"
      ]
     },
     "execution_count": 34,
     "metadata": {},
     "output_type": "execute_result"
    },
    {
     "data": {
      "image/png": "[encoded data removed]",
      "text/plain": [
       "<Figure size 432x288 with 1 Axes>"
      ]
     },
     "metadata": {
      "needs_background": "light"
     },
     "output_type": "display_data"
    }
   ],
   "source": [
    "df_perf.plot.scatter(x='epoch', y='mean_train_loss', style='b')"
   ]
  },
  {
   "cell_type": "markdown",
   "id": "199066e5-9789-4839-a8e4-69e314fec6c0",
   "metadata": {},
   "source": [
    "The `desire_ratio` is also interesting since it tells us how many desirable molecules the model generated in the given epoch:"
   ]
  },
  {
   "cell_type": "code",
   "execution_count": 36,
   "id": "6fb3c043-e51d-4b8a-82f2-5da0eb7afdb6",
   "metadata": {},
   "outputs": [
    {
     "data": {
      "text/plain": [
       "<AxesSubplot:xlabel='epoch', ylabel='desire_ratio'>"
      ]
     },
     "execution_count": 36,
     "metadata": {},
     "output_type": "execute_result"
    },
    {
     "data": {
      "image/png": "[encoded data removed]",
      "text/plain": [
       "<Figure size 432x288 with 1 Axes>"
      ]
     },
     "metadata": {
      "needs_background": "light"
     },
     "output_type": "display_data"
    }
   ],
   "source": [
    "df_perf.plot.scatter(x='epoch', y='desire_ratio', style='b')"
   ]
  },
  {
   "cell_type": "markdown",
   "id": "e7db07f6-cc3a-4942-b507-f7b61a90901d",
   "metadata": {},
   "source": [
    "As we can see, our model is not very stable in this regard, but it seems that desirability tends to increase overall.\n",
    "\n",
    "More insight can also be gained from the generated `.tsv` file with the modified scores, structures and input fragments for the generated validation molecules at each epoch:"
   ]
  },
  {
   "cell_type": "code",
   "execution_count": 38,
   "id": "37d1c1c2-8cb8-4cfb-9a74-19ff8e8b6f22",
   "metadata": {},
   "outputs": [
    {
     "data": {
      "text/html": [
       "<div>\n",
       "<style scoped>\n",
       "    .dataframe tbody tr th:only-of-type {\n",
       "        vertical-align: middle;\n",
       "    }\n",
       "\n",
       "    .dataframe tbody tr th {\n",
       "        vertical-align: top;\n",
       "    }\n",
       "\n",
       "    .dataframe thead th {\n",
       "        text-align: right;\n",
       "    }\n",
       "</style>\n",
       "<table border=\"1\" class=\"dataframe\">\n",
       "  <thead>\n",
       "    <tr style=\"text-align: right;\">\n",
       "      <th></th>\n",
       "      <th>Epoch</th>\n",
       "      <th>Smiles</th>\n",
       "      <th>A1_&lt;class 'sklearn.ensemble._forest.RandomForestRegressor'&gt;</th>\n",
       "      <th>A2_&lt;class 'sklearn.ensemble._forest.RandomForestRegressor'&gt;</th>\n",
       "      <th>logP</th>\n",
       "      <th>MW</th>\n",
       "      <th>DESIRE</th>\n",
       "      <th>VALID</th>\n",
       "      <th>Frag</th>\n",
       "    </tr>\n",
       "  </thead>\n",
       "  <tbody>\n",
       "    <tr>\n",
       "      <th>0</th>\n",
       "      <td>1</td>\n",
       "      <td>COc1ccc(-c2ccc(C(=O)N3CCN(C=O)C(C)C3)o2)cc1</td>\n",
       "      <td>1.000</td>\n",
       "      <td>0.884</td>\n",
       "      <td>1.000</td>\n",
       "      <td>1.000</td>\n",
       "      <td>0.0</td>\n",
       "      <td>1.0</td>\n",
       "      <td>C=O.c1ccccc1.c1ccoc1</td>\n",
       "    </tr>\n",
       "    <tr>\n",
       "      <th>1</th>\n",
       "      <td>1</td>\n",
       "      <td>Nc1sc2c(c1C(=O)c1cccc3ccccc13)CCCC2</td>\n",
       "      <td>1.000</td>\n",
       "      <td>0.949</td>\n",
       "      <td>0.703</td>\n",
       "      <td>1.000</td>\n",
       "      <td>0.0</td>\n",
       "      <td>1.0</td>\n",
       "      <td>Nc1cc2c(s1)CCCC2.c1ccc2ccccc2c1</td>\n",
       "    </tr>\n",
       "    <tr>\n",
       "      <th>2</th>\n",
       "      <td>1</td>\n",
       "      <td>CCOc1cc(C(CC(=O)O)NC(=O)C2CCCC(NC(=O)OC3=CC(C(...</td>\n",
       "      <td>0.817</td>\n",
       "      <td>1.000</td>\n",
       "      <td>0.000</td>\n",
       "      <td>0.629</td>\n",
       "      <td>0.0</td>\n",
       "      <td>1.0</td>\n",
       "      <td>FC(F)F</td>\n",
       "    </tr>\n",
       "    <tr>\n",
       "      <th>3</th>\n",
       "      <td>1</td>\n",
       "      <td>CC(=O)CN1CCN(c2nc(-c3cc[nH]n3)n3ccnc3n2)C(C)C1</td>\n",
       "      <td>1.000</td>\n",
       "      <td>0.835</td>\n",
       "      <td>1.000</td>\n",
       "      <td>1.000</td>\n",
       "      <td>0.0</td>\n",
       "      <td>1.0</td>\n",
       "      <td>CC(C)=O.c1cn2cncnc2n1</td>\n",
       "    </tr>\n",
       "    <tr>\n",
       "      <th>4</th>\n",
       "      <td>1</td>\n",
       "      <td>CC1=C(C=O)C(c2ccc(Cl)s2)C(C(=O)OC2=C(Cl)C(=NC(...</td>\n",
       "      <td>1.000</td>\n",
       "      <td>0.777</td>\n",
       "      <td>0.000</td>\n",
       "      <td>0.824</td>\n",
       "      <td>0.0</td>\n",
       "      <td>1.0</td>\n",
       "      <td>CC1=C(C=O)CC(C=O)=C(C)N1</td>\n",
       "    </tr>\n",
       "  </tbody>\n",
       "</table>\n",
       "</div>"
      ],
      "text/plain": [
       "   Epoch                                             Smiles  \\\n",
       "0      1        COc1ccc(-c2ccc(C(=O)N3CCN(C=O)C(C)C3)o2)cc1   \n",
       "1      1                Nc1sc2c(c1C(=O)c1cccc3ccccc13)CCCC2   \n",
       "2      1  CCOc1cc(C(CC(=O)O)NC(=O)C2CCCC(NC(=O)OC3=CC(C(...   \n",
       "3      1     CC(=O)CN1CCN(c2nc(-c3cc[nH]n3)n3ccnc3n2)C(C)C1   \n",
       "4      1  CC1=C(C=O)C(c2ccc(Cl)s2)C(C(=O)OC2=C(Cl)C(=NC(...   \n",
       "\n",
       "   A1_<class 'sklearn.ensemble._forest.RandomForestRegressor'>  \\\n",
       "0                                              1.000             \n",
       "1                                              1.000             \n",
       "2                                              0.817             \n",
       "3                                              1.000             \n",
       "4                                              1.000             \n",
       "\n",
       "   A2_<class 'sklearn.ensemble._forest.RandomForestRegressor'>   logP     MW  \\\n",
       "0                                              0.884            1.000  1.000   \n",
       "1                                              0.949            0.703  1.000   \n",
       "2                                              1.000            0.000  0.629   \n",
       "3                                              0.835            1.000  1.000   \n",
       "4                                              0.777            0.000  0.824   \n",
       "\n",
       "   DESIRE  VALID                             Frag  \n",
       "0     0.0    1.0             C=O.c1ccccc1.c1ccoc1  \n",
       "1     0.0    1.0  Nc1cc2c(s1)CCCC2.c1ccc2ccccc2c1  \n",
       "2     0.0    1.0                           FC(F)F  \n",
       "3     0.0    1.0            CC(C)=O.c1cn2cncnc2n1  \n",
       "4     0.0    1.0         CC1=C(C=O)CC(C=O)=C(C)N1  "
      ]
     },
     "execution_count": 38,
     "metadata": {},
     "output_type": "execute_result"
    }
   ],
   "source": [
    "df_valid = pd.read_table('data/models/reinforced/graph/agent_smiles.tsv')\n",
    "df_valid.head()"
   ]
  },
  {
   "cell_type": "code",
   "execution_count": 39,
   "id": "2ca40c2b-5e66-4df7-9622-b7ddb9735801",
   "metadata": {},
   "outputs": [
    {
     "data": {
      "text/html": [
       "<div>\n",
       "<style scoped>\n",
       "    .dataframe tbody tr th:only-of-type {\n",
       "        vertical-align: middle;\n",
       "    }\n",
       "\n",
       "    .dataframe tbody tr th {\n",
       "        vertical-align: top;\n",
       "    }\n",
       "\n",
       "    .dataframe thead th {\n",
       "        text-align: right;\n",
       "    }\n",
       "</style>\n",
       "<table border=\"1\" class=\"dataframe\">\n",
       "  <thead>\n",
       "    <tr style=\"text-align: right;\">\n",
       "      <th></th>\n",
       "      <th>Epoch</th>\n",
       "      <th>Smiles</th>\n",
       "      <th>A1_&lt;class 'sklearn.ensemble._forest.RandomForestRegressor'&gt;</th>\n",
       "      <th>A2_&lt;class 'sklearn.ensemble._forest.RandomForestRegressor'&gt;</th>\n",
       "      <th>logP</th>\n",
       "      <th>MW</th>\n",
       "      <th>DESIRE</th>\n",
       "      <th>VALID</th>\n",
       "      <th>Frag</th>\n",
       "    </tr>\n",
       "  </thead>\n",
       "  <tbody>\n",
       "    <tr>\n",
       "      <th>1600</th>\n",
       "      <td>10</td>\n",
       "      <td>CCCC(=C(OCC1CNC(C)C1)c1ccccc1)C(c1cn[nH]c1)c1c...</td>\n",
       "      <td>1.000</td>\n",
       "      <td>0.936</td>\n",
       "      <td>0.000</td>\n",
       "      <td>1.0</td>\n",
       "      <td>0.0</td>\n",
       "      <td>1.0</td>\n",
       "      <td>C1CCNC1.Cc1ccco1.c1cncnc1</td>\n",
       "    </tr>\n",
       "    <tr>\n",
       "      <th>1601</th>\n",
       "      <td>10</td>\n",
       "      <td>CC1CC(=O)C1C(NC(=O)c1cc(Br)cc(Br)c1N)c1ccccc1</td>\n",
       "      <td>0.927</td>\n",
       "      <td>0.824</td>\n",
       "      <td>0.755</td>\n",
       "      <td>1.0</td>\n",
       "      <td>0.0</td>\n",
       "      <td>1.0</td>\n",
       "      <td>Nc1ccc(Br)cc1Br</td>\n",
       "    </tr>\n",
       "    <tr>\n",
       "      <th>1602</th>\n",
       "      <td>10</td>\n",
       "      <td>CC(C)N1CCCC1c1ncnc(-c2nccn2O)c1Cc1ccc(CC2CCNC2)o1</td>\n",
       "      <td>0.953</td>\n",
       "      <td>0.952</td>\n",
       "      <td>1.000</td>\n",
       "      <td>1.0</td>\n",
       "      <td>0.0</td>\n",
       "      <td>1.0</td>\n",
       "      <td>C1CCNC1.Cc1ccco1.c1cncnc1</td>\n",
       "    </tr>\n",
       "    <tr>\n",
       "      <th>1603</th>\n",
       "      <td>10</td>\n",
       "      <td>C(=Nc1nc(-c2ccoc2)nc2ncnn12)N1CCCC1</td>\n",
       "      <td>1.000</td>\n",
       "      <td>0.936</td>\n",
       "      <td>1.000</td>\n",
       "      <td>1.0</td>\n",
       "      <td>0.0</td>\n",
       "      <td>1.0</td>\n",
       "      <td>C1CCNC1.Nc1ncnc2ncnn12.c1ccoc1</td>\n",
       "    </tr>\n",
       "    <tr>\n",
       "      <th>1604</th>\n",
       "      <td>10</td>\n",
       "      <td>O=C1OCC=COC1=Cc1ccc(-c2c(F)cc(F)cc2F)o1</td>\n",
       "      <td>1.000</td>\n",
       "      <td>0.717</td>\n",
       "      <td>1.000</td>\n",
       "      <td>1.0</td>\n",
       "      <td>0.0</td>\n",
       "      <td>1.0</td>\n",
       "      <td>Fc1cc(F)cc(F)c1.c1ccoc1</td>\n",
       "    </tr>\n",
       "  </tbody>\n",
       "</table>\n",
       "</div>"
      ],
      "text/plain": [
       "      Epoch                                             Smiles  \\\n",
       "1600     10  CCCC(=C(OCC1CNC(C)C1)c1ccccc1)C(c1cn[nH]c1)c1c...   \n",
       "1601     10      CC1CC(=O)C1C(NC(=O)c1cc(Br)cc(Br)c1N)c1ccccc1   \n",
       "1602     10  CC(C)N1CCCC1c1ncnc(-c2nccn2O)c1Cc1ccc(CC2CCNC2)o1   \n",
       "1603     10                C(=Nc1nc(-c2ccoc2)nc2ncnn12)N1CCCC1   \n",
       "1604     10            O=C1OCC=COC1=Cc1ccc(-c2c(F)cc(F)cc2F)o1   \n",
       "\n",
       "      A1_<class 'sklearn.ensemble._forest.RandomForestRegressor'>  \\\n",
       "1600                                              1.000             \n",
       "1601                                              0.927             \n",
       "1602                                              0.953             \n",
       "1603                                              1.000             \n",
       "1604                                              1.000             \n",
       "\n",
       "      A2_<class 'sklearn.ensemble._forest.RandomForestRegressor'>   logP   MW  \\\n",
       "1600                                              0.936            0.000  1.0   \n",
       "1601                                              0.824            0.755  1.0   \n",
       "1602                                              0.952            1.000  1.0   \n",
       "1603                                              0.936            1.000  1.0   \n",
       "1604                                              0.717            1.000  1.0   \n",
       "\n",
       "      DESIRE  VALID                            Frag  \n",
       "1600     0.0    1.0       C1CCNC1.Cc1ccco1.c1cncnc1  \n",
       "1601     0.0    1.0                 Nc1ccc(Br)cc1Br  \n",
       "1602     0.0    1.0       C1CCNC1.Cc1ccco1.c1cncnc1  \n",
       "1603     0.0    1.0  C1CCNC1.Nc1ncnc2ncnn12.c1ccoc1  \n",
       "1604     0.0    1.0         Fc1cc(F)cc(F)c1.c1ccoc1  "
      ]
     },
     "execution_count": 39,
     "metadata": {},
     "output_type": "execute_result"
    }
   ],
   "source": [
    "df_valid.tail()"
   ]
  },
  {
   "cell_type": "code",
   "execution_count": null,
   "id": "fa040289-3105-458a-9e80-7662c49185d2",
   "metadata": {},
   "outputs": [],
   "source": []
  }
 ],
 "metadata": {
  "kernelspec": {
   "display_name": "Python 3 (ipykernel)",
   "language": "python",
   "name": "python3"
  },
  "language_info": {
   "codemirror_mode": {
    "name": "ipython",
    "version": 3
   },
   "file_extension": ".py",
   "mimetype": "text/x-python",
   "name": "python",
   "nbconvert_exporter": "python",
   "pygments_lexer": "ipython3",
   "version": "3.9.12"
  }
 },
 "nbformat": 4,
 "nbformat_minor": 5
}
